{
 "cells": [
  {
   "cell_type": "code",
   "execution_count": 1,
   "metadata": {},
   "outputs": [],
   "source": [
    "import cv2\n",
    "import os\n",
    "\n",
    "import numpy as np\n",
    "import pandas as pd\n",
    "\n",
    "import albumentations\n",
    "import joblib\n",
    "import pretrainedmodels\n",
    "import torch\n",
    "import torch.nn as nn\n",
    "\n",
    "from iterstrat.ml_stratifiers import MultilabelStratifiedKFold\n",
    "\n",
    "from sklearn.model_selection import train_test_split, StratifiedShuffleSplit\n",
    "from sklearn.utils import shuffle\n",
    "from sklearn import metrics\n",
    "\n",
    "from torch.nn import functional as F\n",
    "from torch.autograd import Variable\n",
    "from torch.utils.data import Dataset, DataLoader\n",
    "from torch.autograd import Variable\n",
    "from torchvision import transforms, utils, models, datasets\n",
    "from torchsummary import summary\n",
    "\n",
    "from tqdm.notebook import tqdm\n",
    "\n",
    "\n",
    "\n",
    "from PIL import Image\n",
    "import matplotlib.pyplot as plt\n",
    "import seaborn as sn"
   ]
  },
  {
   "cell_type": "code",
   "execution_count": 2,
   "metadata": {},
   "outputs": [],
   "source": [
    "TRAIN_CSV_PATH = \"../data/train.csv\"\n",
    "STRATIFIED_CSV_PATH = \"../data/stratified_train.csv\"\n",
    "\n",
    "TRAIN_IMG_PATH = \"../train_images/\"\n",
    "COMBINED_IMAGE_PATH = \"../data/\"\n",
    "\n",
    "TRAIN = ['../data/train_image_data_0.parquet',\n",
    "         '../data/train_image_data_1.parquet',\n",
    "         '../data/train_image_data_2.parquet',\n",
    "         '../data/train_image_data_3.parquet']\n",
    "\n",
    "TEST_CSV_PATH = \"../data/test.csv\"\n",
    "\n",
    "FOLDS = 5 # Represents stratification folds\n",
    "EPOCHS = 50 # number of iterations for running the model\n",
    "TRAIN_BATCH_SIZE = 32 # batch size to train from train set\n",
    "VALIDATION_BATCH_SIZE = 32 # batch size to validate from validation set"
   ]
  },
  {
   "cell_type": "code",
   "execution_count": 3,
   "metadata": {},
   "outputs": [
    {
     "data": {
      "text/html": [
       "<div>\n",
       "<style scoped>\n",
       "    .dataframe tbody tr th:only-of-type {\n",
       "        vertical-align: middle;\n",
       "    }\n",
       "\n",
       "    .dataframe tbody tr th {\n",
       "        vertical-align: top;\n",
       "    }\n",
       "\n",
       "    .dataframe thead th {\n",
       "        text-align: right;\n",
       "    }\n",
       "</style>\n",
       "<table border=\"1\" class=\"dataframe\">\n",
       "  <thead>\n",
       "    <tr style=\"text-align: right;\">\n",
       "      <th></th>\n",
       "      <th>image_id</th>\n",
       "      <th>grapheme_root</th>\n",
       "      <th>vowel_diacritic</th>\n",
       "      <th>consonant_diacritic</th>\n",
       "      <th>grapheme</th>\n",
       "      <th>kfold</th>\n",
       "    </tr>\n",
       "  </thead>\n",
       "  <tbody>\n",
       "    <tr>\n",
       "      <th>0</th>\n",
       "      <td>Train_35448</td>\n",
       "      <td>72</td>\n",
       "      <td>3</td>\n",
       "      <td>5</td>\n",
       "      <td>দ্রী</td>\n",
       "      <td>2</td>\n",
       "    </tr>\n",
       "    <tr>\n",
       "      <th>1</th>\n",
       "      <td>Train_143589</td>\n",
       "      <td>81</td>\n",
       "      <td>0</td>\n",
       "      <td>2</td>\n",
       "      <td>র্ন</td>\n",
       "      <td>4</td>\n",
       "    </tr>\n",
       "    <tr>\n",
       "      <th>2</th>\n",
       "      <td>Train_52740</td>\n",
       "      <td>42</td>\n",
       "      <td>9</td>\n",
       "      <td>0</td>\n",
       "      <td>ছো</td>\n",
       "      <td>1</td>\n",
       "    </tr>\n",
       "    <tr>\n",
       "      <th>3</th>\n",
       "      <td>Train_145513</td>\n",
       "      <td>43</td>\n",
       "      <td>2</td>\n",
       "      <td>4</td>\n",
       "      <td>জ্যি</td>\n",
       "      <td>1</td>\n",
       "    </tr>\n",
       "    <tr>\n",
       "      <th>4</th>\n",
       "      <td>Train_32515</td>\n",
       "      <td>141</td>\n",
       "      <td>7</td>\n",
       "      <td>5</td>\n",
       "      <td>ষ্ট্রে</td>\n",
       "      <td>3</td>\n",
       "    </tr>\n",
       "  </tbody>\n",
       "</table>\n",
       "</div>"
      ],
      "text/plain": [
       "       image_id  grapheme_root  vowel_diacritic  consonant_diacritic grapheme  \\\n",
       "0   Train_35448             72                3                    5     দ্রী   \n",
       "1  Train_143589             81                0                    2      র্ন   \n",
       "2   Train_52740             42                9                    0       ছো   \n",
       "3  Train_145513             43                2                    4     জ্যি   \n",
       "4   Train_32515            141                7                    5   ষ্ট্রে   \n",
       "\n",
       "   kfold  \n",
       "0      2  \n",
       "1      4  \n",
       "2      1  \n",
       "3      1  \n",
       "4      3  "
      ]
     },
     "execution_count": 3,
     "metadata": {},
     "output_type": "execute_result"
    }
   ],
   "source": [
    "def generate_stratified_df():\n",
    "    if os.path.exists(STRATIFIED_CSV_PATH):\n",
    "        return pd.read_csv(STRATIFIED_CSV_PATH)\n",
    "    else:\n",
    "        df = pd.read_csv(TRAIN_CSV_PATH)\n",
    "        print(df.shape)\n",
    "        #Only used for testing purposes\n",
    "        df = df.sample(frac = 0.2, random_state=0)\n",
    "        \n",
    "        df.loc[:, 'kfold'] = -1\n",
    "        df = df.sample(frac=1).reset_index(drop=True)\n",
    "        x = df.image_id.values\n",
    "        y = df[['grapheme_root', 'vowel_diacritic', 'consonant_diacritic']].values\n",
    "        mskf = MultilabelStratifiedKFold(n_splits=5)\n",
    "        \n",
    "        for fold, (trn_, val_) in enumerate(mskf.split(x, y)):\n",
    "            df.loc[val_, \"kfold\"] = fold\n",
    "\n",
    "        df.to_csv(STRATIFIED_CSV_PATH, index=False)\n",
    "        print(df.shape)\n",
    "        return df\n",
    "\n",
    "train_df = generate_stratified_df()\n",
    "train_df.head()"
   ]
  },
  {
   "cell_type": "code",
   "execution_count": 4,
   "metadata": {},
   "outputs": [],
   "source": [
    "def generate_images():\n",
    "    if os.path.exists(TRAIN_IMG_PATH):\n",
    "        return\n",
    "    \n",
    "    os.makedirs(TRAIN_IMG_PATH)\n",
    "    for fname in TRAIN:\n",
    "        df = pd.read_parquet(fname)\n",
    "        image_ids = df.image_id.values\n",
    "        df = df.drop(\"image_id\", axis=1)\n",
    "        image_array = df.values\n",
    "        for j, image_id in tqdm(enumerate(image_ids), total=len(image_ids)):\n",
    "            joblib.dump(image_array[j, :], TRAIN_IMG_PATH + image_id + \".pkl\")\n",
    "\n",
    "generate_images()            "
   ]
  },
  {
   "cell_type": "code",
   "execution_count": 5,
   "metadata": {},
   "outputs": [],
   "source": [
    "class GraphemeDataset(Dataset):\n",
    "    def __init__(self, label_df, augmentation=False):\n",
    "        self.label_df = label_df\n",
    "        if augmentation:\n",
    "            self.transforms = albumentations.Compose([\n",
    "                    albumentations.Resize(137, 236, always_apply=True),\n",
    "                    albumentations.ShiftScaleRotate(shift_limit=0.0625,\n",
    "                                               scale_limit=0.1, \n",
    "                                               rotate_limit=5,\n",
    "                                               p=0.9),\n",
    "                    albumentations.Normalize((0.485, 0.456, 0.406), \n",
    "                                             (0.229, 0.224, 0.225),\n",
    "                                             always_apply=True)\n",
    "                ])\n",
    "        else:\n",
    "            self.transforms = albumentations.Compose([\n",
    "                    albumentations.Resize(137, 236, always_apply=True),\n",
    "                    albumentations.Normalize((0.485, 0.456, 0.406), \n",
    "                                             (0.229, 0.224, 0.225),\n",
    "                                             always_apply=True)\n",
    "                ])\n",
    "            \n",
    "    \n",
    "    def __len__(self):\n",
    "        return len(self.label_df)\n",
    "    \n",
    "    def __getitem__(self,idx):\n",
    "        label1 = torch.tensor(self.label_df.grapheme_root.values[idx], dtype=torch.long)\n",
    "        label2 = torch.tensor(self.label_df.vowel_diacritic.values[idx], dtype=torch.long)\n",
    "        label3 = torch.tensor(self.label_df.consonant_diacritic.values[idx], dtype=torch.long)\n",
    "        \n",
    "        image = joblib.load(TRAIN_IMG_PATH + self.label_df.image_id.values[idx] + \".pkl\")\n",
    "        image = image.reshape(137,236).astype(float)\n",
    "        image = Image.fromarray(image).convert(\"RGB\")\n",
    "        image = self.transforms(image=np.array(image))[\"image\"]\n",
    "            \n",
    "        image = np.transpose(image, (2, 0, 1)).astype(np.float32)\n",
    "        image = torch.tensor(image, dtype=torch.float) \n",
    "        return image,label1,label2,label3"
   ]
  },
  {
   "cell_type": "code",
   "execution_count": 6,
   "metadata": {},
   "outputs": [],
   "source": [
    "class ResNet34(nn.Module):\n",
    "    def __init__(self, pretrained):\n",
    "        super(ResNet34, self).__init__()\n",
    "        if pretrained is True:\n",
    "            self.model = pretrainedmodels.__dict__[\"resnet34\"](pretrained=\"imagenet\")\n",
    "        else:\n",
    "            self.model = pretrainedmodels.__dict__[\"resnet34\"](pretrained=None)\n",
    "        \n",
    "        # grapheme_root\n",
    "        self.l0 = nn.Linear(512, 168)\n",
    "        \n",
    "        # vowel_diacritic\n",
    "        self.l1 = nn.Linear(512, 11)\n",
    "        \n",
    "        # consonant_diacritic\n",
    "        self.l2 = nn.Linear(512, 7)\n",
    "\n",
    "    def forward(self, x):\n",
    "        bs, _, _, _ = x.shape\n",
    "        x = self.model.features(x)\n",
    "        x = F.adaptive_avg_pool2d(x, 1).reshape(bs, -1)\n",
    "        l0 = self.l0(x)\n",
    "        l1 = self.l1(x)\n",
    "        l2 = self.l2(x)\n",
    "        return l0, l1, l2"
   ]
  },
  {
   "cell_type": "code",
   "execution_count": 7,
   "metadata": {},
   "outputs": [],
   "source": [
    "def run_model(model, optimizer, criterion, scheduler, \n",
    "              folds=5, epochs=20, train_batch_size=32, validation_batch_size=32):\n",
    "    \n",
    "    train_validate_df = generate_stratified_df()\n",
    "    best_acc = 0.0\n",
    "    train_losses = []\n",
    "    train_recalls = []\n",
    "    valid_losses = []\n",
    "    valid_recalls = []\n",
    "    final_train_outputs = final_train_targets = final_valid_outputs = final_valid_targets = None  \n",
    "    for fold in range(folds):\n",
    "        print('folds {}/{} '.format(fold+1,folds))\n",
    "        \n",
    "        train_df = train_validate_df[~train_validate_df.kfold.isin([fold])].reset_index(drop=True)\n",
    "        validate_df = train_validate_df[train_validate_df.kfold.isin([fold])].reset_index(drop=True)\n",
    "        \n",
    "        train_image = GraphemeDataset(train_df)\n",
    "        validation_image = GraphemeDataset(validate_df)\n",
    "        \n",
    "        train_loader = DataLoader(train_image, \n",
    "                batch_size=train_batch_size, shuffle=True, num_workers=4)\n",
    "        \n",
    "        validation_loader = DataLoader(validation_image,\n",
    "            batch_size=validation_batch_size, shuffle=True, num_workers=4)\n",
    "        \n",
    "\n",
    "        \n",
    "        for epoch in range(epochs):\n",
    "            print('epochs {}/{} '.format(epoch+1,epochs))\n",
    "            validation_loss = 0.0\n",
    "            validation_acc = 0.0\n",
    "            \n",
    "            train_recall, train_loss, train_outputs, train_targets  = train_model(model, optimizer, criterion, train_image, train_loader)\n",
    "            train_losses.append(train_loss)\n",
    "            train_recalls.append(train_recall)\n",
    "            \n",
    "            valid_recall, valid_loss, valid_outputs, valid_targets = validate_model(model, optimizer, criterion, validation_image, validation_loader)\n",
    "            valid_losses.append(valid_loss)\n",
    "            valid_recalls.append(valid_recall)\n",
    "            \n",
    "            scheduler.step(valid_loss)\n",
    "\n",
    "            if train_recall > best_acc:\n",
    "                best_acc = train_recall\n",
    "                final_train_outputs, final_train_targets, final_valid_outputs, final_valid_targets = train_outputs, train_targets, valid_outputs, valid_targets\n",
    "                torch.save(model.state_dict(), \"Resnet34.pth\")\n",
    "        \n",
    "            print('epochs {}/{} completed'.format(epoch+1,epochs))\n",
    "            \n",
    "        print('folds {}/{} completed'.format(fold+1,folds))\n",
    "\n",
    "    return train_recalls, train_losses, valid_recalls, valid_losses, final_train_outputs, final_train_targets, final_valid_outputs, final_valid_targets  \n"
   ]
  },
  {
   "cell_type": "code",
   "execution_count": 8,
   "metadata": {},
   "outputs": [],
   "source": [
    "def train_model(model, optimizer, criterion, train_dataset, train_loader):\n",
    "    model.train(True)\n",
    "    train_acc = 0.0\n",
    "    train_loss = 0.0\n",
    "    final_outputs = []\n",
    "    final_targets = []\n",
    "    for idx, (inputs,labels1,labels2,labels3) in tqdm(\n",
    "        enumerate(train_loader), total=int(len(train_dataset)/train_loader.batch_size)):\n",
    "        inputs = inputs.to(device, dtype=torch.float)\n",
    "\n",
    "        labels1 = labels1.to(device, dtype=torch.long)\n",
    "        labels2 = labels2.to(device, dtype=torch.long)\n",
    "        labels3 = labels3.to(device, dtype=torch.long)\n",
    "\n",
    "        optimizer.zero_grad()\n",
    "        outputs1,outputs2,outputs3 = model(inputs)\n",
    "\n",
    "        loss1 = criterion(outputs1,labels1)\n",
    "        loss2 = criterion(outputs2,labels2)\n",
    "        loss3 = criterion(outputs3,labels3)\n",
    "        loss = (loss1 + loss2 + loss3)/3\n",
    "        \n",
    "        (loss).backward()\n",
    "        optimizer.step()\n",
    "        \n",
    "        train_loss += loss\n",
    "        \n",
    "        final_outputs.append(torch.cat((outputs1,outputs2,outputs3), dim=1))\n",
    "        final_targets.append(torch.stack((labels1,labels2,labels3), dim=1))\n",
    "    \n",
    "    training_loss = train_loss / int(len(train_dataset)/train_loader.batch_size)\n",
    "    \n",
    "    final_outputs = torch.cat(final_outputs)\n",
    "    final_targets = torch.cat(final_targets)\n",
    "    macro_recall_score = macro_recall(final_outputs, final_targets)\n",
    "    \n",
    "    print('recall score : {:.4f}'.format(macro_recall_score))\n",
    "    print('train loss : {:.4f}'.format(training_loss))\n",
    "    \n",
    "    return macro_recall_score, train_loss, final_outputs, final_targets\n",
    "    "
   ]
  },
  {
   "cell_type": "code",
   "execution_count": 9,
   "metadata": {},
   "outputs": [],
   "source": [
    "def validate_model(model, optimiser, criterion, valid_dataset, valid_loader):\n",
    "    with torch.no_grad():\n",
    "        model.eval()\n",
    "        valid_acc = 0.0\n",
    "        valid_loss = 0.0\n",
    "        final_outputs = []\n",
    "        final_targets = []\n",
    "        for idx, (inputs,labels1,labels2,labels3) in tqdm(\n",
    "            enumerate(valid_loader), total=int(len(valid_dataset)/valid_loader.batch_size)):\n",
    "            inputs = inputs.to(device, dtype=torch.float)\n",
    "\n",
    "            labels1 = labels1.to(device, dtype=torch.long)\n",
    "            labels2 = labels2.to(device, dtype=torch.long)\n",
    "            labels3 = labels3.to(device, dtype=torch.long)\n",
    "\n",
    "            outputs1,outputs2,outputs3 = model(inputs)\n",
    "\n",
    "            loss1 = criterion(outputs1,labels1)\n",
    "            loss2 = criterion(outputs2,labels2)\n",
    "            loss3 = criterion(outputs3,labels3)\n",
    "\n",
    "            loss = (loss1+loss2+loss3)/3\n",
    "            valid_loss += loss\n",
    "\n",
    "            final_outputs.append(torch.cat((outputs1,outputs2,outputs3), dim=1))\n",
    "            final_targets.append(torch.stack((labels1,labels2,labels3), dim=1))\n",
    "\n",
    "        \n",
    "        valid_loss = valid_loss / int(len(valid_dataset)/valid_loader.batch_size)\n",
    "        \n",
    "        final_outputs = torch.cat(final_outputs)\n",
    "        final_targets = torch.cat(final_targets)\n",
    "        macro_recall_score = macro_recall(final_outputs, final_targets)\n",
    "        \n",
    "        print('recall score : {:.4f}'.format(macro_recall_score))\n",
    "        print('validation loss : {:.4f}'.format(valid_loss))\n",
    "\n",
    "        return macro_recall_score, valid_loss, final_outputs, final_targets\n",
    "        \n",
    "    "
   ]
  },
  {
   "cell_type": "code",
   "execution_count": 10,
   "metadata": {},
   "outputs": [],
   "source": [
    "def macro_recall(pred_y, y, n_grapheme=168, n_vowel=11, n_consonant=7):\n",
    "    \n",
    "    pred_y = torch.split(pred_y, [n_grapheme, n_vowel, n_consonant], dim=1)\n",
    "    pred_labels = [torch.argmax(py, dim=1).cpu().numpy() for py in pred_y]\n",
    "\n",
    "    y = y.cpu().numpy()\n",
    "\n",
    "    recall_grapheme = metrics.recall_score(pred_labels[0], y[:, 0], average='macro')\n",
    "    recall_vowel = metrics.recall_score(pred_labels[1], y[:, 1], average='macro')\n",
    "    recall_consonant = metrics.recall_score(pred_labels[2], y[:, 2], average='macro')\n",
    "    scores = [recall_grapheme, recall_vowel, recall_consonant]\n",
    "    final_score = np.average(scores, weights=[2, 1, 1])\n",
    "    print(f'recall: grapheme {recall_grapheme}, vowel {recall_vowel}, consonant {recall_consonant}, 'f'total {final_score}, y {y.shape}')\n",
    "    \n",
    "    return final_score\n",
    "    "
   ]
  },
  {
   "cell_type": "code",
   "execution_count": 11,
   "metadata": {},
   "outputs": [
    {
     "name": "stdout",
     "output_type": "stream",
     "text": [
      "Using GPU\n"
     ]
    }
   ],
   "source": [
    "device = torch.device(\"cuda:0\" if torch.cuda.is_available() else \"cpu\")\n",
    "\n",
    "if torch.cuda.is_available():\n",
    "    use_gpu = True\n",
    "    print(\"Using GPU\")\n",
    "else:\n",
    "    use_gpu = False\n",
    "    \n",
    "FloatTensor = torch.cuda.FloatTensor if use_gpu else torch.FloatTensor\n",
    "LongTensor = torch.cuda.LongTensor if use_gpu else torch.LongTensor\n",
    "ByteTensor = torch.cuda.ByteTensor if use_gpu else torch.ByteTensor\n",
    "Tensor = FloatTensor"
   ]
  },
  {
   "cell_type": "code",
   "execution_count": 12,
   "metadata": {},
   "outputs": [],
   "source": [
    "resnet_34 = ResNet34(False).to(device)\n",
    "optimizer = torch.optim.Adam(resnet_34.parameters(), lr=1e-4)\n",
    "criterion = nn.CrossEntropyLoss()\n",
    "#scheduler = torch.optim.lr_scheduler.StepLR(optimizer, step_size=7, gamma=0.1)\n",
    "scheduler = torch.optim.lr_scheduler.ReduceLROnPlateau(optimizer, \n",
    "                                                        mode=\"min\", \n",
    "                                                        patience=5, \n",
    "                                                        factor=0.3,verbose=True)"
   ]
  },
  {
   "cell_type": "code",
   "execution_count": 13,
   "metadata": {},
   "outputs": [
    {
     "name": "stdout",
     "output_type": "stream",
     "text": [
      "----------------------------------------------------------------\n",
      "        Layer (type)               Output Shape         Param #\n",
      "================================================================\n",
      "            Conv2d-1           [-1, 64, 32, 32]           9,408\n",
      "       BatchNorm2d-2           [-1, 64, 32, 32]             128\n",
      "              ReLU-3           [-1, 64, 32, 32]               0\n",
      "         MaxPool2d-4           [-1, 64, 16, 16]               0\n",
      "            Conv2d-5           [-1, 64, 16, 16]          36,864\n",
      "       BatchNorm2d-6           [-1, 64, 16, 16]             128\n",
      "              ReLU-7           [-1, 64, 16, 16]               0\n",
      "            Conv2d-8           [-1, 64, 16, 16]          36,864\n",
      "       BatchNorm2d-9           [-1, 64, 16, 16]             128\n",
      "             ReLU-10           [-1, 64, 16, 16]               0\n",
      "       BasicBlock-11           [-1, 64, 16, 16]               0\n",
      "           Conv2d-12           [-1, 64, 16, 16]          36,864\n",
      "      BatchNorm2d-13           [-1, 64, 16, 16]             128\n",
      "             ReLU-14           [-1, 64, 16, 16]               0\n",
      "           Conv2d-15           [-1, 64, 16, 16]          36,864\n",
      "      BatchNorm2d-16           [-1, 64, 16, 16]             128\n",
      "             ReLU-17           [-1, 64, 16, 16]               0\n",
      "       BasicBlock-18           [-1, 64, 16, 16]               0\n",
      "           Conv2d-19           [-1, 64, 16, 16]          36,864\n",
      "      BatchNorm2d-20           [-1, 64, 16, 16]             128\n",
      "             ReLU-21           [-1, 64, 16, 16]               0\n",
      "           Conv2d-22           [-1, 64, 16, 16]          36,864\n",
      "      BatchNorm2d-23           [-1, 64, 16, 16]             128\n",
      "             ReLU-24           [-1, 64, 16, 16]               0\n",
      "       BasicBlock-25           [-1, 64, 16, 16]               0\n",
      "           Conv2d-26            [-1, 128, 8, 8]          73,728\n",
      "      BatchNorm2d-27            [-1, 128, 8, 8]             256\n",
      "             ReLU-28            [-1, 128, 8, 8]               0\n",
      "           Conv2d-29            [-1, 128, 8, 8]         147,456\n",
      "      BatchNorm2d-30            [-1, 128, 8, 8]             256\n",
      "           Conv2d-31            [-1, 128, 8, 8]           8,192\n",
      "      BatchNorm2d-32            [-1, 128, 8, 8]             256\n",
      "             ReLU-33            [-1, 128, 8, 8]               0\n",
      "       BasicBlock-34            [-1, 128, 8, 8]               0\n",
      "           Conv2d-35            [-1, 128, 8, 8]         147,456\n",
      "      BatchNorm2d-36            [-1, 128, 8, 8]             256\n",
      "             ReLU-37            [-1, 128, 8, 8]               0\n",
      "           Conv2d-38            [-1, 128, 8, 8]         147,456\n",
      "      BatchNorm2d-39            [-1, 128, 8, 8]             256\n",
      "             ReLU-40            [-1, 128, 8, 8]               0\n",
      "       BasicBlock-41            [-1, 128, 8, 8]               0\n",
      "           Conv2d-42            [-1, 128, 8, 8]         147,456\n",
      "      BatchNorm2d-43            [-1, 128, 8, 8]             256\n",
      "             ReLU-44            [-1, 128, 8, 8]               0\n",
      "           Conv2d-45            [-1, 128, 8, 8]         147,456\n",
      "      BatchNorm2d-46            [-1, 128, 8, 8]             256\n",
      "             ReLU-47            [-1, 128, 8, 8]               0\n",
      "       BasicBlock-48            [-1, 128, 8, 8]               0\n",
      "           Conv2d-49            [-1, 128, 8, 8]         147,456\n",
      "      BatchNorm2d-50            [-1, 128, 8, 8]             256\n",
      "             ReLU-51            [-1, 128, 8, 8]               0\n",
      "           Conv2d-52            [-1, 128, 8, 8]         147,456\n",
      "      BatchNorm2d-53            [-1, 128, 8, 8]             256\n",
      "             ReLU-54            [-1, 128, 8, 8]               0\n",
      "       BasicBlock-55            [-1, 128, 8, 8]               0\n",
      "           Conv2d-56            [-1, 256, 4, 4]         294,912\n",
      "      BatchNorm2d-57            [-1, 256, 4, 4]             512\n",
      "             ReLU-58            [-1, 256, 4, 4]               0\n",
      "           Conv2d-59            [-1, 256, 4, 4]         589,824\n",
      "      BatchNorm2d-60            [-1, 256, 4, 4]             512\n",
      "           Conv2d-61            [-1, 256, 4, 4]          32,768\n",
      "      BatchNorm2d-62            [-1, 256, 4, 4]             512\n",
      "             ReLU-63            [-1, 256, 4, 4]               0\n",
      "       BasicBlock-64            [-1, 256, 4, 4]               0\n",
      "           Conv2d-65            [-1, 256, 4, 4]         589,824\n",
      "      BatchNorm2d-66            [-1, 256, 4, 4]             512\n",
      "             ReLU-67            [-1, 256, 4, 4]               0\n",
      "           Conv2d-68            [-1, 256, 4, 4]         589,824\n",
      "      BatchNorm2d-69            [-1, 256, 4, 4]             512\n",
      "             ReLU-70            [-1, 256, 4, 4]               0\n",
      "       BasicBlock-71            [-1, 256, 4, 4]               0\n",
      "           Conv2d-72            [-1, 256, 4, 4]         589,824\n",
      "      BatchNorm2d-73            [-1, 256, 4, 4]             512\n",
      "             ReLU-74            [-1, 256, 4, 4]               0\n",
      "           Conv2d-75            [-1, 256, 4, 4]         589,824\n",
      "      BatchNorm2d-76            [-1, 256, 4, 4]             512\n",
      "             ReLU-77            [-1, 256, 4, 4]               0\n",
      "       BasicBlock-78            [-1, 256, 4, 4]               0\n",
      "           Conv2d-79            [-1, 256, 4, 4]         589,824\n",
      "      BatchNorm2d-80            [-1, 256, 4, 4]             512\n",
      "             ReLU-81            [-1, 256, 4, 4]               0\n",
      "           Conv2d-82            [-1, 256, 4, 4]         589,824\n",
      "      BatchNorm2d-83            [-1, 256, 4, 4]             512\n",
      "             ReLU-84            [-1, 256, 4, 4]               0\n",
      "       BasicBlock-85            [-1, 256, 4, 4]               0\n",
      "           Conv2d-86            [-1, 256, 4, 4]         589,824\n",
      "      BatchNorm2d-87            [-1, 256, 4, 4]             512\n",
      "             ReLU-88            [-1, 256, 4, 4]               0\n",
      "           Conv2d-89            [-1, 256, 4, 4]         589,824\n",
      "      BatchNorm2d-90            [-1, 256, 4, 4]             512\n",
      "             ReLU-91            [-1, 256, 4, 4]               0\n",
      "       BasicBlock-92            [-1, 256, 4, 4]               0\n",
      "           Conv2d-93            [-1, 256, 4, 4]         589,824\n",
      "      BatchNorm2d-94            [-1, 256, 4, 4]             512\n",
      "             ReLU-95            [-1, 256, 4, 4]               0\n",
      "           Conv2d-96            [-1, 256, 4, 4]         589,824\n",
      "      BatchNorm2d-97            [-1, 256, 4, 4]             512\n",
      "             ReLU-98            [-1, 256, 4, 4]               0\n",
      "       BasicBlock-99            [-1, 256, 4, 4]               0\n",
      "          Conv2d-100            [-1, 512, 2, 2]       1,179,648\n",
      "     BatchNorm2d-101            [-1, 512, 2, 2]           1,024\n",
      "            ReLU-102            [-1, 512, 2, 2]               0\n",
      "          Conv2d-103            [-1, 512, 2, 2]       2,359,296\n",
      "     BatchNorm2d-104            [-1, 512, 2, 2]           1,024\n",
      "          Conv2d-105            [-1, 512, 2, 2]         131,072\n",
      "     BatchNorm2d-106            [-1, 512, 2, 2]           1,024\n",
      "            ReLU-107            [-1, 512, 2, 2]               0\n",
      "      BasicBlock-108            [-1, 512, 2, 2]               0\n",
      "          Conv2d-109            [-1, 512, 2, 2]       2,359,296\n",
      "     BatchNorm2d-110            [-1, 512, 2, 2]           1,024\n",
      "            ReLU-111            [-1, 512, 2, 2]               0\n",
      "          Conv2d-112            [-1, 512, 2, 2]       2,359,296\n",
      "     BatchNorm2d-113            [-1, 512, 2, 2]           1,024\n",
      "            ReLU-114            [-1, 512, 2, 2]               0\n",
      "      BasicBlock-115            [-1, 512, 2, 2]               0\n",
      "          Conv2d-116            [-1, 512, 2, 2]       2,359,296\n",
      "     BatchNorm2d-117            [-1, 512, 2, 2]           1,024\n",
      "            ReLU-118            [-1, 512, 2, 2]               0\n",
      "          Conv2d-119            [-1, 512, 2, 2]       2,359,296\n",
      "     BatchNorm2d-120            [-1, 512, 2, 2]           1,024\n",
      "            ReLU-121            [-1, 512, 2, 2]               0\n",
      "      BasicBlock-122            [-1, 512, 2, 2]               0\n",
      "          Linear-123                  [-1, 168]          86,184\n",
      "          Linear-124                   [-1, 11]           5,643\n",
      "          Linear-125                    [-1, 7]           3,591\n",
      "================================================================\n",
      "Total params: 21,380,090\n",
      "Trainable params: 21,380,090\n",
      "Non-trainable params: 0\n",
      "----------------------------------------------------------------\n",
      "Input size (MB): 0.05\n",
      "Forward/backward pass size (MB): 7.86\n",
      "Params size (MB): 81.56\n",
      "Estimated Total Size (MB): 89.47\n",
      "----------------------------------------------------------------\n"
     ]
    }
   ],
   "source": [
    "from torchsummary import summary\n",
    "summary(resnet_34, (3, 64, 64))"
   ]
  },
  {
   "cell_type": "code",
   "execution_count": 14,
   "metadata": {},
   "outputs": [
    {
     "name": "stdout",
     "output_type": "stream",
     "text": [
      "folds 1/3 \n",
      "epochs 1/20 \n"
     ]
    },
    {
     "data": {
      "application/vnd.jupyter.widget-view+json": {
       "model_id": "ec12c07441d64bee811d03c3cfb9ea1c",
       "version_major": 2,
       "version_minor": 0
      },
      "text/plain": [
       "HBox(children=(FloatProgress(value=0.0, max=1004.0), HTML(value='')))"
      ]
     },
     "metadata": {},
     "output_type": "display_data"
    },
    {
     "name": "stdout",
     "output_type": "stream",
     "text": [
      "\n",
      "recall: grapheme 0.10990944232279322, vowel 0.743688989418871, consonant 0.7676591190692978, total 0.4327917482834388, y (32135, 3)\n",
      "recall score : 0.4328\n",
      "train loss : 1.6938\n"
     ]
    },
    {
     "name": "stderr",
     "output_type": "stream",
     "text": [
      "/home2/mlstudent/Grapheme-Classification/ml_pkgs/lib/python3.6/site-packages/sklearn/metrics/_classification.py:1272: UndefinedMetricWarning: Recall is ill-defined and being set to 0.0 in labels with no true samples. Use `zero_division` parameter to control this behavior.\n",
      "  _warn_prf(average, modifier, msg_start, len(result))\n"
     ]
    },
    {
     "data": {
      "application/vnd.jupyter.widget-view+json": {
       "model_id": "6d7201c5fb334354879d1ad5de66ca94",
       "version_major": 2,
       "version_minor": 0
      },
      "text/plain": [
       "HBox(children=(FloatProgress(value=0.0, max=251.0), HTML(value='')))"
      ]
     },
     "metadata": {},
     "output_type": "display_data"
    },
    {
     "name": "stdout",
     "output_type": "stream",
     "text": [
      "\n",
      "recall: grapheme 0.2310246829745956, vowel 0.8431275544581598, consonant 0.8892814902003151, total 0.5486146026519165, y (8033, 3)\n",
      "recall score : 0.5486\n",
      "validation loss : 1.1738\n",
      "epochs 1/20 completed\n",
      "epochs 2/20 \n"
     ]
    },
    {
     "data": {
      "application/vnd.jupyter.widget-view+json": {
       "model_id": "31195c57f77b4b87a991cdd49f5b9547",
       "version_major": 2,
       "version_minor": 0
      },
      "text/plain": [
       "HBox(children=(FloatProgress(value=0.0, max=1004.0), HTML(value='')))"
      ]
     },
     "metadata": {},
     "output_type": "display_data"
    },
    {
     "name": "stdout",
     "output_type": "stream",
     "text": [
      "\n",
      "recall: grapheme 0.47323127845218227, vowel 0.878653742995163, consonant 0.9024249767793646, total 0.681885319169723, y (32135, 3)\n",
      "recall score : 0.6819\n",
      "train loss : 0.7766\n"
     ]
    },
    {
     "data": {
      "application/vnd.jupyter.widget-view+json": {
       "model_id": "da8ebcfec61e4db2bbb1c04cf31766af",
       "version_major": 2,
       "version_minor": 0
      },
      "text/plain": [
       "HBox(children=(FloatProgress(value=0.0, max=251.0), HTML(value='')))"
      ]
     },
     "metadata": {},
     "output_type": "display_data"
    },
    {
     "name": "stdout",
     "output_type": "stream",
     "text": [
      "\n",
      "recall: grapheme 0.47089961288453047, vowel 0.8836937879317898, consonant 0.8931397717351324, total 0.6796581963589958, y (8033, 3)\n",
      "recall score : 0.6797\n",
      "validation loss : 0.7918\n",
      "epochs 2/20 completed\n",
      "epochs 3/20 \n"
     ]
    },
    {
     "data": {
      "application/vnd.jupyter.widget-view+json": {
       "model_id": "10d2c8b4eaee4ad2b1506a9ca83370e0",
       "version_major": 2,
       "version_minor": 0
      },
      "text/plain": [
       "HBox(children=(FloatProgress(value=0.0, max=1004.0), HTML(value='')))"
      ]
     },
     "metadata": {},
     "output_type": "display_data"
    },
    {
     "name": "stdout",
     "output_type": "stream",
     "text": [
      "\n",
      "recall: grapheme 0.7122393588078405, vowel 0.9274379286194783, consonant 0.9291926423003783, total 0.8202773221338844, y (32135, 3)\n",
      "recall score : 0.8203\n",
      "train loss : 0.4380\n"
     ]
    },
    {
     "data": {
      "application/vnd.jupyter.widget-view+json": {
       "model_id": "962f1d4970194bf58ebdba3cee900534",
       "version_major": 2,
       "version_minor": 0
      },
      "text/plain": [
       "HBox(children=(FloatProgress(value=0.0, max=251.0), HTML(value='')))"
      ]
     },
     "metadata": {},
     "output_type": "display_data"
    },
    {
     "name": "stdout",
     "output_type": "stream",
     "text": [
      "\n",
      "recall: grapheme 0.7613460204303786, vowel 0.914608140406722, consonant 0.9122121614720612, total 0.8373780856848851, y (8033, 3)\n",
      "recall score : 0.8374\n",
      "validation loss : 0.4101\n",
      "epochs 3/20 completed\n",
      "epochs 4/20 \n"
     ]
    },
    {
     "data": {
      "application/vnd.jupyter.widget-view+json": {
       "model_id": "6584281ec2d648d2aaf98a29b9044854",
       "version_major": 2,
       "version_minor": 0
      },
      "text/plain": [
       "HBox(children=(FloatProgress(value=0.0, max=1004.0), HTML(value='')))"
      ]
     },
     "metadata": {},
     "output_type": "display_data"
    },
    {
     "name": "stdout",
     "output_type": "stream",
     "text": [
      "\n",
      "recall: grapheme 0.8040486879329533, vowel 0.9527795649724866, consonant 0.9445817916981772, total 0.8763646831341426, y (32135, 3)\n",
      "recall score : 0.8764\n",
      "train loss : 0.3010\n"
     ]
    },
    {
     "data": {
      "application/vnd.jupyter.widget-view+json": {
       "model_id": "11126c18c48c466da76dec60c76507d0",
       "version_major": 2,
       "version_minor": 0
      },
      "text/plain": [
       "HBox(children=(FloatProgress(value=0.0, max=251.0), HTML(value='')))"
      ]
     },
     "metadata": {},
     "output_type": "display_data"
    },
    {
     "name": "stdout",
     "output_type": "stream",
     "text": [
      "\n",
      "recall: grapheme 0.7602680954766556, vowel 0.9131735431498494, consonant 0.9459874554255195, total 0.8449242973821701, y (8033, 3)\n",
      "recall score : 0.8449\n",
      "validation loss : 0.3928\n",
      "epochs 4/20 completed\n",
      "epochs 5/20 \n"
     ]
    },
    {
     "data": {
      "application/vnd.jupyter.widget-view+json": {
       "model_id": "db1e710d2c104a2da86ca9d903a53d8e",
       "version_major": 2,
       "version_minor": 0
      },
      "text/plain": [
       "HBox(children=(FloatProgress(value=0.0, max=1004.0), HTML(value='')))"
      ]
     },
     "metadata": {},
     "output_type": "display_data"
    },
    {
     "name": "stdout",
     "output_type": "stream",
     "text": [
      "\n",
      "recall: grapheme 0.8503682034873992, vowel 0.9634123611552797, consonant 0.9604761056500601, total 0.9061562184450346, y (32135, 3)\n",
      "recall score : 0.9062\n",
      "train loss : 0.2204\n"
     ]
    },
    {
     "data": {
      "application/vnd.jupyter.widget-view+json": {
       "model_id": "e3afe85d43244f14bff4d18d48168c74",
       "version_major": 2,
       "version_minor": 0
      },
      "text/plain": [
       "HBox(children=(FloatProgress(value=0.0, max=251.0), HTML(value='')))"
      ]
     },
     "metadata": {},
     "output_type": "display_data"
    },
    {
     "name": "stdout",
     "output_type": "stream",
     "text": [
      "\n",
      "recall: grapheme 0.7774448586429356, vowel 0.9343878991650868, consonant 0.9238451212487975, total 0.8532806844249388, y (8033, 3)\n",
      "recall score : 0.8533\n",
      "validation loss : 0.4293\n",
      "epochs 5/20 completed\n",
      "epochs 6/20 \n"
     ]
    },
    {
     "data": {
      "application/vnd.jupyter.widget-view+json": {
       "model_id": "af72b790208b4907804d56bc4a4b251a",
       "version_major": 2,
       "version_minor": 0
      },
      "text/plain": [
       "HBox(children=(FloatProgress(value=0.0, max=1004.0), HTML(value='')))"
      ]
     },
     "metadata": {},
     "output_type": "display_data"
    },
    {
     "name": "stdout",
     "output_type": "stream",
     "text": [
      "\n",
      "recall: grapheme 0.8899748220574543, vowel 0.975542385030425, consonant 0.9697170048842888, total 0.9313022585074056, y (32135, 3)\n",
      "recall score : 0.9313\n",
      "train loss : 0.1633\n"
     ]
    },
    {
     "data": {
      "application/vnd.jupyter.widget-view+json": {
       "model_id": "62edd232ef2c4cbf9839b76851b42316",
       "version_major": 2,
       "version_minor": 0
      },
      "text/plain": [
       "HBox(children=(FloatProgress(value=0.0, max=251.0), HTML(value='')))"
      ]
     },
     "metadata": {},
     "output_type": "display_data"
    },
    {
     "name": "stdout",
     "output_type": "stream",
     "text": [
      "\n",
      "recall: grapheme 0.8032906955628153, vowel 0.9352247657852936, consonant 0.9362734888139712, total 0.8695199114312238, y (8033, 3)\n",
      "recall score : 0.8695\n",
      "validation loss : 0.3545\n",
      "epochs 6/20 completed\n",
      "epochs 7/20 \n"
     ]
    },
    {
     "data": {
      "application/vnd.jupyter.widget-view+json": {
       "model_id": "a97425255ff84e91a57b5c82c49c5dc4",
       "version_major": 2,
       "version_minor": 0
      },
      "text/plain": [
       "HBox(children=(FloatProgress(value=0.0, max=1004.0), HTML(value='')))"
      ]
     },
     "metadata": {},
     "output_type": "display_data"
    },
    {
     "name": "stdout",
     "output_type": "stream",
     "text": [
      "\n",
      "recall: grapheme 0.9068944635268591, vowel 0.9764069504131015, consonant 0.9707514280767634, total 0.9402368263858958, y (32135, 3)\n",
      "recall score : 0.9402\n",
      "train loss : 0.1340\n"
     ]
    },
    {
     "data": {
      "application/vnd.jupyter.widget-view+json": {
       "model_id": "210300124538428a9e3bebb75065f37c",
       "version_major": 2,
       "version_minor": 0
      },
      "text/plain": [
       "HBox(children=(FloatProgress(value=0.0, max=251.0), HTML(value='')))"
      ]
     },
     "metadata": {},
     "output_type": "display_data"
    },
    {
     "name": "stdout",
     "output_type": "stream",
     "text": [
      "\n",
      "recall: grapheme 0.806626135357712, vowel 0.952804002219903, consonant 0.9593849202435661, total 0.8813602982947233, y (8033, 3)\n",
      "recall score : 0.8814\n",
      "validation loss : 0.3010\n",
      "epochs 7/20 completed\n",
      "epochs 8/20 \n"
     ]
    },
    {
     "data": {
      "application/vnd.jupyter.widget-view+json": {
       "model_id": "b8187c54d7cb42baad28b082b4d144c7",
       "version_major": 2,
       "version_minor": 0
      },
      "text/plain": [
       "HBox(children=(FloatProgress(value=0.0, max=1004.0), HTML(value='')))"
      ]
     },
     "metadata": {},
     "output_type": "display_data"
    },
    {
     "name": "stdout",
     "output_type": "stream",
     "text": [
      "\n",
      "recall: grapheme 0.9312450977686074, vowel 0.9804345759631524, consonant 0.9729827862923168, total 0.953976889448171, y (32135, 3)\n",
      "recall score : 0.9540\n",
      "train loss : 0.1075\n"
     ]
    },
    {
     "data": {
      "application/vnd.jupyter.widget-view+json": {
       "model_id": "cac53c175bba468fba1a86c541f49eb8",
       "version_major": 2,
       "version_minor": 0
      },
      "text/plain": [
       "HBox(children=(FloatProgress(value=0.0, max=251.0), HTML(value='')))"
      ]
     },
     "metadata": {},
     "output_type": "display_data"
    },
    {
     "name": "stdout",
     "output_type": "stream",
     "text": [
      "\n",
      "recall: grapheme 0.8321805219901529, vowel 0.956748819934381, consonant 0.8881808357136686, total 0.8773226749070889, y (8033, 3)\n",
      "recall score : 0.8773\n",
      "validation loss : 0.3207\n",
      "epochs 8/20 completed\n",
      "epochs 9/20 \n"
     ]
    },
    {
     "data": {
      "application/vnd.jupyter.widget-view+json": {
       "model_id": "95dbe5d3cd6941848c7a4833ae1c1073",
       "version_major": 2,
       "version_minor": 0
      },
      "text/plain": [
       "HBox(children=(FloatProgress(value=0.0, max=1004.0), HTML(value='')))"
      ]
     },
     "metadata": {},
     "output_type": "display_data"
    },
    {
     "name": "stdout",
     "output_type": "stream",
     "text": [
      "\n",
      "recall: grapheme 0.9413884186268592, vowel 0.9854250178047057, consonant 0.9821530270782094, total 0.9625887205341583, y (32135, 3)\n",
      "recall score : 0.9626\n",
      "train loss : 0.0858\n"
     ]
    },
    {
     "data": {
      "application/vnd.jupyter.widget-view+json": {
       "model_id": "eea91d4999474f39b661ae071ccdaba0",
       "version_major": 2,
       "version_minor": 0
      },
      "text/plain": [
       "HBox(children=(FloatProgress(value=0.0, max=251.0), HTML(value='')))"
      ]
     },
     "metadata": {},
     "output_type": "display_data"
    },
    {
     "name": "stdout",
     "output_type": "stream",
     "text": [
      "\n",
      "recall: grapheme 0.8189154109943669, vowel 0.910793398379537, consonant 0.8927165563262037, total 0.8603351941736187, y (8033, 3)\n",
      "recall score : 0.8603\n",
      "validation loss : 0.4338\n",
      "epochs 9/20 completed\n",
      "epochs 10/20 \n"
     ]
    },
    {
     "data": {
      "application/vnd.jupyter.widget-view+json": {
       "model_id": "03883414e4be4f0784cbd8b881bc6e9c",
       "version_major": 2,
       "version_minor": 0
      },
      "text/plain": [
       "HBox(children=(FloatProgress(value=0.0, max=1004.0), HTML(value='')))"
      ]
     },
     "metadata": {},
     "output_type": "display_data"
    },
    {
     "name": "stdout",
     "output_type": "stream",
     "text": [
      "\n",
      "recall: grapheme 0.9525460664575824, vowel 0.9881453148593241, consonant 0.9841268416366242, total 0.9693410723527783, y (32135, 3)\n",
      "recall score : 0.9693\n",
      "train loss : 0.0732\n"
     ]
    },
    {
     "data": {
      "application/vnd.jupyter.widget-view+json": {
       "model_id": "77fa62544eef4a6d9f8abdb7ad0c728a",
       "version_major": 2,
       "version_minor": 0
      },
      "text/plain": [
       "HBox(children=(FloatProgress(value=0.0, max=251.0), HTML(value='')))"
      ]
     },
     "metadata": {},
     "output_type": "display_data"
    },
    {
     "name": "stdout",
     "output_type": "stream",
     "text": [
      "\n",
      "recall: grapheme 0.8484778639887991, vowel 0.9540245850919704, consonant 0.9284804206164833, total 0.894865183421513, y (8033, 3)\n",
      "recall score : 0.8949\n",
      "validation loss : 0.2827\n",
      "epochs 10/20 completed\n",
      "epochs 11/20 \n"
     ]
    },
    {
     "data": {
      "application/vnd.jupyter.widget-view+json": {
       "model_id": "440ffae6f959482da5264d04d86d6acd",
       "version_major": 2,
       "version_minor": 0
      },
      "text/plain": [
       "HBox(children=(FloatProgress(value=0.0, max=1004.0), HTML(value='')))"
      ]
     },
     "metadata": {},
     "output_type": "display_data"
    },
    {
     "name": "stdout",
     "output_type": "stream",
     "text": [
      "\n",
      "recall: grapheme 0.9601049822143137, vowel 0.98996558242894, consonant 0.9822143744158669, total 0.9730974803183585, y (32135, 3)\n",
      "recall score : 0.9731\n",
      "train loss : 0.0616\n"
     ]
    },
    {
     "data": {
      "application/vnd.jupyter.widget-view+json": {
       "model_id": "dc771ab87317427bbadbcd0bf1f1f599",
       "version_major": 2,
       "version_minor": 0
      },
      "text/plain": [
       "HBox(children=(FloatProgress(value=0.0, max=251.0), HTML(value='')))"
      ]
     },
     "metadata": {},
     "output_type": "display_data"
    },
    {
     "name": "stdout",
     "output_type": "stream",
     "text": [
      "\n",
      "recall: grapheme 0.8439249495515235, vowel 0.9394839326036908, consonant 0.9647411730348602, total 0.8980187511853995, y (8033, 3)\n",
      "recall score : 0.8980\n",
      "validation loss : 0.3355\n",
      "epochs 11/20 completed\n",
      "epochs 12/20 \n"
     ]
    },
    {
     "data": {
      "application/vnd.jupyter.widget-view+json": {
       "model_id": "b51179f653d94f349db03160ea8bfa0b",
       "version_major": 2,
       "version_minor": 0
      },
      "text/plain": [
       "HBox(children=(FloatProgress(value=0.0, max=1004.0), HTML(value='')))"
      ]
     },
     "metadata": {},
     "output_type": "display_data"
    },
    {
     "name": "stdout",
     "output_type": "stream",
     "text": [
      "\n",
      "recall: grapheme 0.961569987669923, vowel 0.9904831367477481, consonant 0.9845186334784278, total 0.9745354363915055, y (32135, 3)\n",
      "recall score : 0.9745\n",
      "train loss : 0.0562\n"
     ]
    },
    {
     "data": {
      "application/vnd.jupyter.widget-view+json": {
       "model_id": "8d0645b8e8464c9e889d0b2388b77d09",
       "version_major": 2,
       "version_minor": 0
      },
      "text/plain": [
       "HBox(children=(FloatProgress(value=0.0, max=251.0), HTML(value='')))"
      ]
     },
     "metadata": {},
     "output_type": "display_data"
    },
    {
     "name": "stdout",
     "output_type": "stream",
     "text": [
      "\n",
      "recall: grapheme 0.8393127656368977, vowel 0.9476041176532572, consonant 0.9526516772382594, total 0.8947203315413281, y (8033, 3)\n",
      "recall score : 0.8947\n",
      "validation loss : 0.3686\n",
      "epochs 12/20 completed\n",
      "epochs 13/20 \n"
     ]
    },
    {
     "data": {
      "application/vnd.jupyter.widget-view+json": {
       "model_id": "0a767055bab0457cbde1cc45a319fba5",
       "version_major": 2,
       "version_minor": 0
      },
      "text/plain": [
       "HBox(children=(FloatProgress(value=0.0, max=1004.0), HTML(value='')))"
      ]
     },
     "metadata": {},
     "output_type": "display_data"
    },
    {
     "name": "stdout",
     "output_type": "stream",
     "text": [
      "\n",
      "recall: grapheme 0.8365622865936577, vowel 0.9535455373026629, consonant 0.9481862585023209, total 0.8937140922480749, y (8033, 3)\n",
      "recall score : 0.8937\n",
      "validation loss : 0.3207\n",
      "epochs 13/20 completed\n",
      "epochs 14/20 \n"
     ]
    },
    {
     "data": {
      "application/vnd.jupyter.widget-view+json": {
       "model_id": "57b6419bf1594b8382d985b236d43112",
       "version_major": 2,
       "version_minor": 0
      },
      "text/plain": [
       "HBox(children=(FloatProgress(value=0.0, max=1004.0), HTML(value='')))"
      ]
     },
     "metadata": {},
     "output_type": "display_data"
    },
    {
     "name": "stdout",
     "output_type": "stream",
     "text": [
      "\n",
      "recall: grapheme 0.9734694292240107, vowel 0.9896990696820865, consonant 0.991146602833617, total 0.9819461327409312, y (32135, 3)\n",
      "recall score : 0.9819\n",
      "train loss : 0.0444\n"
     ]
    },
    {
     "data": {
      "application/vnd.jupyter.widget-view+json": {
       "model_id": "f4defe0224f544569553e8067da3bb56",
       "version_major": 2,
       "version_minor": 0
      },
      "text/plain": [
       "HBox(children=(FloatProgress(value=0.0, max=251.0), HTML(value='')))"
      ]
     },
     "metadata": {},
     "output_type": "display_data"
    },
    {
     "name": "stdout",
     "output_type": "stream",
     "text": [
      "\n",
      "recall: grapheme 0.8723732306888843, vowel 0.9313178981116501, consonant 0.9241453097464252, total 0.900052417308961, y (8033, 3)\n",
      "recall score : 0.9001\n",
      "validation loss : 0.3168\n",
      "epochs 14/20 completed\n",
      "epochs 15/20 \n"
     ]
    },
    {
     "data": {
      "application/vnd.jupyter.widget-view+json": {
       "model_id": "336328451e7d4ecf8cf71a7a4adc5615",
       "version_major": 2,
       "version_minor": 0
      },
      "text/plain": [
       "HBox(children=(FloatProgress(value=0.0, max=1004.0), HTML(value='')))"
      ]
     },
     "metadata": {},
     "output_type": "display_data"
    },
    {
     "name": "stdout",
     "output_type": "stream",
     "text": [
      "\n",
      "recall: grapheme 0.9765556592025357, vowel 0.9920649480337783, consonant 0.9932133242542122, total 0.9845973976732655, y (32135, 3)\n",
      "recall score : 0.9846\n",
      "train loss : 0.0396\n"
     ]
    },
    {
     "data": {
      "application/vnd.jupyter.widget-view+json": {
       "model_id": "984aa7b6988345fabb9a0723cb546a94",
       "version_major": 2,
       "version_minor": 0
      },
      "text/plain": [
       "HBox(children=(FloatProgress(value=0.0, max=251.0), HTML(value='')))"
      ]
     },
     "metadata": {},
     "output_type": "display_data"
    },
    {
     "name": "stdout",
     "output_type": "stream",
     "text": [
      "\n",
      "recall: grapheme 0.863314884487189, vowel 0.9638864328073716, consonant 0.9632805522347921, total 0.9134491885041355, y (8033, 3)\n",
      "recall score : 0.9134\n",
      "validation loss : 0.2664\n",
      "epochs 15/20 completed\n",
      "epochs 16/20 \n"
     ]
    },
    {
     "data": {
      "application/vnd.jupyter.widget-view+json": {
       "model_id": "b1fb69451e6a4aeb9f58fef8020d1802",
       "version_major": 2,
       "version_minor": 0
      },
      "text/plain": [
       "HBox(children=(FloatProgress(value=0.0, max=1004.0), HTML(value='')))"
      ]
     },
     "metadata": {},
     "output_type": "display_data"
    },
    {
     "name": "stdout",
     "output_type": "stream",
     "text": [
      "\n",
      "recall: grapheme 0.9763724509535326, vowel 0.9928194314472001, consonant 0.9856377857444064, total 0.9828005297746679, y (32135, 3)\n",
      "recall score : 0.9828\n",
      "train loss : 0.0399\n"
     ]
    },
    {
     "data": {
      "application/vnd.jupyter.widget-view+json": {
       "model_id": "d43b438e14bf4eeab77482ed4ca06636",
       "version_major": 2,
       "version_minor": 0
      },
      "text/plain": [
       "HBox(children=(FloatProgress(value=0.0, max=251.0), HTML(value='')))"
      ]
     },
     "metadata": {},
     "output_type": "display_data"
    },
    {
     "name": "stdout",
     "output_type": "stream",
     "text": [
      "\n",
      "recall: grapheme 0.860511260442935, vowel 0.9589910962131566, consonant 0.9402559837264742, total 0.9050674002063752, y (8033, 3)\n",
      "recall score : 0.9051\n",
      "validation loss : 0.3106\n",
      "epochs 16/20 completed\n",
      "epochs 17/20 \n"
     ]
    },
    {
     "data": {
      "application/vnd.jupyter.widget-view+json": {
       "model_id": "69f77f3ba6d34c229d95e01ebf2a5f32",
       "version_major": 2,
       "version_minor": 0
      },
      "text/plain": [
       "HBox(children=(FloatProgress(value=0.0, max=1004.0), HTML(value='')))"
      ]
     },
     "metadata": {},
     "output_type": "display_data"
    },
    {
     "name": "stdout",
     "output_type": "stream",
     "text": [
      "\n",
      "recall: grapheme 0.9791566909433232, vowel 0.9940283989454947, consonant 0.9880614415931488, total 0.9851008056063225, y (32135, 3)\n",
      "recall score : 0.9851\n",
      "train loss : 0.0343\n"
     ]
    },
    {
     "data": {
      "application/vnd.jupyter.widget-view+json": {
       "model_id": "64303cc27bf44d99812085264438077c",
       "version_major": 2,
       "version_minor": 0
      },
      "text/plain": [
       "HBox(children=(FloatProgress(value=0.0, max=251.0), HTML(value='')))"
      ]
     },
     "metadata": {},
     "output_type": "display_data"
    },
    {
     "name": "stdout",
     "output_type": "stream",
     "text": [
      "\n",
      "recall: grapheme 0.8839574759148424, vowel 0.9534447160462612, consonant 0.9183795979088639, total 0.9099348164462026, y (8033, 3)\n",
      "recall score : 0.9099\n",
      "validation loss : 0.3062\n",
      "epochs 17/20 completed\n",
      "epochs 18/20 \n"
     ]
    },
    {
     "data": {
      "application/vnd.jupyter.widget-view+json": {
       "model_id": "2f7d0f304a384973865d0960a70b7948",
       "version_major": 2,
       "version_minor": 0
      },
      "text/plain": [
       "HBox(children=(FloatProgress(value=0.0, max=1004.0), HTML(value='')))"
      ]
     },
     "metadata": {},
     "output_type": "display_data"
    },
    {
     "name": "stdout",
     "output_type": "stream",
     "text": [
      "\n",
      "recall: grapheme 0.9792719617535006, vowel 0.991182299394373, consonant 0.9923919768989861, total 0.9855295499500901, y (32135, 3)\n",
      "recall score : 0.9855\n",
      "train loss : 0.0322\n"
     ]
    },
    {
     "data": {
      "application/vnd.jupyter.widget-view+json": {
       "model_id": "928970b7be9040cc83bc8a700b537966",
       "version_major": 2,
       "version_minor": 0
      },
      "text/plain": [
       "HBox(children=(FloatProgress(value=0.0, max=251.0), HTML(value='')))"
      ]
     },
     "metadata": {},
     "output_type": "display_data"
    },
    {
     "name": "stdout",
     "output_type": "stream",
     "text": [
      "\n",
      "recall: grapheme 0.8827857873021392, vowel 0.9628822348353523, consonant 0.910172102137005, total 0.9096564778941589, y (8033, 3)\n",
      "recall score : 0.9097\n",
      "validation loss : 0.2691\n",
      "epochs 18/20 completed\n",
      "epochs 19/20 \n"
     ]
    },
    {
     "data": {
      "application/vnd.jupyter.widget-view+json": {
       "model_id": "ff85d99f11c24b558875e8b287e0cf65",
       "version_major": 2,
       "version_minor": 0
      },
      "text/plain": [
       "HBox(children=(FloatProgress(value=0.0, max=1004.0), HTML(value='')))"
      ]
     },
     "metadata": {},
     "output_type": "display_data"
    },
    {
     "name": "stdout",
     "output_type": "stream",
     "text": [
      "\n",
      "recall: grapheme 0.9783291331784236, vowel 0.9934709062613588, consonant 0.9936245142932056, total 0.9859384217278528, y (32135, 3)\n",
      "recall score : 0.9859\n",
      "train loss : 0.0338\n"
     ]
    },
    {
     "data": {
      "application/vnd.jupyter.widget-view+json": {
       "model_id": "11d595ca7e904bee80e3256727fb3de5",
       "version_major": 2,
       "version_minor": 0
      },
      "text/plain": [
       "HBox(children=(FloatProgress(value=0.0, max=251.0), HTML(value='')))"
      ]
     },
     "metadata": {},
     "output_type": "display_data"
    },
    {
     "name": "stdout",
     "output_type": "stream",
     "text": [
      "\n",
      "recall: grapheme 0.8734118730370808, vowel 0.9498824960241421, consonant 0.9588383608251717, total 0.9138861507308689, y (8033, 3)\n",
      "recall score : 0.9139\n",
      "validation loss : 0.2980\n",
      "epochs 19/20 completed\n",
      "epochs 20/20 \n"
     ]
    },
    {
     "data": {
      "application/vnd.jupyter.widget-view+json": {
       "model_id": "f6e8f9e450884bd9a7413f57a1e41c03",
       "version_major": 2,
       "version_minor": 0
      },
      "text/plain": [
       "HBox(children=(FloatProgress(value=0.0, max=1004.0), HTML(value='')))"
      ]
     },
     "metadata": {},
     "output_type": "display_data"
    },
    {
     "name": "stdout",
     "output_type": "stream",
     "text": [
      "\n",
      "recall: grapheme 0.9851377929878066, vowel 0.9928667984190849, consonant 0.9927990229234525, total 0.9889853518295375, y (32135, 3)\n",
      "recall score : 0.9890\n",
      "train loss : 0.0270\n"
     ]
    },
    {
     "data": {
      "application/vnd.jupyter.widget-view+json": {
       "model_id": "63ffc10e4ec94677a8d1f1f39515cd50",
       "version_major": 2,
       "version_minor": 0
      },
      "text/plain": [
       "HBox(children=(FloatProgress(value=0.0, max=251.0), HTML(value='')))"
      ]
     },
     "metadata": {},
     "output_type": "display_data"
    },
    {
     "name": "stdout",
     "output_type": "stream",
     "text": [
      "\n",
      "recall: grapheme 0.8615180427281918, vowel 0.9564356883044641, consonant 0.9541073722659321, total 0.908394786506695, y (8033, 3)\n",
      "recall score : 0.9084\n",
      "validation loss : 0.3336\n",
      "epochs 20/20 completed\n",
      "folds 1/3 completed\n",
      "folds 2/3 \n",
      "epochs 1/20 \n"
     ]
    },
    {
     "data": {
      "application/vnd.jupyter.widget-view+json": {
       "model_id": "a4a02652d1d94d06b8426c88b2a23754",
       "version_major": 2,
       "version_minor": 0
      },
      "text/plain": [
       "HBox(children=(FloatProgress(value=0.0, max=1004.0), HTML(value='')))"
      ]
     },
     "metadata": {},
     "output_type": "display_data"
    },
    {
     "name": "stdout",
     "output_type": "stream",
     "text": [
      "\n",
      "recall: grapheme 0.9355535916513487, vowel 0.9787334425949094, consonant 0.9725727790306519, total 0.9556033512320646, y (32134, 3)\n",
      "recall score : 0.9556\n",
      "train loss : 0.1118\n"
     ]
    },
    {
     "data": {
      "application/vnd.jupyter.widget-view+json": {
       "model_id": "9dd70fdeb8ab477181a678f10713c5ac",
       "version_major": 2,
       "version_minor": 0
      },
      "text/plain": [
       "HBox(children=(FloatProgress(value=0.0, max=251.0), HTML(value='')))"
      ]
     },
     "metadata": {},
     "output_type": "display_data"
    },
    {
     "name": "stdout",
     "output_type": "stream",
     "text": [
      "\n",
      "recall: grapheme 0.9685472684591518, vowel 0.9865056672437155, consonant 0.9951996593825614, total 0.9796999658861452, y (8034, 3)\n",
      "recall score : 0.9797\n",
      "validation loss : 0.0450\n",
      "epochs 1/20 completed\n",
      "epochs 2/20 \n"
     ]
    },
    {
     "data": {
      "application/vnd.jupyter.widget-view+json": {
       "model_id": "b3a3d222d2cf4fe4a86d128c25bf3398",
       "version_major": 2,
       "version_minor": 0
      },
      "text/plain": [
       "HBox(children=(FloatProgress(value=0.0, max=1004.0), HTML(value='')))"
      ]
     },
     "metadata": {},
     "output_type": "display_data"
    },
    {
     "name": "stdout",
     "output_type": "stream",
     "text": [
      "\n",
      "recall: grapheme 0.9692297381684735, vowel 0.9902753978061899, consonant 0.9854523217511553, total 0.978546798973573, y (32134, 3)\n",
      "recall score : 0.9785\n",
      "train loss : 0.0504\n"
     ]
    },
    {
     "data": {
      "application/vnd.jupyter.widget-view+json": {
       "model_id": "da8230a9dcde40b1a8e2c68b43ecad5e",
       "version_major": 2,
       "version_minor": 0
      },
      "text/plain": [
       "HBox(children=(FloatProgress(value=0.0, max=251.0), HTML(value='')))"
      ]
     },
     "metadata": {},
     "output_type": "display_data"
    },
    {
     "name": "stdout",
     "output_type": "stream",
     "text": [
      "\n",
      "recall: grapheme 0.9707527140121374, vowel 0.9885219555763238, consonant 0.996420066521992, total 0.9816118625306476, y (8034, 3)\n",
      "recall score : 0.9816\n",
      "validation loss : 0.0494\n",
      "epochs 2/20 completed\n",
      "epochs 3/20 \n"
     ]
    },
    {
     "data": {
      "application/vnd.jupyter.widget-view+json": {
       "model_id": "8f0a714886394516b8a8c07e3d66ace8",
       "version_major": 2,
       "version_minor": 0
      },
      "text/plain": [
       "HBox(children=(FloatProgress(value=0.0, max=1004.0), HTML(value='')))"
      ]
     },
     "metadata": {},
     "output_type": "display_data"
    },
    {
     "name": "stdout",
     "output_type": "stream",
     "text": [
      "\n",
      "recall: grapheme 0.9776291664646124, vowel 0.9950654451309865, consonant 0.9931866594196368, total 0.985877609369962, y (32134, 3)\n",
      "recall score : 0.9859\n",
      "train loss : 0.0336\n"
     ]
    },
    {
     "data": {
      "application/vnd.jupyter.widget-view+json": {
       "model_id": "50ee8a224c0042fcb4bc3fce38c50e04",
       "version_major": 2,
       "version_minor": 0
      },
      "text/plain": [
       "HBox(children=(FloatProgress(value=0.0, max=251.0), HTML(value='')))"
      ]
     },
     "metadata": {},
     "output_type": "display_data"
    },
    {
     "name": "stdout",
     "output_type": "stream",
     "text": [
      "\n",
      "recall: grapheme 0.9590999679061369, vowel 0.9913759361059803, consonant 0.9950850071531311, total 0.9761652197678463, y (8034, 3)\n",
      "recall score : 0.9762\n",
      "validation loss : 0.0465\n",
      "epochs 3/20 completed\n",
      "epochs 4/20 \n"
     ]
    },
    {
     "data": {
      "application/vnd.jupyter.widget-view+json": {
       "model_id": "3f2d56b1b7de4380be2823dcb3adfef4",
       "version_major": 2,
       "version_minor": 0
      },
      "text/plain": [
       "HBox(children=(FloatProgress(value=0.0, max=1004.0), HTML(value='')))"
      ]
     },
     "metadata": {},
     "output_type": "display_data"
    },
    {
     "name": "stdout",
     "output_type": "stream",
     "text": [
      "\n",
      "recall: grapheme 0.9825427870631781, vowel 0.9949045413129415, consonant 0.9940390898276564, total 0.9885073013167385, y (32134, 3)\n",
      "recall score : 0.9885\n",
      "train loss : 0.0291\n"
     ]
    },
    {
     "data": {
      "application/vnd.jupyter.widget-view+json": {
       "model_id": "e5e9e2f672264a5ab388b32c20945bc1",
       "version_major": 2,
       "version_minor": 0
      },
      "text/plain": [
       "HBox(children=(FloatProgress(value=0.0, max=251.0), HTML(value='')))"
      ]
     },
     "metadata": {},
     "output_type": "display_data"
    },
    {
     "name": "stdout",
     "output_type": "stream",
     "text": [
      "\n",
      "recall: grapheme 0.969738126584338, vowel 0.9917010974479326, consonant 0.9968593455532285, total 0.9820091740424592, y (8034, 3)\n",
      "recall score : 0.9820\n",
      "validation loss : 0.0457\n",
      "epochs 4/20 completed\n",
      "epochs 5/20 \n"
     ]
    },
    {
     "data": {
      "application/vnd.jupyter.widget-view+json": {
       "model_id": "6115bf6190ae4f5ab9ff4c1a82727648",
       "version_major": 2,
       "version_minor": 0
      },
      "text/plain": [
       "HBox(children=(FloatProgress(value=0.0, max=1004.0), HTML(value='')))"
      ]
     },
     "metadata": {},
     "output_type": "display_data"
    },
    {
     "name": "stdout",
     "output_type": "stream",
     "text": [
      "\n",
      "recall: grapheme 0.9796599936369084, vowel 0.9929265327948343, consonant 0.9908443511655072, total 0.9857727178085396, y (32134, 3)\n",
      "recall score : 0.9858\n",
      "train loss : 0.0320\n"
     ]
    },
    {
     "data": {
      "application/vnd.jupyter.widget-view+json": {
       "model_id": "0b4a56f2d9454a40b67314cb8ca0995b",
       "version_major": 2,
       "version_minor": 0
      },
      "text/plain": [
       "HBox(children=(FloatProgress(value=0.0, max=251.0), HTML(value='')))"
      ]
     },
     "metadata": {},
     "output_type": "display_data"
    },
    {
     "name": "stdout",
     "output_type": "stream",
     "text": [
      "\n",
      "recall: grapheme 0.9574320971536868, vowel 0.9879137407753287, consonant 0.9918253693598016, total 0.973650826110626, y (8034, 3)\n",
      "recall score : 0.9737\n",
      "validation loss : 0.0566\n",
      "epochs 5/20 completed\n",
      "epochs 6/20 \n"
     ]
    },
    {
     "data": {
      "application/vnd.jupyter.widget-view+json": {
       "model_id": "a988a8489ed249cbae33f88910efcda1",
       "version_major": 2,
       "version_minor": 0
      },
      "text/plain": [
       "HBox(children=(FloatProgress(value=0.0, max=1004.0), HTML(value='')))"
      ]
     },
     "metadata": {},
     "output_type": "display_data"
    },
    {
     "name": "stdout",
     "output_type": "stream",
     "text": [
      "\n",
      "recall: grapheme 0.9854038271834463, vowel 0.9943985272398949, consonant 0.9923818031988519, total 0.9893969962014099, y (32134, 3)\n",
      "recall score : 0.9894\n",
      "train loss : 0.0231\n"
     ]
    },
    {
     "data": {
      "application/vnd.jupyter.widget-view+json": {
       "model_id": "fb0ad3e70ca24eb3990bb7da6ed9f5fb",
       "version_major": 2,
       "version_minor": 0
      },
      "text/plain": [
       "HBox(children=(FloatProgress(value=0.0, max=251.0), HTML(value='')))"
      ]
     },
     "metadata": {},
     "output_type": "display_data"
    },
    {
     "name": "stdout",
     "output_type": "stream",
     "text": [
      "\n",
      "recall: grapheme 0.9655303775887629, vowel 0.9931985905492748, consonant 0.9876395103210072, total 0.9779747140119519, y (8034, 3)\n",
      "recall score : 0.9780\n",
      "validation loss : 0.0527\n",
      "epochs 6/20 completed\n",
      "epochs 7/20 \n"
     ]
    },
    {
     "data": {
      "application/vnd.jupyter.widget-view+json": {
       "model_id": "15cb7116c5e042c1b679aeb438ba652d",
       "version_major": 2,
       "version_minor": 0
      },
      "text/plain": [
       "HBox(children=(FloatProgress(value=0.0, max=1004.0), HTML(value='')))"
      ]
     },
     "metadata": {},
     "output_type": "display_data"
    },
    {
     "name": "stdout",
     "output_type": "stream",
     "text": [
      "\n",
      "recall: grapheme 0.9860550715261072, vowel 0.9943032474108301, consonant 0.9927343830819307, total 0.9897869433862437, y (32134, 3)\n",
      "recall score : 0.9898\n",
      "train loss : 0.0257\n"
     ]
    },
    {
     "data": {
      "application/vnd.jupyter.widget-view+json": {
       "model_id": "29c96286d2354b5189b7c710f4ff81b8",
       "version_major": 2,
       "version_minor": 0
      },
      "text/plain": [
       "HBox(children=(FloatProgress(value=0.0, max=251.0), HTML(value='')))"
      ]
     },
     "metadata": {},
     "output_type": "display_data"
    },
    {
     "name": "stdout",
     "output_type": "stream",
     "text": [
      "\n",
      "recall: grapheme 0.9648583944245647, vowel 0.9936148536316921, consonant 0.9953557491472971, total 0.9796718479070297, y (8034, 3)\n",
      "recall score : 0.9797\n",
      "validation loss : 0.0517\n",
      "Epoch    27: reducing learning rate of group 0 to 3.0000e-05.\n",
      "epochs 7/20 completed\n",
      "epochs 8/20 \n"
     ]
    },
    {
     "data": {
      "application/vnd.jupyter.widget-view+json": {
       "model_id": "98d7011c85f64a5fa3d1ead899e379e6",
       "version_major": 2,
       "version_minor": 0
      },
      "text/plain": [
       "HBox(children=(FloatProgress(value=0.0, max=1004.0), HTML(value='')))"
      ]
     },
     "metadata": {},
     "output_type": "display_data"
    },
    {
     "name": "stdout",
     "output_type": "stream",
     "text": [
      "\n",
      "recall: grapheme 0.9981182222064751, vowel 0.998766355816371, consonant 0.9981675301111768, total 0.9982925825851244, y (32134, 3)\n",
      "recall score : 0.9983\n",
      "train loss : 0.0058\n"
     ]
    },
    {
     "data": {
      "application/vnd.jupyter.widget-view+json": {
       "model_id": "cb19723934b6424183884cb71bd9a93a",
       "version_major": 2,
       "version_minor": 0
      },
      "text/plain": [
       "HBox(children=(FloatProgress(value=0.0, max=251.0), HTML(value='')))"
      ]
     },
     "metadata": {},
     "output_type": "display_data"
    },
    {
     "name": "stdout",
     "output_type": "stream",
     "text": [
      "\n",
      "recall: grapheme 0.9866254230546223, vowel 0.995860483063436, consonant 0.9961289248707523, total 0.9913100635108583, y (8034, 3)\n",
      "recall score : 0.9913\n",
      "validation loss : 0.0209\n",
      "epochs 8/20 completed\n",
      "epochs 9/20 \n"
     ]
    },
    {
     "data": {
      "application/vnd.jupyter.widget-view+json": {
       "model_id": "6065282fddc44c64b13f38f4d253c2ca",
       "version_major": 2,
       "version_minor": 0
      },
      "text/plain": [
       "HBox(children=(FloatProgress(value=0.0, max=1004.0), HTML(value='')))"
      ]
     },
     "metadata": {},
     "output_type": "display_data"
    },
    {
     "name": "stdout",
     "output_type": "stream",
     "text": [
      "\n",
      "recall: grapheme 0.9994885797294708, vowel 0.9998850736532195, consonant 0.9996938815018582, total 0.9996390286535048, y (32134, 3)\n",
      "recall score : 0.9996\n",
      "train loss : 0.0025\n"
     ]
    },
    {
     "data": {
      "application/vnd.jupyter.widget-view+json": {
       "model_id": "571686b529904620830cbbdd085a229b",
       "version_major": 2,
       "version_minor": 0
      },
      "text/plain": [
       "HBox(children=(FloatProgress(value=0.0, max=251.0), HTML(value='')))"
      ]
     },
     "metadata": {},
     "output_type": "display_data"
    },
    {
     "name": "stdout",
     "output_type": "stream",
     "text": [
      "\n",
      "recall: grapheme 0.9896472645325939, vowel 0.9980642522780413, consonant 0.9982241190728262, total 0.9938957251040138, y (8034, 3)\n",
      "recall score : 0.9939\n",
      "validation loss : 0.0160\n",
      "epochs 9/20 completed\n",
      "epochs 10/20 \n"
     ]
    },
    {
     "data": {
      "application/vnd.jupyter.widget-view+json": {
       "model_id": "757c87b669a041d2a0ce541781892f0f",
       "version_major": 2,
       "version_minor": 0
      },
      "text/plain": [
       "HBox(children=(FloatProgress(value=0.0, max=1004.0), HTML(value='')))"
      ]
     },
     "metadata": {},
     "output_type": "display_data"
    },
    {
     "name": "stdout",
     "output_type": "stream",
     "text": [
      "\n",
      "recall: grapheme 0.9997519175455418, vowel 1.0, consonant 1.0, total 0.9998759587727709, y (32134, 3)\n",
      "recall score : 0.9999\n",
      "train loss : 0.0014\n"
     ]
    },
    {
     "data": {
      "application/vnd.jupyter.widget-view+json": {
       "model_id": "ebc95294f3be4dfa8b6791c25bb3de52",
       "version_major": 2,
       "version_minor": 0
      },
      "text/plain": [
       "HBox(children=(FloatProgress(value=0.0, max=251.0), HTML(value='')))"
      ]
     },
     "metadata": {},
     "output_type": "display_data"
    },
    {
     "name": "stdout",
     "output_type": "stream",
     "text": [
      "\n",
      "recall: grapheme 0.9875485101144644, vowel 0.9973805054404877, consonant 0.998525523382823, total 0.9927507622630598, y (8034, 3)\n",
      "recall score : 0.9928\n",
      "validation loss : 0.0154\n",
      "epochs 10/20 completed\n",
      "epochs 11/20 \n"
     ]
    },
    {
     "data": {
      "application/vnd.jupyter.widget-view+json": {
       "model_id": "542c9de6c00b46a5aec23850475fc180",
       "version_major": 2,
       "version_minor": 0
      },
      "text/plain": [
       "HBox(children=(FloatProgress(value=0.0, max=1004.0), HTML(value='')))"
      ]
     },
     "metadata": {},
     "output_type": "display_data"
    },
    {
     "name": "stdout",
     "output_type": "stream",
     "text": [
      "\n",
      "recall: grapheme 0.9998319317059696, vowel 0.9998711628193688, consonant 0.9996481619466014, total 0.9997957970444774, y (32134, 3)\n",
      "recall score : 0.9998\n",
      "train loss : 0.0020\n"
     ]
    },
    {
     "data": {
      "application/vnd.jupyter.widget-view+json": {
       "model_id": "b77886fe1d0e48bab675c4324dd61b9e",
       "version_major": 2,
       "version_minor": 0
      },
      "text/plain": [
       "HBox(children=(FloatProgress(value=0.0, max=251.0), HTML(value='')))"
      ]
     },
     "metadata": {},
     "output_type": "display_data"
    },
    {
     "name": "stdout",
     "output_type": "stream",
     "text": [
      "\n",
      "recall: grapheme 0.9887111605980058, vowel 0.9970081238133673, consonant 0.9978268338518129, total 0.993064319715298, y (8034, 3)\n",
      "recall score : 0.9931\n",
      "validation loss : 0.0161\n",
      "epochs 11/20 completed\n",
      "epochs 12/20 \n"
     ]
    },
    {
     "data": {
      "application/vnd.jupyter.widget-view+json": {
       "model_id": "d4c873f8ac2a473fb06d3bc82679fdf3",
       "version_major": 2,
       "version_minor": 0
      },
      "text/plain": [
       "HBox(children=(FloatProgress(value=0.0, max=1004.0), HTML(value='')))"
      ]
     },
     "metadata": {},
     "output_type": "display_data"
    },
    {
     "name": "stdout",
     "output_type": "stream",
     "text": [
      "\n",
      "recall: grapheme 0.9989390171949307, vowel 0.9998321317169858, consonant 0.9997713182713543, total 0.9993703710945503, y (32134, 3)\n",
      "recall score : 0.9994\n",
      "train loss : 0.0028\n"
     ]
    },
    {
     "data": {
      "application/vnd.jupyter.widget-view+json": {
       "model_id": "460a86fb26ef45af9fa5d34b06f2870b",
       "version_major": 2,
       "version_minor": 0
      },
      "text/plain": [
       "HBox(children=(FloatProgress(value=0.0, max=251.0), HTML(value='')))"
      ]
     },
     "metadata": {},
     "output_type": "display_data"
    },
    {
     "name": "stdout",
     "output_type": "stream",
     "text": [
      "\n",
      "recall: grapheme 0.9873133292419389, vowel 0.9946147220914362, consonant 0.9976900345137342, total 0.9917328537722621, y (8034, 3)\n",
      "recall score : 0.9917\n",
      "validation loss : 0.0183\n",
      "epochs 12/20 completed\n",
      "epochs 13/20 \n"
     ]
    },
    {
     "data": {
      "application/vnd.jupyter.widget-view+json": {
       "model_id": "71bc08be724b4f3aab33802114d4b4ab",
       "version_major": 2,
       "version_minor": 0
      },
      "text/plain": [
       "HBox(children=(FloatProgress(value=0.0, max=1004.0), HTML(value='')))"
      ]
     },
     "metadata": {},
     "output_type": "display_data"
    },
    {
     "name": "stdout",
     "output_type": "stream",
     "text": [
      "\n",
      "recall: grapheme 0.9993892531293631, vowel 0.9999725101025373, consonant 0.9995342389874432, total 0.9995713138371767, y (32134, 3)\n",
      "recall score : 0.9996\n",
      "train loss : 0.0026\n"
     ]
    },
    {
     "data": {
      "application/vnd.jupyter.widget-view+json": {
       "model_id": "d852078d286b48d0b05875b9acfdb435",
       "version_major": 2,
       "version_minor": 0
      },
      "text/plain": [
       "HBox(children=(FloatProgress(value=0.0, max=251.0), HTML(value='')))"
      ]
     },
     "metadata": {},
     "output_type": "display_data"
    },
    {
     "name": "stdout",
     "output_type": "stream",
     "text": [
      "\n",
      "recall: grapheme 0.9887340853888565, vowel 0.9975787527757493, consonant 0.9982543715426029, total 0.9933253237740163, y (8034, 3)\n",
      "recall score : 0.9933\n",
      "validation loss : 0.0161\n",
      "epochs 13/20 completed\n",
      "epochs 14/20 \n"
     ]
    },
    {
     "data": {
      "application/vnd.jupyter.widget-view+json": {
       "model_id": "56bf45df2d3141a38d3e0a35165d64bc",
       "version_major": 2,
       "version_minor": 0
      },
      "text/plain": [
       "HBox(children=(FloatProgress(value=0.0, max=1004.0), HTML(value='')))"
      ]
     },
     "metadata": {},
     "output_type": "display_data"
    },
    {
     "name": "stdout",
     "output_type": "stream",
     "text": [
      "\n",
      "recall: grapheme 0.9995583410166946, vowel 0.9996917141687844, consonant 0.999945106976357, total 0.9996883757946327, y (32134, 3)\n",
      "recall score : 0.9997\n",
      "train loss : 0.0015\n"
     ]
    },
    {
     "data": {
      "application/vnd.jupyter.widget-view+json": {
       "model_id": "9772ba72a5584080a25fd2f96ad6411d",
       "version_major": 2,
       "version_minor": 0
      },
      "text/plain": [
       "HBox(children=(FloatProgress(value=0.0, max=251.0), HTML(value='')))"
      ]
     },
     "metadata": {},
     "output_type": "display_data"
    },
    {
     "name": "stdout",
     "output_type": "stream",
     "text": [
      "\n",
      "recall: grapheme 0.9821152976489969, vowel 0.9937969732283233, consonant 0.9976786981996941, total 0.9889265666815028, y (8034, 3)\n",
      "recall score : 0.9889\n",
      "validation loss : 0.0305\n",
      "epochs 14/20 completed\n",
      "epochs 15/20 \n"
     ]
    },
    {
     "data": {
      "application/vnd.jupyter.widget-view+json": {
       "model_id": "6da5d4e0b5be4e64bcad5e3681207b5d",
       "version_major": 2,
       "version_minor": 0
      },
      "text/plain": [
       "HBox(children=(FloatProgress(value=0.0, max=1004.0), HTML(value='')))"
      ]
     },
     "metadata": {},
     "output_type": "display_data"
    },
    {
     "name": "stdout",
     "output_type": "stream",
     "text": [
      "\n",
      "recall: grapheme 0.9987697102899704, vowel 0.999487367585382, consonant 0.9994899417534485, total 0.9991291824796928, y (32134, 3)\n",
      "recall score : 0.9991\n",
      "train loss : 0.0032\n"
     ]
    },
    {
     "data": {
      "application/vnd.jupyter.widget-view+json": {
       "model_id": "825516f11aa9433db070aef2dce33511",
       "version_major": 2,
       "version_minor": 0
      },
      "text/plain": [
       "HBox(children=(FloatProgress(value=0.0, max=251.0), HTML(value='')))"
      ]
     },
     "metadata": {},
     "output_type": "display_data"
    },
    {
     "name": "stdout",
     "output_type": "stream",
     "text": [
      "\n",
      "recall: grapheme 0.9869611472380894, vowel 0.9952275637558013, consonant 0.9926012380723538, total 0.9904377740760835, y (8034, 3)\n",
      "recall score : 0.9904\n",
      "validation loss : 0.0214\n",
      "epochs 15/20 completed\n",
      "epochs 16/20 \n"
     ]
    },
    {
     "data": {
      "application/vnd.jupyter.widget-view+json": {
       "model_id": "fa23f28dfb3d4ce9ba2042074a03b7eb",
       "version_major": 2,
       "version_minor": 0
      },
      "text/plain": [
       "HBox(children=(FloatProgress(value=0.0, max=1004.0), HTML(value='')))"
      ]
     },
     "metadata": {},
     "output_type": "display_data"
    },
    {
     "name": "stdout",
     "output_type": "stream",
     "text": [
      "\n",
      "recall: grapheme 0.9996508295834242, vowel 0.9999725101025373, consonant 0.9991626834804785, total 0.9996092131874661, y (32134, 3)\n",
      "recall score : 0.9996\n",
      "train loss : 0.0014\n"
     ]
    },
    {
     "data": {
      "application/vnd.jupyter.widget-view+json": {
       "model_id": "b78058701bea49d1a3495479cd28c9cd",
       "version_major": 2,
       "version_minor": 0
      },
      "text/plain": [
       "HBox(children=(FloatProgress(value=0.0, max=251.0), HTML(value='')))"
      ]
     },
     "metadata": {},
     "output_type": "display_data"
    },
    {
     "name": "stdout",
     "output_type": "stream",
     "text": [
      "\n",
      "recall: grapheme 0.9864966329625984, vowel 0.9966550699387249, consonant 0.9983340568258334, total 0.9919955981724389, y (8034, 3)\n",
      "recall score : 0.9920\n",
      "validation loss : 0.0183\n",
      "Epoch    36: reducing learning rate of group 0 to 9.0000e-06.\n",
      "epochs 16/20 completed\n",
      "epochs 17/20 \n"
     ]
    },
    {
     "data": {
      "application/vnd.jupyter.widget-view+json": {
       "model_id": "9ff2208f7251451c8a4b4e6582f3367b",
       "version_major": 2,
       "version_minor": 0
      },
      "text/plain": [
       "HBox(children=(FloatProgress(value=0.0, max=1004.0), HTML(value='')))"
      ]
     },
     "metadata": {},
     "output_type": "display_data"
    },
    {
     "name": "stdout",
     "output_type": "stream",
     "text": [
      "\n",
      "recall: grapheme 0.999944506623158, vowel 0.9999802156494213, consonant 0.9993144946454056, total 0.9997959308852857, y (32134, 3)\n",
      "recall score : 0.9998\n",
      "train loss : 0.0010\n"
     ]
    },
    {
     "data": {
      "application/vnd.jupyter.widget-view+json": {
       "model_id": "1edb1737cccb43d4bc532d00a7c06cfc",
       "version_major": 2,
       "version_minor": 0
      },
      "text/plain": [
       "HBox(children=(FloatProgress(value=0.0, max=251.0), HTML(value='')))"
      ]
     },
     "metadata": {},
     "output_type": "display_data"
    },
    {
     "name": "stdout",
     "output_type": "stream",
     "text": [
      "\n",
      "recall: grapheme 0.9893922111618094, vowel 0.9970381350973093, consonant 0.9986458567174349, total 0.9936171035345908, y (8034, 3)\n",
      "recall score : 0.9936\n",
      "validation loss : 0.0142\n",
      "epochs 17/20 completed\n",
      "epochs 18/20 \n"
     ]
    },
    {
     "data": {
      "application/vnd.jupyter.widget-view+json": {
       "model_id": "0bb80e085b3d43249412f31f6253c6cd",
       "version_major": 2,
       "version_minor": 0
      },
      "text/plain": [
       "HBox(children=(FloatProgress(value=0.0, max=1004.0), HTML(value='')))"
      ]
     },
     "metadata": {},
     "output_type": "display_data"
    },
    {
     "name": "stdout",
     "output_type": "stream",
     "text": [
      "\n",
      "recall: grapheme 0.9999929474159333, vowel 1.0, consonant 0.9999188772612964, total 0.9999761930232907, y (32134, 3)\n",
      "recall score : 1.0000\n",
      "train loss : 0.0006\n"
     ]
    },
    {
     "data": {
      "application/vnd.jupyter.widget-view+json": {
       "model_id": "63666019cb454c8ba41a66100c9b348d",
       "version_major": 2,
       "version_minor": 0
      },
      "text/plain": [
       "HBox(children=(FloatProgress(value=0.0, max=251.0), HTML(value='')))"
      ]
     },
     "metadata": {},
     "output_type": "display_data"
    },
    {
     "name": "stdout",
     "output_type": "stream",
     "text": [
      "\n",
      "recall: grapheme 0.9895007676002314, vowel 0.9970385658504786, consonant 0.9988723620383098, total 0.9937281157723128, y (8034, 3)\n",
      "recall score : 0.9937\n",
      "validation loss : 0.0138\n",
      "epochs 18/20 completed\n",
      "epochs 19/20 \n"
     ]
    },
    {
     "data": {
      "application/vnd.jupyter.widget-view+json": {
       "model_id": "16536bdca12b434bb68114dc922f58f1",
       "version_major": 2,
       "version_minor": 0
      },
      "text/plain": [
       "HBox(children=(FloatProgress(value=0.0, max=1004.0), HTML(value='')))"
      ]
     },
     "metadata": {},
     "output_type": "display_data"
    },
    {
     "name": "stdout",
     "output_type": "stream",
     "text": [
      "\n",
      "recall: grapheme 1.0, vowel 1.0, consonant 1.0, total 1.0, y (32134, 3)\n",
      "recall score : 1.0000\n",
      "train loss : 0.0004\n"
     ]
    },
    {
     "data": {
      "application/vnd.jupyter.widget-view+json": {
       "model_id": "3a8ef892dd524141a030e2440f8eb087",
       "version_major": 2,
       "version_minor": 0
      },
      "text/plain": [
       "HBox(children=(FloatProgress(value=0.0, max=251.0), HTML(value='')))"
      ]
     },
     "metadata": {},
     "output_type": "display_data"
    },
    {
     "name": "stdout",
     "output_type": "stream",
     "text": [
      "\n",
      "recall: grapheme 0.9911530922900725, vowel 0.9973997550205731, consonant 0.9987039775264321, total 0.9946024792817876, y (8034, 3)\n",
      "recall score : 0.9946\n",
      "validation loss : 0.0132\n",
      "epochs 19/20 completed\n",
      "epochs 20/20 \n"
     ]
    },
    {
     "data": {
      "application/vnd.jupyter.widget-view+json": {
       "model_id": "067f1ada95604363a84631b0a7582fd8",
       "version_major": 2,
       "version_minor": 0
      },
      "text/plain": [
       "HBox(children=(FloatProgress(value=0.0, max=1004.0), HTML(value='')))"
      ]
     },
     "metadata": {},
     "output_type": "display_data"
    },
    {
     "name": "stdout",
     "output_type": "stream",
     "text": [
      "\n",
      "recall: grapheme 1.0, vowel 1.0, consonant 1.0, total 1.0, y (32134, 3)\n",
      "recall score : 1.0000\n",
      "train loss : 0.0003\n"
     ]
    },
    {
     "data": {
      "application/vnd.jupyter.widget-view+json": {
       "model_id": "bda84785cf6c4043b127703b814edfb4",
       "version_major": 2,
       "version_minor": 0
      },
      "text/plain": [
       "HBox(children=(FloatProgress(value=0.0, max=251.0), HTML(value='')))"
      ]
     },
     "metadata": {},
     "output_type": "display_data"
    },
    {
     "name": "stdout",
     "output_type": "stream",
     "text": [
      "\n",
      "recall: grapheme 0.991321676378431, vowel 0.9976027389714794, consonant 0.9985976978304008, total 0.9947109473896856, y (8034, 3)\n",
      "recall score : 0.9947\n",
      "validation loss : 0.0123\n",
      "epochs 20/20 completed\n",
      "folds 2/3 completed\n",
      "folds 3/3 \n",
      "epochs 1/20 \n"
     ]
    },
    {
     "data": {
      "application/vnd.jupyter.widget-view+json": {
       "model_id": "e5e72471b90d49349441bfbdc1b0be93",
       "version_major": 2,
       "version_minor": 0
      },
      "text/plain": [
       "HBox(children=(FloatProgress(value=0.0, max=1004.0), HTML(value='')))"
      ]
     },
     "metadata": {},
     "output_type": "display_data"
    },
    {
     "name": "stdout",
     "output_type": "stream",
     "text": [
      "\n",
      "recall: grapheme 0.9968819223498406, vowel 0.9991477252848914, consonant 0.9982458889036152, total 0.997789364722047, y (32134, 3)\n",
      "recall score : 0.9978\n",
      "train loss : 0.0061\n"
     ]
    },
    {
     "data": {
      "application/vnd.jupyter.widget-view+json": {
       "model_id": "1844f3ec3de343458b83d49ff654b77a",
       "version_major": 2,
       "version_minor": 0
      },
      "text/plain": [
       "HBox(children=(FloatProgress(value=0.0, max=251.0), HTML(value='')))"
      ]
     },
     "metadata": {},
     "output_type": "display_data"
    },
    {
     "name": "stdout",
     "output_type": "stream",
     "text": [
      "\n",
      "recall: grapheme 1.0, vowel 1.0, consonant 1.0, total 1.0, y (8034, 3)\n",
      "recall score : 1.0000\n",
      "validation loss : 0.0002\n",
      "epochs 1/20 completed\n",
      "epochs 2/20 \n"
     ]
    },
    {
     "data": {
      "application/vnd.jupyter.widget-view+json": {
       "model_id": "43a29dda7ec24c519dabdc6e3a49661d",
       "version_major": 2,
       "version_minor": 0
      },
      "text/plain": [
       "HBox(children=(FloatProgress(value=0.0, max=1004.0), HTML(value='')))"
      ]
     },
     "metadata": {},
     "output_type": "display_data"
    },
    {
     "name": "stdout",
     "output_type": "stream",
     "text": [
      "\n",
      "recall: grapheme 0.9993663856437516, vowel 0.9997787556862441, consonant 0.999895990475001, total 0.999601879362187, y (32134, 3)\n",
      "recall score : 0.9996\n",
      "train loss : 0.0016\n"
     ]
    },
    {
     "data": {
      "application/vnd.jupyter.widget-view+json": {
       "model_id": "aed5ccfc5ef5417d84c31d41ca5a3cb7",
       "version_major": 2,
       "version_minor": 0
      },
      "text/plain": [
       "HBox(children=(FloatProgress(value=0.0, max=251.0), HTML(value='')))"
      ]
     },
     "metadata": {},
     "output_type": "display_data"
    },
    {
     "name": "stdout",
     "output_type": "stream",
     "text": [
      "\n",
      "recall: grapheme 1.0, vowel 1.0, consonant 1.0, total 1.0, y (8034, 3)\n",
      "recall score : 1.0000\n",
      "validation loss : 0.0001\n",
      "epochs 2/20 completed\n",
      "epochs 3/20 \n"
     ]
    },
    {
     "data": {
      "application/vnd.jupyter.widget-view+json": {
       "model_id": "701bf790680841068734934a0c453ab9",
       "version_major": 2,
       "version_minor": 0
      },
      "text/plain": [
       "HBox(children=(FloatProgress(value=0.0, max=1004.0), HTML(value='')))"
      ]
     },
     "metadata": {},
     "output_type": "display_data"
    },
    {
     "name": "stdout",
     "output_type": "stream",
     "text": [
      "\n",
      "recall: grapheme 0.9998531860062032, vowel 1.0, consonant 0.9999616696692092, total 0.9999170104204039, y (32134, 3)\n",
      "recall score : 0.9999\n",
      "train loss : 0.0009\n"
     ]
    },
    {
     "data": {
      "application/vnd.jupyter.widget-view+json": {
       "model_id": "15ef468278d545eaaebcd0eabc1ec591",
       "version_major": 2,
       "version_minor": 0
      },
      "text/plain": [
       "HBox(children=(FloatProgress(value=0.0, max=251.0), HTML(value='')))"
      ]
     },
     "metadata": {},
     "output_type": "display_data"
    },
    {
     "name": "stdout",
     "output_type": "stream",
     "text": [
      "\n",
      "recall: grapheme 1.0, vowel 1.0, consonant 1.0, total 1.0, y (8034, 3)\n",
      "recall score : 1.0000\n",
      "validation loss : 0.0001\n",
      "epochs 3/20 completed\n",
      "epochs 4/20 \n"
     ]
    },
    {
     "data": {
      "application/vnd.jupyter.widget-view+json": {
       "model_id": "f2b96b9f4e99430aacde7a891dff2f3b",
       "version_major": 2,
       "version_minor": 0
      },
      "text/plain": [
       "HBox(children=(FloatProgress(value=0.0, max=1004.0), HTML(value='')))"
      ]
     },
     "metadata": {},
     "output_type": "display_data"
    },
    {
     "name": "stdout",
     "output_type": "stream",
     "text": [
      "\n",
      "recall: grapheme 0.9999233727326511, vowel 0.9999697473907125, consonant 1.0, total 0.9999541232140037, y (32134, 3)\n",
      "recall score : 1.0000\n",
      "train loss : 0.0008\n"
     ]
    },
    {
     "data": {
      "application/vnd.jupyter.widget-view+json": {
       "model_id": "eb8c9b65500e46b783e7dc6563b40d01",
       "version_major": 2,
       "version_minor": 0
      },
      "text/plain": [
       "HBox(children=(FloatProgress(value=0.0, max=251.0), HTML(value='')))"
      ]
     },
     "metadata": {},
     "output_type": "display_data"
    },
    {
     "name": "stdout",
     "output_type": "stream",
     "text": [
      "\n",
      "recall: grapheme 1.0, vowel 1.0, consonant 1.0, total 1.0, y (8034, 3)\n",
      "recall score : 1.0000\n",
      "validation loss : 0.0001\n",
      "epochs 4/20 completed\n",
      "epochs 5/20 \n"
     ]
    },
    {
     "data": {
      "application/vnd.jupyter.widget-view+json": {
       "model_id": "9b88360f3e044b89aae11e49fd44868c",
       "version_major": 2,
       "version_minor": 0
      },
      "text/plain": [
       "HBox(children=(FloatProgress(value=0.0, max=1004.0), HTML(value='')))"
      ]
     },
     "metadata": {},
     "output_type": "display_data"
    },
    {
     "name": "stdout",
     "output_type": "stream",
     "text": [
      "\n",
      "recall: grapheme 0.9999875473201834, vowel 1.0, consonant 0.9999545054361905, total 0.9999824000191393, y (32134, 3)\n",
      "recall score : 1.0000\n",
      "train loss : 0.0007\n"
     ]
    },
    {
     "data": {
      "application/vnd.jupyter.widget-view+json": {
       "model_id": "827248a956e643c68506902ee141c1c3",
       "version_major": 2,
       "version_minor": 0
      },
      "text/plain": [
       "HBox(children=(FloatProgress(value=0.0, max=251.0), HTML(value='')))"
      ]
     },
     "metadata": {},
     "output_type": "display_data"
    },
    {
     "name": "stdout",
     "output_type": "stream",
     "text": [
      "\n",
      "recall: grapheme 1.0, vowel 1.0, consonant 1.0, total 1.0, y (8034, 3)\n",
      "recall score : 1.0000\n",
      "validation loss : 0.0001\n",
      "epochs 5/20 completed\n",
      "epochs 6/20 \n"
     ]
    },
    {
     "data": {
      "application/vnd.jupyter.widget-view+json": {
       "model_id": "f00632b58455409f8f1efcb03d44b689",
       "version_major": 2,
       "version_minor": 0
      },
      "text/plain": [
       "HBox(children=(FloatProgress(value=0.0, max=1004.0), HTML(value='')))"
      ]
     },
     "metadata": {},
     "output_type": "display_data"
    },
    {
     "name": "stdout",
     "output_type": "stream",
     "text": [
      "\n",
      "recall: grapheme 0.9999905667496792, vowel 1.0, consonant 1.0, total 0.9999952833748396, y (32134, 3)\n",
      "recall score : 1.0000\n",
      "train loss : 0.0005\n"
     ]
    },
    {
     "data": {
      "application/vnd.jupyter.widget-view+json": {
       "model_id": "24ca3adc2a7e490c94a9129c26d99a2e",
       "version_major": 2,
       "version_minor": 0
      },
      "text/plain": [
       "HBox(children=(FloatProgress(value=0.0, max=251.0), HTML(value='')))"
      ]
     },
     "metadata": {},
     "output_type": "display_data"
    },
    {
     "name": "stdout",
     "output_type": "stream",
     "text": [
      "\n",
      "recall: grapheme 1.0, vowel 1.0, consonant 1.0, total 1.0, y (8034, 3)\n",
      "recall score : 1.0000\n",
      "validation loss : 0.0001\n",
      "epochs 6/20 completed\n",
      "epochs 7/20 \n"
     ]
    },
    {
     "data": {
      "application/vnd.jupyter.widget-view+json": {
       "model_id": "08b5fd63440c4068afa5c420bdb3d78e",
       "version_major": 2,
       "version_minor": 0
      },
      "text/plain": [
       "HBox(children=(FloatProgress(value=0.0, max=1004.0), HTML(value='')))"
      ]
     },
     "metadata": {},
     "output_type": "display_data"
    },
    {
     "name": "stdout",
     "output_type": "stream",
     "text": [
      "\n",
      "recall: grapheme 1.0, vowel 0.9999559982844044, consonant 0.999842918927017, total 0.9999497293028554, y (32134, 3)\n",
      "recall score : 0.9999\n",
      "train loss : 0.0006\n"
     ]
    },
    {
     "data": {
      "application/vnd.jupyter.widget-view+json": {
       "model_id": "fc5aeeb53f454849965bfa32ae87c14d",
       "version_major": 2,
       "version_minor": 0
      },
      "text/plain": [
       "HBox(children=(FloatProgress(value=0.0, max=251.0), HTML(value='')))"
      ]
     },
     "metadata": {},
     "output_type": "display_data"
    },
    {
     "name": "stdout",
     "output_type": "stream",
     "text": [
      "\n",
      "recall: grapheme 1.0, vowel 1.0, consonant 1.0, total 1.0, y (8034, 3)\n",
      "recall score : 1.0000\n",
      "validation loss : 0.0001\n",
      "epochs 7/20 completed\n",
      "epochs 8/20 \n"
     ]
    },
    {
     "data": {
      "application/vnd.jupyter.widget-view+json": {
       "model_id": "2f66e8fdea394b1cb1fb5c2078cf474b",
       "version_major": 2,
       "version_minor": 0
      },
      "text/plain": [
       "HBox(children=(FloatProgress(value=0.0, max=1004.0), HTML(value='')))"
      ]
     },
     "metadata": {},
     "output_type": "display_data"
    },
    {
     "name": "stdout",
     "output_type": "stream",
     "text": [
      "\n",
      "recall: grapheme 1.0, vowel 1.0, consonant 0.9999928460542412, total 0.9999982115135603, y (32134, 3)\n",
      "recall score : 1.0000\n",
      "train loss : 0.0004\n"
     ]
    },
    {
     "data": {
      "application/vnd.jupyter.widget-view+json": {
       "model_id": "c6401c75fc9344b48294a87b86632cc5",
       "version_major": 2,
       "version_minor": 0
      },
      "text/plain": [
       "HBox(children=(FloatProgress(value=0.0, max=251.0), HTML(value='')))"
      ]
     },
     "metadata": {},
     "output_type": "display_data"
    },
    {
     "name": "stdout",
     "output_type": "stream",
     "text": [
      "\n",
      "recall: grapheme 1.0, vowel 1.0, consonant 1.0, total 1.0, y (8034, 3)\n",
      "recall score : 1.0000\n",
      "validation loss : 0.0001\n",
      "epochs 8/20 completed\n",
      "epochs 9/20 \n"
     ]
    },
    {
     "data": {
      "application/vnd.jupyter.widget-view+json": {
       "model_id": "b28b1433cd8a4c4b8cb3e4062d9e2c81",
       "version_major": 2,
       "version_minor": 0
      },
      "text/plain": [
       "HBox(children=(FloatProgress(value=0.0, max=1004.0), HTML(value='')))"
      ]
     },
     "metadata": {},
     "output_type": "display_data"
    },
    {
     "name": "stdout",
     "output_type": "stream",
     "text": [
      "\n",
      "recall: grapheme 0.9999333742447976, vowel 1.0, consonant 1.0, total 0.9999666871223988, y (32134, 3)\n",
      "recall score : 1.0000\n",
      "train loss : 0.0005\n"
     ]
    },
    {
     "data": {
      "application/vnd.jupyter.widget-view+json": {
       "model_id": "307c5d84610c4c67a291d7d3df63907e",
       "version_major": 2,
       "version_minor": 0
      },
      "text/plain": [
       "HBox(children=(FloatProgress(value=0.0, max=251.0), HTML(value='')))"
      ]
     },
     "metadata": {},
     "output_type": "display_data"
    },
    {
     "name": "stdout",
     "output_type": "stream",
     "text": [
      "\n",
      "recall: grapheme 1.0, vowel 1.0, consonant 1.0, total 1.0, y (8034, 3)\n",
      "recall score : 1.0000\n",
      "validation loss : 0.0001\n",
      "epochs 9/20 completed\n",
      "epochs 10/20 \n"
     ]
    },
    {
     "data": {
      "application/vnd.jupyter.widget-view+json": {
       "model_id": "73b7f3647a4d4648b3b181dcc5574903",
       "version_major": 2,
       "version_minor": 0
      },
      "text/plain": [
       "HBox(children=(FloatProgress(value=0.0, max=1004.0), HTML(value='')))"
      ]
     },
     "metadata": {},
     "output_type": "display_data"
    },
    {
     "name": "stdout",
     "output_type": "stream",
     "text": [
      "\n",
      "recall: grapheme 1.0, vowel 1.0, consonant 1.0, total 1.0, y (32134, 3)\n",
      "recall score : 1.0000\n",
      "train loss : 0.0003\n"
     ]
    },
    {
     "data": {
      "application/vnd.jupyter.widget-view+json": {
       "model_id": "af9b24ec45c44bb7bb317c94c9b328c1",
       "version_major": 2,
       "version_minor": 0
      },
      "text/plain": [
       "HBox(children=(FloatProgress(value=0.0, max=251.0), HTML(value='')))"
      ]
     },
     "metadata": {},
     "output_type": "display_data"
    },
    {
     "name": "stdout",
     "output_type": "stream",
     "text": [
      "\n",
      "recall: grapheme 1.0, vowel 1.0, consonant 1.0, total 1.0, y (8034, 3)\n",
      "recall score : 1.0000\n",
      "validation loss : 0.0000\n",
      "epochs 10/20 completed\n",
      "epochs 11/20 \n"
     ]
    },
    {
     "data": {
      "application/vnd.jupyter.widget-view+json": {
       "model_id": "27f36f8544fc4adbacfc0b350a3bc35f",
       "version_major": 2,
       "version_minor": 0
      },
      "text/plain": [
       "HBox(children=(FloatProgress(value=0.0, max=1004.0), HTML(value='')))"
      ]
     },
     "metadata": {},
     "output_type": "display_data"
    },
    {
     "name": "stdout",
     "output_type": "stream",
     "text": [
      "\n",
      "recall: grapheme 1.0, vowel 1.0, consonant 0.9998812492578077, total 0.9999703123144519, y (32134, 3)\n",
      "recall score : 1.0000\n",
      "train loss : 0.0003\n"
     ]
    },
    {
     "data": {
      "application/vnd.jupyter.widget-view+json": {
       "model_id": "73d764cae9be454b943719e483a56abb",
       "version_major": 2,
       "version_minor": 0
      },
      "text/plain": [
       "HBox(children=(FloatProgress(value=0.0, max=251.0), HTML(value='')))"
      ]
     },
     "metadata": {},
     "output_type": "display_data"
    },
    {
     "name": "stdout",
     "output_type": "stream",
     "text": [
      "\n",
      "recall: grapheme 1.0, vowel 1.0, consonant 1.0, total 1.0, y (8034, 3)\n",
      "recall score : 1.0000\n",
      "validation loss : 0.0000\n",
      "epochs 11/20 completed\n",
      "epochs 12/20 \n"
     ]
    },
    {
     "data": {
      "application/vnd.jupyter.widget-view+json": {
       "model_id": "1e6aeeaeab2c40eab0edad97190cb9cf",
       "version_major": 2,
       "version_minor": 0
      },
      "text/plain": [
       "HBox(children=(FloatProgress(value=0.0, max=1004.0), HTML(value='')))"
      ]
     },
     "metadata": {},
     "output_type": "display_data"
    },
    {
     "name": "stdout",
     "output_type": "stream",
     "text": [
      "\n",
      "recall: grapheme 0.9999846588119784, vowel 1.0, consonant 1.0, total 0.9999923294059891, y (32134, 3)\n",
      "recall score : 1.0000\n",
      "train loss : 0.0003\n"
     ]
    },
    {
     "data": {
      "application/vnd.jupyter.widget-view+json": {
       "model_id": "c07e11a8d38f4f8db8023ff7f00b1fcb",
       "version_major": 2,
       "version_minor": 0
      },
      "text/plain": [
       "HBox(children=(FloatProgress(value=0.0, max=251.0), HTML(value='')))"
      ]
     },
     "metadata": {},
     "output_type": "display_data"
    },
    {
     "name": "stdout",
     "output_type": "stream",
     "text": [
      "\n",
      "recall: grapheme 1.0, vowel 1.0, consonant 1.0, total 1.0, y (8034, 3)\n",
      "recall score : 1.0000\n",
      "validation loss : 0.0000\n",
      "epochs 12/20 completed\n",
      "epochs 13/20 \n"
     ]
    },
    {
     "data": {
      "application/vnd.jupyter.widget-view+json": {
       "model_id": "1b8637b3d5ef4c28a315d40a71b5662d",
       "version_major": 2,
       "version_minor": 0
      },
      "text/plain": [
       "HBox(children=(FloatProgress(value=0.0, max=1004.0), HTML(value='')))"
      ]
     },
     "metadata": {},
     "output_type": "display_data"
    },
    {
     "name": "stdout",
     "output_type": "stream",
     "text": [
      "\n",
      "recall: grapheme 1.0, vowel 1.0, consonant 1.0, total 1.0, y (32134, 3)\n",
      "recall score : 1.0000\n",
      "train loss : 0.0002\n"
     ]
    },
    {
     "data": {
      "application/vnd.jupyter.widget-view+json": {
       "model_id": "576ff09a10bc4431931fd499b5c5a41b",
       "version_major": 2,
       "version_minor": 0
      },
      "text/plain": [
       "HBox(children=(FloatProgress(value=0.0, max=251.0), HTML(value='')))"
      ]
     },
     "metadata": {},
     "output_type": "display_data"
    },
    {
     "name": "stdout",
     "output_type": "stream",
     "text": [
      "\n",
      "recall: grapheme 1.0, vowel 1.0, consonant 1.0, total 1.0, y (8034, 3)\n",
      "recall score : 1.0000\n",
      "validation loss : 0.0000\n",
      "epochs 13/20 completed\n",
      "epochs 14/20 \n"
     ]
    },
    {
     "data": {
      "application/vnd.jupyter.widget-view+json": {
       "model_id": "14d9e826f03146d7aa89ddf44bac874b",
       "version_major": 2,
       "version_minor": 0
      },
      "text/plain": [
       "HBox(children=(FloatProgress(value=0.0, max=1004.0), HTML(value='')))"
      ]
     },
     "metadata": {},
     "output_type": "display_data"
    },
    {
     "name": "stdout",
     "output_type": "stream",
     "text": [
      "\n",
      "recall: grapheme 1.0, vowel 1.0, consonant 1.0, total 1.0, y (32134, 3)\n",
      "recall score : 1.0000\n",
      "train loss : 0.0002\n"
     ]
    },
    {
     "data": {
      "application/vnd.jupyter.widget-view+json": {
       "model_id": "d5941a0b53a8452eae4ee987a19ee4ef",
       "version_major": 2,
       "version_minor": 0
      },
      "text/plain": [
       "HBox(children=(FloatProgress(value=0.0, max=251.0), HTML(value='')))"
      ]
     },
     "metadata": {},
     "output_type": "display_data"
    },
    {
     "name": "stdout",
     "output_type": "stream",
     "text": [
      "\n",
      "recall: grapheme 1.0, vowel 1.0, consonant 0.9998315363881402, total 0.999957884097035, y (8034, 3)\n",
      "recall score : 1.0000\n",
      "validation loss : 0.0002\n",
      "epochs 14/20 completed\n",
      "epochs 15/20 \n"
     ]
    },
    {
     "data": {
      "application/vnd.jupyter.widget-view+json": {
       "model_id": "837a6d663dad4efa845bd72b7eadd115",
       "version_major": 2,
       "version_minor": 0
      },
      "text/plain": [
       "HBox(children=(FloatProgress(value=0.0, max=1004.0), HTML(value='')))"
      ]
     },
     "metadata": {},
     "output_type": "display_data"
    },
    {
     "name": "stdout",
     "output_type": "stream",
     "text": [
      "\n",
      "recall: grapheme 1.0, vowel 0.9999063816345461, consonant 0.9992925873694374, total 0.9997997422509959, y (32134, 3)\n",
      "recall score : 0.9998\n",
      "train loss : 0.0005\n"
     ]
    },
    {
     "data": {
      "application/vnd.jupyter.widget-view+json": {
       "model_id": "12ed84341c774aab900734f13e5ad7e7",
       "version_major": 2,
       "version_minor": 0
      },
      "text/plain": [
       "HBox(children=(FloatProgress(value=0.0, max=251.0), HTML(value='')))"
      ]
     },
     "metadata": {},
     "output_type": "display_data"
    },
    {
     "name": "stdout",
     "output_type": "stream",
     "text": [
      "\n",
      "recall: grapheme 1.0, vowel 1.0, consonant 1.0, total 1.0, y (8034, 3)\n",
      "recall score : 1.0000\n",
      "validation loss : 0.0000\n",
      "epochs 15/20 completed\n",
      "epochs 16/20 \n"
     ]
    },
    {
     "data": {
      "application/vnd.jupyter.widget-view+json": {
       "model_id": "3c1eff26aceb472fb3c22cc107f0e379",
       "version_major": 2,
       "version_minor": 0
      },
      "text/plain": [
       "HBox(children=(FloatProgress(value=0.0, max=1004.0), HTML(value='')))"
      ]
     },
     "metadata": {},
     "output_type": "display_data"
    },
    {
     "name": "stdout",
     "output_type": "stream",
     "text": [
      "\n",
      "recall: grapheme 0.999991755705052, vowel 0.99990400226438, consonant 0.9999928460542412, total 0.9999700899321813, y (32134, 3)\n",
      "recall score : 1.0000\n",
      "train loss : 0.0004\n"
     ]
    },
    {
     "data": {
      "application/vnd.jupyter.widget-view+json": {
       "model_id": "37f48f2485e749a4ab2b5bf994d2b214",
       "version_major": 2,
       "version_minor": 0
      },
      "text/plain": [
       "HBox(children=(FloatProgress(value=0.0, max=251.0), HTML(value='')))"
      ]
     },
     "metadata": {},
     "output_type": "display_data"
    },
    {
     "name": "stdout",
     "output_type": "stream",
     "text": [
      "\n",
      "recall: grapheme 1.0, vowel 1.0, consonant 1.0, total 1.0, y (8034, 3)\n",
      "recall score : 1.0000\n",
      "validation loss : 0.0001\n",
      "epochs 16/20 completed\n",
      "epochs 17/20 \n"
     ]
    },
    {
     "data": {
      "application/vnd.jupyter.widget-view+json": {
       "model_id": "4af99f74c519497db8c30c511ddb83f9",
       "version_major": 2,
       "version_minor": 0
      },
      "text/plain": [
       "HBox(children=(FloatProgress(value=0.0, max=1004.0), HTML(value='')))"
      ]
     },
     "metadata": {},
     "output_type": "display_data"
    },
    {
     "name": "stdout",
     "output_type": "stream",
     "text": [
      "\n",
      "recall: grapheme 1.0, vowel 1.0, consonant 1.0, total 1.0, y (32134, 3)\n",
      "recall score : 1.0000\n",
      "train loss : 0.0002\n"
     ]
    },
    {
     "data": {
      "application/vnd.jupyter.widget-view+json": {
       "model_id": "374eb34058c74edfb3d4c8be883ebdfa",
       "version_major": 2,
       "version_minor": 0
      },
      "text/plain": [
       "HBox(children=(FloatProgress(value=0.0, max=251.0), HTML(value='')))"
      ]
     },
     "metadata": {},
     "output_type": "display_data"
    },
    {
     "name": "stdout",
     "output_type": "stream",
     "text": [
      "\n",
      "recall: grapheme 1.0, vowel 1.0, consonant 1.0, total 1.0, y (8034, 3)\n",
      "recall score : 1.0000\n",
      "validation loss : 0.0000\n",
      "epochs 17/20 completed\n",
      "epochs 18/20 \n"
     ]
    },
    {
     "data": {
      "application/vnd.jupyter.widget-view+json": {
       "model_id": "beabeb71ca8642d398844a952cee1fe4",
       "version_major": 2,
       "version_minor": 0
      },
      "text/plain": [
       "HBox(children=(FloatProgress(value=0.0, max=1004.0), HTML(value='')))"
      ]
     },
     "metadata": {},
     "output_type": "display_data"
    },
    {
     "name": "stdout",
     "output_type": "stream",
     "text": [
      "\n",
      "recall: grapheme 1.0, vowel 1.0, consonant 1.0, total 1.0, y (32134, 3)\n",
      "recall score : 1.0000\n",
      "train loss : 0.0002\n"
     ]
    },
    {
     "data": {
      "application/vnd.jupyter.widget-view+json": {
       "model_id": "a1b83e43dee646a7a71b224666ce23a0",
       "version_major": 2,
       "version_minor": 0
      },
      "text/plain": [
       "HBox(children=(FloatProgress(value=0.0, max=251.0), HTML(value='')))"
      ]
     },
     "metadata": {},
     "output_type": "display_data"
    },
    {
     "name": "stdout",
     "output_type": "stream",
     "text": [
      "\n",
      "recall: grapheme 1.0, vowel 1.0, consonant 1.0, total 1.0, y (8034, 3)\n",
      "recall score : 1.0000\n",
      "validation loss : 0.0000\n",
      "epochs 18/20 completed\n",
      "epochs 19/20 \n"
     ]
    },
    {
     "data": {
      "application/vnd.jupyter.widget-view+json": {
       "model_id": "438bde0546944d1081bfae73c96f86a5",
       "version_major": 2,
       "version_minor": 0
      },
      "text/plain": [
       "HBox(children=(FloatProgress(value=0.0, max=1004.0), HTML(value='')))"
      ]
     },
     "metadata": {},
     "output_type": "display_data"
    },
    {
     "name": "stdout",
     "output_type": "stream",
     "text": [
      "\n",
      "recall: grapheme 1.0, vowel 1.0, consonant 1.0, total 1.0, y (32134, 3)\n",
      "recall score : 1.0000\n",
      "train loss : 0.0002\n"
     ]
    },
    {
     "data": {
      "application/vnd.jupyter.widget-view+json": {
       "model_id": "e079cc905d6c47dfbb3b80a8ac92fae1",
       "version_major": 2,
       "version_minor": 0
      },
      "text/plain": [
       "HBox(children=(FloatProgress(value=0.0, max=251.0), HTML(value='')))"
      ]
     },
     "metadata": {},
     "output_type": "display_data"
    },
    {
     "name": "stdout",
     "output_type": "stream",
     "text": [
      "\n",
      "recall: grapheme 1.0, vowel 1.0, consonant 1.0, total 1.0, y (8034, 3)\n",
      "recall score : 1.0000\n",
      "validation loss : 0.0000\n",
      "epochs 19/20 completed\n",
      "epochs 20/20 \n"
     ]
    },
    {
     "data": {
      "application/vnd.jupyter.widget-view+json": {
       "model_id": "cee4c7c3126a436c9778d5e3f0f097f8",
       "version_major": 2,
       "version_minor": 0
      },
      "text/plain": [
       "HBox(children=(FloatProgress(value=0.0, max=1004.0), HTML(value='')))"
      ]
     },
     "metadata": {},
     "output_type": "display_data"
    },
    {
     "name": "stderr",
     "output_type": "stream",
     "text": [
      "IOPub message rate exceeded.\n",
      "The notebook server will temporarily stop sending output\n",
      "to the client in order to avoid crashing it.\n",
      "To change this limit, set the config variable\n",
      "`--NotebookApp.iopub_msg_rate_limit`.\n",
      "\n",
      "Current values:\n",
      "NotebookApp.iopub_msg_rate_limit=1000.0 (msgs/sec)\n",
      "NotebookApp.rate_limit_window=3.0 (secs)\n",
      "\n"
     ]
    }
   ],
   "source": [
    "train_accs, train_losses, valid_accs, valid_losses,\\\n",
    "    train_outputs, train_targets, valid_outputs, \\\n",
    "    valid_targets = run_model(resnet_34, optimizer, criterion, \n",
    "                              scheduler, folds=3, train_batch_size=32, validation_batch_size=32)"
   ]
  },
  {
   "cell_type": "code",
   "execution_count": 15,
   "metadata": {},
   "outputs": [],
   "source": [
    "def save_metrics(train_accs, train_losses, valid_accs, valid_losses, file_name):\n",
    "    # save metrics to csv\n",
    "    new_train_losses = [train_loss.item() for train_loss in train_losses]\n",
    "    new_valid_losses = [valid_loss.item() for valid_loss in valid_losses]\n",
    "    df = [train_accs, new_train_losses, valid_accs, new_valid_losses]\n",
    "    new_df = [*zip(*df)]\n",
    "    dataframe=pd.DataFrame(new_df, \n",
    "                             columns=['train_accs', 'train_losses', 'valid_accs', 'valid_losses'])\n",
    "    dataframe.head()\n",
    "    dataframe.to_csv(\"../data/resnet_34_pretrained.csv\", index=False)"
   ]
  },
  {
   "cell_type": "code",
   "execution_count": 16,
   "metadata": {},
   "outputs": [],
   "source": [
    "save_metrics(train_accs, train_losses, valid_accs, valid_losses, \"../data/resnet_34_no_pretrained.csv\")"
   ]
  },
  {
   "cell_type": "code",
   "execution_count": 17,
   "metadata": {},
   "outputs": [],
   "source": [
    "def plot_final_confusion_matrices(validation_df, predictions_df):\n",
    "    n_grapheme=168\n",
    "    n_vowel=11\n",
    "    n_consonant=7\n",
    "    \n",
    "    validation_df = torch.split(validation_df, [n_grapheme, n_vowel, n_consonant], dim=1)\n",
    "    validation_df = [torch.argmax(py, dim=1).cpu().numpy() for py in validation_df]\n",
    "    \n",
    "    predictions_df = predictions_df.cpu().numpy()\n",
    "    \n",
    "    fig = plt.figure(figsize=(15, 15))\n",
    "    #ax1 = fig.add_subplot(311)\n",
    "    ax2 = fig.add_subplot(312)\n",
    "    ax3 = fig.add_subplot(313)\n",
    "    \n",
    "#     commenting because of 168 labels\n",
    "#     cnf_matrix_grapheme_root = metrics.confusion_matrix(validation_df[0], predictions_df[:, 0])\n",
    "#     sn.heatmap(cnf_matrix_grapheme_root, annot=True, linewidths=.5, ax=ax1, fmt='d', cmap=\"Blues\")\n",
    "\n",
    "    cnf_matrix_vowel_diacritic = metrics.confusion_matrix(validation_df[1], predictions_df[:, 1])\n",
    "    sn.heatmap(cnf_matrix_vowel_diacritic, annot=True, linewidths=.5, ax=ax2, fmt='d', cmap=\"Blues\")\n",
    "\n",
    "    cnf_matrix_consonant_diacritic = metrics.confusion_matrix(validation_df[2], predictions_df[:, 2])\n",
    "    sn.heatmap(cnf_matrix_consonant_diacritic, annot=True, linewidths=.5, ax=ax3, fmt='d', cmap=\"Blues\")"
   ]
  },
  {
   "cell_type": "code",
   "execution_count": 18,
   "metadata": {},
   "outputs": [
    {
     "data": {
      "image/png": "[encoded data removed]",
      "text/plain": [
       "<Figure size 1080x1080 with 4 Axes>"
      ]
     },
     "metadata": {
      "needs_background": "light"
     },
     "output_type": "display_data"
    }
   ],
   "source": [
    "plot_final_confusion_matrices(valid_outputs, valid_targets)"
   ]
  },
  {
   "cell_type": "code",
   "execution_count": 19,
   "metadata": {},
   "outputs": [],
   "source": [
    "def plot_acc_loss(train_acc, train_loss, valid_acc, valid_loss, epochs=20):\n",
    "    epochs = [i+1 for i in range(epochs)]\n",
    "    fig,ax = plt.subplots(1,2,figsize=(15,5))\n",
    "    ax[0].plot(epochs, train_loss, \"-b\", label=\"training\")\n",
    "    ax[0].plot(epochs, valid_loss, \"-r\", label=\"validation\")\n",
    "    ax[0].set_title('loss')\n",
    "    ax[0].legend(loc=\"upper center\")\n",
    "    \n",
    "    \n",
    "    ax[1].plot(epochs, train_acc, \"-b\", label=\"training\")\n",
    "    ax[1].plot(epochs, valid_acc, \"-r\", label=\"validation\")\n",
    "    ax[1].set_title('acc')\n",
    "    ax[1].legend(loc=\"upper center\")"
   ]
  },
  {
   "cell_type": "code",
   "execution_count": 21,
   "metadata": {},
   "outputs": [
    {
     "data": {
      "image/png": "[encoded data removed]",
      "text/plain": [
       "<Figure size 1080x360 with 2 Axes>"
      ]
     },
     "metadata": {
      "needs_background": "light"
     },
     "output_type": "display_data"
    }
   ],
   "source": [
    "plot_acc_loss(train_accs[:20], train_losses[:20], valid_accs[:20], valid_losses[:20])"
   ]
  },
  {
   "cell_type": "code",
   "execution_count": 22,
   "metadata": {},
   "outputs": [],
   "source": [
    "resnet_34 = ResNet34(True).to(device)\n",
    "optimizer = torch.optim.Adam(resnet_34.parameters(), lr=1e-4)\n",
    "criterion = nn.CrossEntropyLoss()\n",
    "#scheduler = torch.optim.lr_scheduler.StepLR(optimizer, step_size=7, gamma=0.1)\n",
    "scheduler = torch.optim.lr_scheduler.ReduceLROnPlateau(optimizer, \n",
    "                                                        mode=\"min\", \n",
    "                                                        patience=5, \n",
    "                                                        factor=0.3,verbose=True)"
   ]
  },
  {
   "cell_type": "code",
   "execution_count": null,
   "metadata": {},
   "outputs": [
    {
     "name": "stdout",
     "output_type": "stream",
     "text": [
      "folds 1/3 \n",
      "epochs 1/20 \n"
     ]
    },
    {
     "data": {
      "application/vnd.jupyter.widget-view+json": {
       "model_id": "0477d075dc194a2f8bfbff752f9a5ff6",
       "version_major": 2,
       "version_minor": 0
      },
      "text/plain": [
       "HBox(children=(FloatProgress(value=0.0, max=1004.0), HTML(value='')))"
      ]
     },
     "metadata": {},
     "output_type": "display_data"
    },
    {
     "name": "stdout",
     "output_type": "stream",
     "text": [
      "\n",
      "recall: grapheme 0.5525962891301774, vowel 0.8831766835639461, consonant 0.9051625207121511, total 0.723382945634113, y (32135, 3)\n",
      "recall score : 0.7234\n",
      "train loss : 1.0068\n"
     ]
    },
    {
     "data": {
      "application/vnd.jupyter.widget-view+json": {
       "model_id": "70cb6cb5e0944a69a6e2587cf23e71a6",
       "version_major": 2,
       "version_minor": 0
      },
      "text/plain": [
       "HBox(children=(FloatProgress(value=0.0, max=251.0), HTML(value='')))"
      ]
     },
     "metadata": {},
     "output_type": "display_data"
    },
    {
     "name": "stdout",
     "output_type": "stream",
     "text": [
      "\n",
      "recall: grapheme 0.7250200272886002, vowel 0.9469729927639875, consonant 0.9579840695585797, total 0.8387492792249418, y (8033, 3)\n",
      "recall score : 0.8387\n",
      "validation loss : 0.3807\n",
      "epochs 1/20 completed\n",
      "epochs 2/20 \n"
     ]
    },
    {
     "data": {
      "application/vnd.jupyter.widget-view+json": {
       "model_id": "ad57051feb7846a6bf91f3ea10a82d57",
       "version_major": 2,
       "version_minor": 0
      },
      "text/plain": [
       "HBox(children=(FloatProgress(value=0.0, max=1004.0), HTML(value='')))"
      ]
     },
     "metadata": {},
     "output_type": "display_data"
    }
   ],
   "source": [
    "train_accs_pretrained, train_losses_pretrained, valid_accs_pretrained,\\\n",
    "    valid_losses_pretrained, train_outputs_1, train_targets_1, \\\n",
    "    valid_outputs_1, valid_targets_1 = run_model(resnet_34, \n",
    "    optimizer, criterion, scheduler, folds=3, train_batch_size=32, validation_batch_size=32)"
   ]
  },
  {
   "cell_type": "code",
   "execution_count": null,
   "metadata": {},
   "outputs": [],
   "source": [
    "save_metrics(train_accs_pretrained, train_losses_pretrained, valid_accs_pretrained, valid_losses_pretrained, \"../data/resnet_34_pretrained.csv\")\n"
   ]
  },
  {
   "cell_type": "code",
   "execution_count": null,
   "metadata": {},
   "outputs": [],
   "source": [
    "plot_acc_loss(train_accs_pretrained[:20], train_losses_pretrained[:20], valid_accs_pretrained[:20], valid_losses_pretrained[:20])"
   ]
  }
 ],
 "metadata": {
  "kernelspec": {
   "display_name": "Python 3",
   "language": "python",
   "name": "python3"
  },
  "language_info": {
   "codemirror_mode": {
    "name": "ipython",
    "version": 3
   },
   "file_extension": ".py",
   "mimetype": "text/x-python",
   "name": "python",
   "nbconvert_exporter": "python",
   "pygments_lexer": "ipython3",
   "version": "3.6.8"
  }
 },
 "nbformat": 4,
 "nbformat_minor": 4
}
