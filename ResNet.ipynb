{
 "cells": [
  {
   "cell_type": "code",
   "execution_count": 1,
   "metadata": {},
   "outputs": [],
   "source": [
    "import cv2\n",
    "import os\n",
    "\n",
    "import numpy as np\n",
    "import pandas as pd\n",
    "\n",
    "import torch\n",
    "import torch.nn as nn\n",
    "from torch.autograd import Variable\n",
    "from torch.utils.data import Dataset, DataLoader\n",
    "from torch.autograd import Variable\n",
    "from torchvision import transforms, utils, models, datasets\n",
    "from torchsummary import summary\n",
    "\n",
    "from tqdm.notebook import tqdm\n",
    "\n",
    "from sklearn.model_selection import train_test_split, StratifiedShuffleSplit\n",
    "from sklearn.utils import shuffle\n",
    "from sklearn import metrics\n",
    "\n",
    "from PIL import Image\n",
    "import matplotlib.pyplot as plt\n",
    "import seaborn as sn"
   ]
  },
  {
   "cell_type": "code",
   "execution_count": 2,
   "metadata": {},
   "outputs": [],
   "source": [
    "TRAIN_CSV_PATH = \"../data/train.csv\"\n",
    "TRAIN_IMG_PATH = \"../train_images/\"\n",
    "TRAIN = ['../data/train_image_data_0.parquet',\n",
    "         '../data/train_image_data_1.parquet',\n",
    "         '../data/train_image_data_2.parquet',\n",
    "         '../data/train_image_data_3.parquet']\n",
    "\n",
    "TEST_CSV_PATH = \"../data/test.csv\""
   ]
  },
  {
   "cell_type": "code",
   "execution_count": 3,
   "metadata": {},
   "outputs": [],
   "source": [
    "def Resize(df,size=64):\n",
    "    resized = {} \n",
    "    df = df.set_index('image_id')\n",
    "    for i in tqdm(range(df.shape[0])):\n",
    "        image = cv2.resize(df.loc[df.index[i]].values.reshape(137,236),(size,size))\n",
    "        resized[df.index[i]] = image.reshape(-1)\n",
    "    resized = pd.DataFrame(resized).T.reset_index()\n",
    "    resized.columns = resized.columns.astype(str)\n",
    "    resized.rename(columns={'index':'image_id'},inplace=True)\n",
    "    return resized"
   ]
  },
  {
   "cell_type": "code",
   "execution_count": 4,
   "metadata": {},
   "outputs": [
    {
     "data": {
      "application/vnd.jupyter.widget-view+json": {
       "model_id": "2a1ab08e25974d9d8cd302878168e539",
       "version_major": 2,
       "version_minor": 0
      },
      "text/plain": [
       "HBox(children=(FloatProgress(value=0.0, max=50210.0), HTML(value='')))"
      ]
     },
     "metadata": {},
     "output_type": "display_data"
    },
    {
     "name": "stdout",
     "output_type": "stream",
     "text": [
      "\n"
     ]
    },
    {
     "data": {
      "application/vnd.jupyter.widget-view+json": {
       "model_id": "aac4acd767d442b1b3937bdebaf64a0b",
       "version_major": 2,
       "version_minor": 0
      },
      "text/plain": [
       "HBox(children=(FloatProgress(value=0.0, max=50210.0), HTML(value='')))"
      ]
     },
     "metadata": {},
     "output_type": "display_data"
    },
    {
     "name": "stdout",
     "output_type": "stream",
     "text": [
      "\n"
     ]
    },
    {
     "data": {
      "application/vnd.jupyter.widget-view+json": {
       "model_id": "89344b43c7064c4fafd88e28ad815bad",
       "version_major": 2,
       "version_minor": 0
      },
      "text/plain": [
       "HBox(children=(FloatProgress(value=0.0, max=50210.0), HTML(value='')))"
      ]
     },
     "metadata": {},
     "output_type": "display_data"
    },
    {
     "name": "stdout",
     "output_type": "stream",
     "text": [
      "\n"
     ]
    },
    {
     "data": {
      "application/vnd.jupyter.widget-view+json": {
       "model_id": "1009179c71604798bdfe9f95cdf48d8a",
       "version_major": 2,
       "version_minor": 0
      },
      "text/plain": [
       "HBox(children=(FloatProgress(value=0.0, max=50210.0), HTML(value='')))"
      ]
     },
     "metadata": {},
     "output_type": "display_data"
    },
    {
     "name": "stdout",
     "output_type": "stream",
     "text": [
      "\n"
     ]
    }
   ],
   "source": [
    "resized = []\n",
    "for fname in TRAIN:\n",
    "    data = pd.read_parquet(fname)\n",
    "    data = Resize(data)\n",
    "    resized.append(data)\n",
    "\n",
    "image_df = pd.concat(resized, ignore_index = True)"
   ]
  },
  {
   "cell_type": "code",
   "execution_count": 5,
   "metadata": {},
   "outputs": [],
   "source": [
    "class GraphemeDataset(Dataset):\n",
    "    def __init__(self, image_df, label_df, transform=None):\n",
    "        self.image_df = image_df\n",
    "        self.label_df = label_df\n",
    "        self.transform = transform\n",
    "        \n",
    "    def __len__(self):\n",
    "        return len(self.label_df)\n",
    "    \n",
    "    def __getitem__(self,idx):\n",
    "        label1 = self.label_df.grapheme_root.values[idx]\n",
    "        label2 = self.label_df.vowel_diacritic.values[idx]\n",
    "        label3 = self.label_df.consonant_diacritic.values[idx]\n",
    "        \n",
    "        image = self.image_df.iloc[idx][1:].values.reshape(64,64).astype(np.float)\n",
    "        \n",
    "        if self.transform:\n",
    "            image = self.transform(image)\n",
    "\n",
    "        return image,label1,label2,label3"
   ]
  },
  {
   "cell_type": "code",
   "execution_count": 6,
   "metadata": {},
   "outputs": [],
   "source": [
    "device = torch.device(\"cuda:0\" if torch.cuda.is_available() else \"cpu\")"
   ]
  },
  {
   "cell_type": "code",
   "execution_count": 7,
   "metadata": {},
   "outputs": [],
   "source": [
    "# class ResidualBlock(nn.Module):\n",
    "#     def __init__(self,in_channels,out_channels,stride=1,kernel_size=3,padding=1,bias=False):\n",
    "#         super(ResidualBlock,self).__init__()\n",
    "#         self.cnn1 =nn.Sequential(\n",
    "#             nn.Conv2d(in_channels,out_channels,kernel_size,stride,padding,bias=False),\n",
    "#             nn.BatchNorm2d(out_channels),\n",
    "#             nn.ReLU(True)\n",
    "#         )\n",
    "#         self.cnn2 = nn.Sequential(\n",
    "#             nn.Conv2d(out_channels,out_channels,kernel_size,1,padding,bias=False),\n",
    "#             nn.BatchNorm2d(out_channels)\n",
    "#         )\n",
    "#         if stride != 1 or in_channels != out_channels:\n",
    "#             self.shortcut = nn.Sequential(\n",
    "#                 nn.Conv2d(in_channels,out_channels,kernel_size=1,stride=stride,bias=False),\n",
    "#                 nn.BatchNorm2d(out_channels)\n",
    "#             )\n",
    "#         else:\n",
    "#             self.shortcut = nn.Sequential()\n",
    "            \n",
    "#     def forward(self,x):\n",
    "#         residual = x\n",
    "#         x = self.cnn1(x)\n",
    "#         x = self.cnn2(x)\n",
    "#         x += self.shortcut(residual)\n",
    "#         x = nn.ReLU(True)(x)\n",
    "#         return x"
   ]
  },
  {
   "cell_type": "code",
   "execution_count": 8,
   "metadata": {},
   "outputs": [],
   "source": [
    "# class ResNet34(nn.Module):\n",
    "#     def __init__(self):\n",
    "#         super(ResNet34,self).__init__()\n",
    "        \n",
    "#         self.block1 = nn.Sequential(\n",
    "#             nn.Conv2d(1,64,kernel_size=2,stride=2,padding=3,bias=False),\n",
    "#             nn.BatchNorm2d(64),\n",
    "#             nn.ReLU(True)\n",
    "#         )\n",
    "        \n",
    "#         self.block2 = nn.Sequential(\n",
    "#             nn.MaxPool2d(1,1),\n",
    "#             ResidualBlock(64,64),\n",
    "#             ResidualBlock(64,64,2)\n",
    "#         )\n",
    "        \n",
    "#         self.block3 = nn.Sequential(\n",
    "#             ResidualBlock(64,128),\n",
    "#             ResidualBlock(128,128,2)\n",
    "#         )\n",
    "        \n",
    "#         self.block4 = nn.Sequential(\n",
    "#             ResidualBlock(128,256),\n",
    "#             ResidualBlock(256,256,2)\n",
    "#         )\n",
    "#         self.block5 = nn.Sequential(\n",
    "#             ResidualBlock(256,512),\n",
    "#             ResidualBlock(512,512,2)\n",
    "#         )\n",
    "        \n",
    "#         self.avgpool = nn.AvgPool2d(2)\n",
    "        \n",
    "#         # grapheme_root\n",
    "#         self.fc1 = nn.Linear(512,168)\n",
    "        \n",
    "#         # vowel_diacritic\n",
    "#         self.fc2 = nn.Linear(512,11)\n",
    "        \n",
    "#         # consonant_diacritic\n",
    "#         self.fc3 = nn.Linear(512,7)\n",
    "        \n",
    "#     def forward(self,x):\n",
    "#         x = self.block1(x)\n",
    "#         x = self.block2(x)\n",
    "#         x = self.block3(x)\n",
    "#         x = self.block4(x)\n",
    "#         x = self.block5(x)\n",
    "#         x = self.avgpool(x)\n",
    "#         x = x.view(x.size(0),-1)\n",
    "#         x1 = self.fc1(x)\n",
    "#         x2 = self.fc2(x)\n",
    "#         x3 = self.fc3(x)\n",
    "#         return x1,x2,x3"
   ]
  },
  {
   "cell_type": "code",
   "execution_count": 17,
   "metadata": {},
   "outputs": [],
   "source": [
    "class ResNet34(nn.Module):\n",
    "    def __init__(self, pretrained):\n",
    "        super(ResNet34, self).__init__()\n",
    "        if pretrained is True:\n",
    "            self.model = pretrainedmodels.__dict__[\"resnet34\"](pretrained=\"imagenet\")\n",
    "        else:\n",
    "            self.model = pretrainedmodels.__dict__[\"resnet34\"](pretrained=None)\n",
    "        \n",
    "        self.l0 = nn.Linear(512, 168)\n",
    "        self.l1 = nn.Linear(512, 11)\n",
    "        self.l2 = nn.Linear(512, 7)\n",
    "\n",
    "    def forward(self, x):\n",
    "        bs, _, _, _ = x.shape\n",
    "        x = self.model.features(x)\n",
    "        x = F.adaptive_avg_pool2d(x, 1).reshape(bs, -1)\n",
    "        l0 = self.l0(x)\n",
    "        l1 = self.l1(x)\n",
    "        l2 = self.l2(x)\n",
    "        return l0, l1, l2"
   ]
  },
  {
   "cell_type": "code",
   "execution_count": 19,
   "metadata": {
    "scrolled": false
   },
   "outputs": [
    {
     "ename": "NameError",
     "evalue": "name 'pretrainedmodels' is not defined",
     "output_type": "error",
     "traceback": [
      "\u001b[0;31m---------------------------------------------------------------------------\u001b[0m",
      "\u001b[0;31mNameError\u001b[0m                                 Traceback (most recent call last)",
      "\u001b[0;32m<ipython-input-19-748828044c44>\u001b[0m in \u001b[0;36m<module>\u001b[0;34m\u001b[0m\n\u001b[0;32m----> 1\u001b[0;31m \u001b[0mresnet_34\u001b[0m \u001b[0;34m=\u001b[0m \u001b[0mResNet34\u001b[0m\u001b[0;34m(\u001b[0m\u001b[0;32mTrue\u001b[0m\u001b[0;34m)\u001b[0m\u001b[0;34m.\u001b[0m\u001b[0mto\u001b[0m\u001b[0;34m(\u001b[0m\u001b[0mdevice\u001b[0m\u001b[0;34m)\u001b[0m\u001b[0;34m\u001b[0m\u001b[0;34m\u001b[0m\u001b[0m\n\u001b[0m\u001b[1;32m      2\u001b[0m \u001b[0moptimizer\u001b[0m \u001b[0;34m=\u001b[0m \u001b[0mtorch\u001b[0m\u001b[0;34m.\u001b[0m\u001b[0moptim\u001b[0m\u001b[0;34m.\u001b[0m\u001b[0mAdam\u001b[0m\u001b[0;34m(\u001b[0m\u001b[0mresnet_34\u001b[0m\u001b[0;34m.\u001b[0m\u001b[0mparameters\u001b[0m\u001b[0;34m(\u001b[0m\u001b[0;34m)\u001b[0m\u001b[0;34m,\u001b[0m \u001b[0mlr\u001b[0m\u001b[0;34m=\u001b[0m\u001b[0;36m0.00146\u001b[0m\u001b[0;34m)\u001b[0m\u001b[0;34m\u001b[0m\u001b[0;34m\u001b[0m\u001b[0m\n\u001b[1;32m      3\u001b[0m \u001b[0;31m#optimizer = torch.optim.SGD(resnet_34.parameters(), lr=4e-4)\u001b[0m\u001b[0;34m\u001b[0m\u001b[0;34m\u001b[0m\u001b[0;34m\u001b[0m\u001b[0m\n\u001b[1;32m      4\u001b[0m \u001b[0mcriterion\u001b[0m \u001b[0;34m=\u001b[0m \u001b[0mnn\u001b[0m\u001b[0;34m.\u001b[0m\u001b[0mCrossEntropyLoss\u001b[0m\u001b[0;34m(\u001b[0m\u001b[0;34m)\u001b[0m\u001b[0;34m\u001b[0m\u001b[0;34m\u001b[0m\u001b[0m\n\u001b[1;32m      5\u001b[0m \u001b[0;31m#scheduler = torch.optim.lr_scheduler.StepLR(optimizer, step_size=7, gamma=0.1)\u001b[0m\u001b[0;34m\u001b[0m\u001b[0;34m\u001b[0m\u001b[0;34m\u001b[0m\u001b[0m\n",
      "\u001b[0;32m<ipython-input-17-010a18ecf435>\u001b[0m in \u001b[0;36m__init__\u001b[0;34m(self, pretrained)\u001b[0m\n\u001b[1;32m      3\u001b[0m         \u001b[0msuper\u001b[0m\u001b[0;34m(\u001b[0m\u001b[0mResNet34\u001b[0m\u001b[0;34m,\u001b[0m \u001b[0mself\u001b[0m\u001b[0;34m)\u001b[0m\u001b[0;34m.\u001b[0m\u001b[0m__init__\u001b[0m\u001b[0;34m(\u001b[0m\u001b[0;34m)\u001b[0m\u001b[0;34m\u001b[0m\u001b[0;34m\u001b[0m\u001b[0m\n\u001b[1;32m      4\u001b[0m         \u001b[0;32mif\u001b[0m \u001b[0mpretrained\u001b[0m \u001b[0;32mis\u001b[0m \u001b[0;32mTrue\u001b[0m\u001b[0;34m:\u001b[0m\u001b[0;34m\u001b[0m\u001b[0;34m\u001b[0m\u001b[0m\n\u001b[0;32m----> 5\u001b[0;31m             \u001b[0mself\u001b[0m\u001b[0;34m.\u001b[0m\u001b[0mmodel\u001b[0m \u001b[0;34m=\u001b[0m \u001b[0mpretrainedmodels\u001b[0m\u001b[0;34m.\u001b[0m\u001b[0m__dict__\u001b[0m\u001b[0;34m[\u001b[0m\u001b[0;34m\"resnet34\"\u001b[0m\u001b[0;34m]\u001b[0m\u001b[0;34m(\u001b[0m\u001b[0mpretrained\u001b[0m\u001b[0;34m=\u001b[0m\u001b[0;34m\"imagenet\"\u001b[0m\u001b[0;34m)\u001b[0m\u001b[0;34m\u001b[0m\u001b[0;34m\u001b[0m\u001b[0m\n\u001b[0m\u001b[1;32m      6\u001b[0m         \u001b[0;32melse\u001b[0m\u001b[0;34m:\u001b[0m\u001b[0;34m\u001b[0m\u001b[0;34m\u001b[0m\u001b[0m\n\u001b[1;32m      7\u001b[0m             \u001b[0mself\u001b[0m\u001b[0;34m.\u001b[0m\u001b[0mmodel\u001b[0m \u001b[0;34m=\u001b[0m \u001b[0mpretrainedmodels\u001b[0m\u001b[0;34m.\u001b[0m\u001b[0m__dict__\u001b[0m\u001b[0;34m[\u001b[0m\u001b[0;34m\"resnet34\"\u001b[0m\u001b[0;34m]\u001b[0m\u001b[0;34m(\u001b[0m\u001b[0mpretrained\u001b[0m\u001b[0;34m=\u001b[0m\u001b[0;32mNone\u001b[0m\u001b[0;34m)\u001b[0m\u001b[0;34m\u001b[0m\u001b[0;34m\u001b[0m\u001b[0m\n",
      "\u001b[0;31mNameError\u001b[0m: name 'pretrainedmodels' is not defined"
     ]
    }
   ],
   "source": [
    "resnet_34 = ResNet34(True).to(device)\n",
    "optimizer = torch.optim.Adam(resnet_34.parameters(), lr=0.00146)\n",
    "#optimizer = torch.optim.SGD(resnet_34.parameters(), lr=4e-4)\n",
    "criterion = nn.CrossEntropyLoss()\n",
    "#scheduler = torch.optim.lr_scheduler.StepLR(optimizer, step_size=7, gamma=0.1)\n",
    "scheduler = torch.optim.lr_scheduler.ReduceLROnPlateau(optimizer, \n",
    "                                                            mode=\"min\", \n",
    "                                                            patience=5, \n",
    "                                                            factor=0.3,verbose=True)"
   ]
  },
  {
   "cell_type": "code",
   "execution_count": null,
   "metadata": {},
   "outputs": [],
   "source": [
    "from torchsummary import summary\n",
    "summary(resnet_34, (3, 64, 64))"
   ]
  },
  {
   "cell_type": "code",
   "execution_count": 12,
   "metadata": {},
   "outputs": [],
   "source": [
    "def train(model, optimizer, criterion, scheduler, epochs=32, stratification=False):\n",
    "    train_validation_df = pd.read_csv(TRAIN_CSV_PATH)\n",
    "\n",
    "    # TODO:  used for local testing only\n",
    "    train_validation_df = train_validation_df.sample(frac = 0.5, random_state=0)\n",
    "    \n",
    "    \n",
    "    if stratification:\n",
    "        train_df, validation_df = train_test_split(\n",
    "            train_validation_df, test_size=0.1, random_state=0, \n",
    "            stratify=train_validation_df[['grapheme_root', 'vowel_diacritic', 'consonant_diacritic']])\n",
    "    else:\n",
    "        train_df, validation_df = train_test_split(\n",
    "                train_validation_df, test_size=0.1, random_state=0)\n",
    "    \n",
    "    train_image = GraphemeDataset(image_df, train_df)\n",
    "    validation_image = GraphemeDataset(image_df, validation_df)\n",
    "    best_model_wts = model.state_dict()\n",
    "    \n",
    "    \n",
    "    \n",
    "    best_acc = 0.0\n",
    "    train_losses = []\n",
    "    train_accs = []\n",
    "    valid_losses = []\n",
    "    valid_accs = []\n",
    "    \n",
    "    for epoch in range(epochs):\n",
    "        print('epochs {}/{} '.format(epoch+1,epochs))\n",
    "        running_loss = 0.0\n",
    "        running_acc = 0.0\n",
    "        validation_loss = 0.0\n",
    "        validation_acc = 0.0\n",
    "        train_loader = DataLoader(train_image, batch_size=32, shuffle=True)\n",
    "        validation_loader = DataLoader(validation_image, batch_size=1, shuffle=False)\n",
    "\n",
    "        model.train(True)\n",
    "        for idx, (inputs,labels1,labels2,labels3) in tqdm(enumerate(train_loader), total=len(train_loader)):\n",
    "            inputs = inputs.to(device)\n",
    "\n",
    "            labels1 = labels1.to(device)\n",
    "            labels2 = labels2.to(device)\n",
    "            labels3 = labels3.to(device)\n",
    "\n",
    "            optimizer.zero_grad()\n",
    "            outputs1,outputs2,outputs3 = resnet_34(inputs.unsqueeze(1).float().cuda())\n",
    "\n",
    "            loss1 = criterion(outputs1,labels1)\n",
    "            loss2 = criterion(outputs2,labels2)\n",
    "            loss3 = criterion(outputs3,labels3)\n",
    "\n",
    "            running_loss += loss1+loss2+loss3\n",
    "            running_acc += (outputs1.argmax(1)==labels1).float().mean()\n",
    "            running_acc += (outputs2.argmax(1)==labels2).float().mean()\n",
    "            running_acc += (outputs3.argmax(1)==labels3).float().mean()\n",
    "\n",
    "            (loss1+loss2+loss3).backward()\n",
    "            optimizer.step()\n",
    "\n",
    "        print('train acc : {:.2f}%'.format(running_acc/(len(train_loader)*3)))\n",
    "        print('train loss : {:.4f}'.format(running_loss/len(train_loader)))\n",
    "        \n",
    "        train_losses.append(running_loss/len(train_loader))\n",
    "        train_accs.append(running_acc/(len(train_loader)*3))\n",
    "\n",
    "        model.train(False)\n",
    "        predictions = []\n",
    "        for idx, (inputs,labels1,labels2,labels3) in tqdm(enumerate(validation_loader), total=len(validation_loader)):\n",
    "            inputs = inputs.to(device)\n",
    "            labels1 = labels1.to(device)\n",
    "            labels2 = labels2.to(device)\n",
    "            labels3 = labels3.to(device)\n",
    "\n",
    "            optimizer.zero_grad()\n",
    "            outputs1,outputs2,outputs3 = resnet_34(inputs.unsqueeze(1).float().cuda())\n",
    "            predictions.append([\n",
    "                outputs1.argmax(1).item(),\n",
    "                outputs2.argmax(1).item(),\n",
    "                outputs3.argmax(1).item()\n",
    "           ])\n",
    "            \n",
    "            loss1 = criterion(outputs1,labels1)\n",
    "            loss2 = criterion(outputs2,labels2)\n",
    "            loss3 = criterion(outputs3,labels3)\n",
    "\n",
    "            validation_loss += loss1+loss2+loss3\n",
    "            validation_acc += (outputs1.argmax(1)==labels1).float().mean()\n",
    "            validation_acc += (outputs2.argmax(1)==labels2).float().mean()\n",
    "            validation_acc += (outputs3.argmax(1)==labels3).float().mean()\n",
    "\n",
    "            (loss1+loss2+loss3).backward()\n",
    "            optimizer.step()\n",
    "            \n",
    "        print('validation acc : {:.2f}%'.format(validation_acc/(len(validation_loader)*3)))\n",
    "        print('validation loss : {:.4f}'.format(validation_loss/len(validation_loader)))\n",
    "        \n",
    "        valid_accs.append(validation_acc/(len(validation_loader)*3))\n",
    "        valid_losses.append(validation_loss/len(validation_loader))\n",
    "\n",
    "        if running_acc > best_acc:\n",
    "            best_acc = running_acc\n",
    "            best_model_wts = resnet_34.state_dict() \n",
    "\n",
    "    resnet_34.load_state_dict(best_model_wts)\n",
    "    return train_accs, train_losses, valid_accs, valid_losses, validation_df, predictions "
   ]
  },
  {
   "cell_type": "code",
   "execution_count": 20,
   "metadata": {},
   "outputs": [],
   "source": [
    "def plot_acc_loss(train_acc, train_loss, valid_acc, valid_loss, epochs=20):\n",
    "    epochs = [i+1 for i in range(epochs)]\n",
    "    fig,ax = plt.subplots(1,2,figsize=(15,5))\n",
    "    ax[0].plot(epochs, train_loss, \"-b\", label=\"training\")\n",
    "    ax[0].plot(epochs, valid_loss, \"-r\", label=\"validation\")\n",
    "    ax[0].set_title('loss')\n",
    "    ax[0].legend(loc=\"upper center\")\n",
    "    \n",
    "    \n",
    "    ax[1].plot(epochs, train_acc, \"-b\", label=\"training\")\n",
    "    ax[1].plot(epochs, valid_acc, \"-r\", label=\"validation\")\n",
    "    ax[1].set_title('acc')\n",
    "    ax[1].legend(loc=\"upper center\")"
   ]
  },
  {
   "cell_type": "code",
   "execution_count": 14,
   "metadata": {},
   "outputs": [],
   "source": [
    "def plot_final_confusion_matrices(validation_df, predicted_labels):\n",
    "    predictions_df = pd.DataFrame(predicted_labels, \n",
    "               columns= [\"grapheme_root\", \"vowel_diacritic\", \"consonant_diacritic\"])\n",
    "    fig = plt.figure(figsize=(15, 15))\n",
    "#     ax1 = fig.add_subplot(311)\n",
    "    ax2 = fig.add_subplot(312)\n",
    "    ax3 = fig.add_subplot(313)\n",
    "    \n",
    "#     cnf_matrix_grapheme_root = metrics.confusion_matrix(\n",
    "#             np.array(validation_df[\"grapheme_root\"]), np.array(predictions_df[\"grapheme_root\"]))\n",
    "    \n",
    "#     sn.heatmap(cnf_matrix_grapheme_root, annot=True, linewidths=.5, ax=ax1)\n",
    "\n",
    "    cnf_matrix_vowel_diacritic = metrics.confusion_matrix(\n",
    "        np.array(validation_df[\"vowel_diacritic\"]), np.array(predictions_df[\"vowel_diacritic\"]))\n",
    "\n",
    "    sn.heatmap(cnf_matrix_vowel_diacritic, annot=True, linewidths=.5, ax=ax2, fmt='d')\n",
    "\n",
    "    cnf_matrix_consonant_diacritic = metrics.confusion_matrix(\n",
    "        np.array(validation_df[\"consonant_diacritic\"]), np.array(predictions_df[\"consonant_diacritic\"]))\n",
    "\n",
    "    sn.heatmap(cnf_matrix_consonant_diacritic, annot=True, linewidths=.5, ax=ax3, fmt='d')"
   ]
  },
  {
   "cell_type": "code",
   "execution_count": 16,
   "metadata": {},
   "outputs": [
    {
     "name": "stdout",
     "output_type": "stream",
     "text": [
      "epochs 1/2 \n"
     ]
    },
    {
     "data": {
      "application/vnd.jupyter.widget-view+json": {
       "model_id": "29a75b210e46473f8ab8dfe08aa1111f",
       "version_major": 2,
       "version_minor": 0
      },
      "text/plain": [
       "HBox(children=(FloatProgress(value=0.0, max=2825.0), HTML(value='')))"
      ]
     },
     "metadata": {},
     "output_type": "display_data"
    },
    {
     "name": "stdout",
     "output_type": "stream",
     "text": [
      "\n",
      "train acc : 0.28%\n",
      "train loss : 8.0443\n"
     ]
    },
    {
     "data": {
      "application/vnd.jupyter.widget-view+json": {
       "model_id": "fa75c23a1629485c98ddec33a3b45308",
       "version_major": 2,
       "version_minor": 0
      },
      "text/plain": [
       "HBox(children=(FloatProgress(value=0.0, max=10042.0), HTML(value='')))"
      ]
     },
     "metadata": {},
     "output_type": "display_data"
    },
    {
     "name": "stdout",
     "output_type": "stream",
     "text": [
      "\n",
      "validation acc : 0.28%\n",
      "validation loss : 8.0766\n",
      "epochs 2/2 \n"
     ]
    },
    {
     "data": {
      "application/vnd.jupyter.widget-view+json": {
       "model_id": "4f6f7d5e6f3543fe85023d77dfd755e2",
       "version_major": 2,
       "version_minor": 0
      },
      "text/plain": [
       "HBox(children=(FloatProgress(value=0.0, max=2825.0), HTML(value='')))"
      ]
     },
     "metadata": {},
     "output_type": "display_data"
    },
    {
     "name": "stdout",
     "output_type": "stream",
     "text": [
      "\n",
      "train acc : 0.29%\n",
      "train loss : 8.0226\n"
     ]
    },
    {
     "data": {
      "application/vnd.jupyter.widget-view+json": {
       "model_id": "7acb31ef259445e1bfaae88546a5121a",
       "version_major": 2,
       "version_minor": 0
      },
      "text/plain": [
       "HBox(children=(FloatProgress(value=0.0, max=10042.0), HTML(value='')))"
      ]
     },
     "metadata": {},
     "output_type": "display_data"
    },
    {
     "name": "stdout",
     "output_type": "stream",
     "text": [
      "\n",
      "validation acc : 0.28%\n",
      "validation loss : 8.0513\n"
     ]
    }
   ],
   "source": [
    "train_acc, train_loss, valid_acc, valid_loss, validation_df, predictions = train(resnet_34, optimizer, criterion, scheduler, stratification=True, epochs=2)"
   ]
  },
  {
   "cell_type": "code",
   "execution_count": 21,
   "metadata": {},
   "outputs": [
    {
     "data": {
      "image/png": "[encoded data removed]",
      "text/plain": [
       "<Figure size 1080x360 with 2 Axes>"
      ]
     },
     "metadata": {
      "needs_background": "light"
     },
     "output_type": "display_data"
    }
   ],
   "source": [
    "plot_acc_loss(train_acc, train_loss, valid_acc, valid_loss, epochs=2)"
   ]
  },
  {
   "cell_type": "code",
   "execution_count": 22,
   "metadata": {},
   "outputs": [
    {
     "data": {
      "image/png": "[encoded data removed]",
      "text/plain": [
       "<Figure size 1080x1080 with 4 Axes>"
      ]
     },
     "metadata": {
      "needs_background": "light"
     },
     "output_type": "display_data"
    }
   ],
   "source": [
    "plot_final_confusion_matrices(validation_df, predictions)"
   ]
  },
  {
   "cell_type": "code",
   "execution_count": null,
   "metadata": {},
   "outputs": [],
   "source": [
    "#     train_validation_df = shuffle(train_validation_df)\n",
    "    #     cut = int(len(train_validation_df)*0.8)\n",
    "    #     train_df, validation_df = np.split(train_validation_df, [cut], axis=0)"
   ]
  },
  {
   "cell_type": "code",
   "execution_count": null,
   "metadata": {},
   "outputs": [],
   "source": [
    "#                 predictions.append([\n",
    "#                     outputs1.argmax(1).item(),\n",
    "#                     outputs2.argmax(1).item(),\n",
    "#                     outputs3.argmax(1).item()\n",
    "#                ])\n",
    "\n",
    "    #     predictions_df = pd.DataFrame(predictions, \n",
    "    #           columns= [\"grapheme_root\", \"vowel_diacritic\", \"consonant_diacritic\"])\n",
    "\n",
    "    #     cnf_matrix_grapheme_root = metrics.confusion_matrix(\n",
    "    #         np.array(validation_df[\"grapheme_root\"]), np.array(predictions_df[\"grapheme_root\"]))\n",
    "\n",
    "    #     sn.heatmap(cnf_matrix_grapheme_root, annot=True)\n",
    "\n",
    "    #     cnf_matrix_vowel_diacritic = metrics.confusion_matrix(\n",
    "    #         np.array(validation_df[\"vowel_diacritic\"]), np.array(predictions_df[\"vowel_diacritic\"]))\n",
    "\n",
    "    #     sn.heatmap(cnf_matrix_vowel_diacritic, annot=True)\n",
    "\n",
    "    #     cnf_matrix_consonant_diacritic = metrics.confusion_matrix(\n",
    "    #         np.array(validation_df[\"consonant_diacritic\"]), np.array(predictions_df[\"consonant_diacritic\"]))\n",
    "\n",
    "    #     sn.heatmap(cnf_matrix_consonant_diacritic, annot=True)"
   ]
  }
 ],
 "metadata": {
  "kernelspec": {
   "display_name": "Python 3",
   "language": "python",
   "name": "python3"
  },
  "language_info": {
   "codemirror_mode": {
    "name": "ipython",
    "version": 3
   },
   "file_extension": ".py",
   "mimetype": "text/x-python",
   "name": "python",
   "nbconvert_exporter": "python",
   "pygments_lexer": "ipython3",
   "version": "3.6.8"
  }
 },
 "nbformat": 4,
 "nbformat_minor": 4
}
