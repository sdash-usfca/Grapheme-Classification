{
 "cells": [
  {
   "cell_type": "code",
   "execution_count": 1,
   "metadata": {},
   "outputs": [],
   "source": [
    "import numpy as np\n",
    "import pandas as pd\n",
    "\n",
    "import os\n",
    "import cv2\n",
    "\n",
    "import torch\n",
    "import torch.nn as nn\n",
    "from torch.autograd import Variable\n",
    "from torch.utils.data import Dataset, DataLoader\n",
    "from torch.autograd import Variable\n",
    "from torchvision import transforms, utils, models, datasets\n",
    "from torchsummary import summary\n",
    "\n",
    "from tqdm import tqdm_notebook as tqdm\n",
    "\n",
    "from sklearn.model_selection import train_test_split, StratifiedShuffleSplit\n",
    "from sklearn.utils import shuffle\n",
    "from sklearn import metrics\n",
    "\n",
    "from PIL import Image\n",
    "import matplotlib.pyplot as plt\n",
    "import seaborn as sn"
   ]
  },
  {
   "cell_type": "code",
   "execution_count": 2,
   "metadata": {},
   "outputs": [],
   "source": [
    "TRAIN_CSV_PATH = \"../data/train.csv\"\n",
    "TRAIN_IMG_PATH = \"../train_images/\"\n",
    "TRAIN = ['../data/train_image_data_0.parquet',\n",
    "         '../data/train_image_data_1.parquet',\n",
    "         '../data/train_image_data_2.parquet',\n",
    "         '../data/train_image_data_3.parquet']\n",
    "\n",
    "TEST_CSV_PATH = \"../data/test.csv\""
   ]
  },
  {
   "cell_type": "code",
   "execution_count": 3,
   "metadata": {},
   "outputs": [],
   "source": [
    "def Resize(df,size=64):\n",
    "    resized = {} \n",
    "    df = df.set_index('image_id')\n",
    "    for i in tqdm(range(df.shape[0])):\n",
    "        image = cv2.resize(df.loc[df.index[i]].values.reshape(137,236),(size,size))\n",
    "        resized[df.index[i]] = image.reshape(-1)\n",
    "    resized = pd.DataFrame(resized).T.reset_index()\n",
    "    resized.columns = resized.columns.astype(str)\n",
    "    resized.rename(columns={'index':'image_id'},inplace=True)\n",
    "    return resized"
   ]
  },
  {
   "cell_type": "code",
   "execution_count": 4,
   "metadata": {},
   "outputs": [
    {
     "name": "stderr",
     "output_type": "stream",
     "text": [
      "/home2/mlstudent/Grapheme-Classification/ml_pkgs/lib/python3.6/site-packages/ipykernel_launcher.py:4: TqdmDeprecationWarning: This function will be removed in tqdm==5.0.0\n",
      "Please use `tqdm.notebook.tqdm` instead of `tqdm.tqdm_notebook`\n",
      "  after removing the cwd from sys.path.\n"
     ]
    },
    {
     "data": {
      "application/vnd.jupyter.widget-view+json": {
       "model_id": "c888bb7e1e3b43988f49dd66646929fd",
       "version_major": 2,
       "version_minor": 0
      },
      "text/plain": [
       "HBox(children=(FloatProgress(value=0.0, max=50210.0), HTML(value='')))"
      ]
     },
     "metadata": {},
     "output_type": "display_data"
    },
    {
     "name": "stdout",
     "output_type": "stream",
     "text": [
      "\n"
     ]
    },
    {
     "data": {
      "application/vnd.jupyter.widget-view+json": {
       "model_id": "e731f541e0d24e5e8fdc5690952484f7",
       "version_major": 2,
       "version_minor": 0
      },
      "text/plain": [
       "HBox(children=(FloatProgress(value=0.0, max=50210.0), HTML(value='')))"
      ]
     },
     "metadata": {},
     "output_type": "display_data"
    },
    {
     "name": "stdout",
     "output_type": "stream",
     "text": [
      "\n"
     ]
    },
    {
     "data": {
      "application/vnd.jupyter.widget-view+json": {
       "model_id": "03c3672fb08f46f89466e8d750a2da35",
       "version_major": 2,
       "version_minor": 0
      },
      "text/plain": [
       "HBox(children=(FloatProgress(value=0.0, max=50210.0), HTML(value='')))"
      ]
     },
     "metadata": {},
     "output_type": "display_data"
    },
    {
     "name": "stdout",
     "output_type": "stream",
     "text": [
      "\n"
     ]
    },
    {
     "data": {
      "application/vnd.jupyter.widget-view+json": {
       "model_id": "2efe8e4a769746b9a75448429f4007a9",
       "version_major": 2,
       "version_minor": 0
      },
      "text/plain": [
       "HBox(children=(FloatProgress(value=0.0, max=50210.0), HTML(value='')))"
      ]
     },
     "metadata": {},
     "output_type": "display_data"
    },
    {
     "name": "stdout",
     "output_type": "stream",
     "text": [
      "\n"
     ]
    }
   ],
   "source": [
    "resized = []\n",
    "for fname in TRAIN:\n",
    "    data = pd.read_parquet(fname)\n",
    "    data = Resize(data)\n",
    "    resized.append(data)\n",
    "\n",
    "image_df = pd.concat(resized, ignore_index = True)"
   ]
  },
  {
   "cell_type": "code",
   "execution_count": 5,
   "metadata": {},
   "outputs": [],
   "source": [
    "class GraphemeDataset(Dataset):\n",
    "    def __init__(self, image_df, label_df, transform=None):\n",
    "        self.image_df = image_df\n",
    "        self.label_df = label_df\n",
    "        self.transform = transform\n",
    "        \n",
    "    def __len__(self):\n",
    "        return len(self.label_df)\n",
    "    \n",
    "    def __getitem__(self,idx):\n",
    "        label1 = self.label_df.grapheme_root.values[idx]\n",
    "        label2 = self.label_df.vowel_diacritic.values[idx]\n",
    "        label3 = self.label_df.consonant_diacritic.values[idx]\n",
    "        \n",
    "        image = self.image_df.iloc[idx][1:].values.reshape(64,64).astype(np.float)\n",
    "        \n",
    "        if self.transform:\n",
    "            image = self.transform(image)\n",
    "\n",
    "        return image,label1,label2,label3"
   ]
  },
  {
   "cell_type": "code",
   "execution_count": 6,
   "metadata": {},
   "outputs": [],
   "source": [
    "device = torch.device(\"cuda:0\" if torch.cuda.is_available() else \"cpu\")"
   ]
  },
  {
   "cell_type": "code",
   "execution_count": 7,
   "metadata": {},
   "outputs": [],
   "source": [
    "class ResidualBlock(nn.Module):\n",
    "    def __init__(self,in_channels,out_channels,stride=1,kernel_size=3,padding=1,bias=False):\n",
    "        super(ResidualBlock,self).__init__()\n",
    "        self.cnn1 =nn.Sequential(\n",
    "            nn.Conv2d(in_channels,out_channels,kernel_size,stride,padding,bias=False),\n",
    "            nn.BatchNorm2d(out_channels),\n",
    "            nn.ReLU(True)\n",
    "        )\n",
    "        self.cnn2 = nn.Sequential(\n",
    "            nn.Conv2d(out_channels,out_channels,kernel_size,1,padding,bias=False),\n",
    "            nn.BatchNorm2d(out_channels)\n",
    "        )\n",
    "        if stride != 1 or in_channels != out_channels:\n",
    "            self.shortcut = nn.Sequential(\n",
    "                nn.Conv2d(in_channels,out_channels,kernel_size=1,stride=stride,bias=False),\n",
    "                nn.BatchNorm2d(out_channels)\n",
    "            )\n",
    "        else:\n",
    "            self.shortcut = nn.Sequential()\n",
    "            \n",
    "    def forward(self,x):\n",
    "        residual = x\n",
    "        x = self.cnn1(x)\n",
    "        x = self.cnn2(x)\n",
    "        x += self.shortcut(residual)\n",
    "        x = nn.ReLU(True)(x)\n",
    "        return x"
   ]
  },
  {
   "cell_type": "code",
   "execution_count": 8,
   "metadata": {},
   "outputs": [],
   "source": [
    "class ResNet34(nn.Module):\n",
    "    def __init__(self):\n",
    "        super(ResNet34,self).__init__()\n",
    "        \n",
    "        self.block1 = nn.Sequential(\n",
    "            nn.Conv2d(1,64,kernel_size=2,stride=2,padding=3,bias=False),\n",
    "            nn.BatchNorm2d(64),\n",
    "            nn.ReLU(True)\n",
    "        )\n",
    "        \n",
    "        self.block2 = nn.Sequential(\n",
    "            nn.MaxPool2d(1,1),\n",
    "            ResidualBlock(64,64),\n",
    "            ResidualBlock(64,64,2)\n",
    "        )\n",
    "        \n",
    "        self.block3 = nn.Sequential(\n",
    "            ResidualBlock(64,128),\n",
    "            ResidualBlock(128,128,2)\n",
    "        )\n",
    "        \n",
    "        self.block4 = nn.Sequential(\n",
    "            ResidualBlock(128,256),\n",
    "            ResidualBlock(256,256,2)\n",
    "        )\n",
    "        self.block5 = nn.Sequential(\n",
    "            ResidualBlock(256,512),\n",
    "            ResidualBlock(512,512,2)\n",
    "        )\n",
    "        \n",
    "        self.avgpool = nn.AvgPool2d(2)\n",
    "        \n",
    "        # grapheme_root\n",
    "        self.fc1 = nn.Linear(512,168)\n",
    "        \n",
    "        # vowel_diacritic\n",
    "        self.fc2 = nn.Linear(512,11)\n",
    "        \n",
    "        # consonant_diacritic\n",
    "        self.fc3 = nn.Linear(512,7)\n",
    "        \n",
    "    def forward(self,x):\n",
    "        x = self.block1(x)\n",
    "        x = self.block2(x)\n",
    "        x = self.block3(x)\n",
    "        x = self.block4(x)\n",
    "        x = self.block5(x)\n",
    "        x = self.avgpool(x)\n",
    "        x = x.view(x.size(0),-1)\n",
    "        x1 = self.fc1(x)\n",
    "        x2 = self.fc2(x)\n",
    "        x3 = self.fc3(x)\n",
    "        return x1,x2,x3"
   ]
  },
  {
   "cell_type": "code",
   "execution_count": 29,
   "metadata": {
    "scrolled": false
   },
   "outputs": [],
   "source": [
    "resnet_34 = ResNet34().to(device)\n",
    "#optimizer = torch.optim.Adam(resnet_34.parameters(), lr=0.00146)\n",
    "optimizer = torch.optim.SGD(resnet_34.parameters(), lr=4e-4)\n",
    "criterion = nn.CrossEntropyLoss()\n",
    "scheduler = torch.optim.lr_scheduler.StepLR(optimizer, step_size=7, gamma=0.1)"
   ]
  },
  {
   "cell_type": "code",
   "execution_count": 32,
   "metadata": {},
   "outputs": [
    {
     "name": "stdout",
     "output_type": "stream",
     "text": [
      "----------------------------------------------------------------\n",
      "        Layer (type)               Output Shape         Param #\n",
      "================================================================\n",
      "            Conv2d-1           [-1, 64, 35, 35]             256\n",
      "       BatchNorm2d-2           [-1, 64, 35, 35]             128\n",
      "              ReLU-3           [-1, 64, 35, 35]               0\n",
      "         MaxPool2d-4           [-1, 64, 35, 35]               0\n",
      "            Conv2d-5           [-1, 64, 35, 35]          36,864\n",
      "       BatchNorm2d-6           [-1, 64, 35, 35]             128\n",
      "              ReLU-7           [-1, 64, 35, 35]               0\n",
      "            Conv2d-8           [-1, 64, 35, 35]          36,864\n",
      "       BatchNorm2d-9           [-1, 64, 35, 35]             128\n",
      "    ResidualBlock-10           [-1, 64, 35, 35]               0\n",
      "           Conv2d-11           [-1, 64, 18, 18]          36,864\n",
      "      BatchNorm2d-12           [-1, 64, 18, 18]             128\n",
      "             ReLU-13           [-1, 64, 18, 18]               0\n",
      "           Conv2d-14           [-1, 64, 18, 18]          36,864\n",
      "      BatchNorm2d-15           [-1, 64, 18, 18]             128\n",
      "           Conv2d-16           [-1, 64, 18, 18]           4,096\n",
      "      BatchNorm2d-17           [-1, 64, 18, 18]             128\n",
      "    ResidualBlock-18           [-1, 64, 18, 18]               0\n",
      "           Conv2d-19          [-1, 128, 18, 18]          73,728\n",
      "      BatchNorm2d-20          [-1, 128, 18, 18]             256\n",
      "             ReLU-21          [-1, 128, 18, 18]               0\n",
      "           Conv2d-22          [-1, 128, 18, 18]         147,456\n",
      "      BatchNorm2d-23          [-1, 128, 18, 18]             256\n",
      "           Conv2d-24          [-1, 128, 18, 18]           8,192\n",
      "      BatchNorm2d-25          [-1, 128, 18, 18]             256\n",
      "    ResidualBlock-26          [-1, 128, 18, 18]               0\n",
      "           Conv2d-27            [-1, 128, 9, 9]         147,456\n",
      "      BatchNorm2d-28            [-1, 128, 9, 9]             256\n",
      "             ReLU-29            [-1, 128, 9, 9]               0\n",
      "           Conv2d-30            [-1, 128, 9, 9]         147,456\n",
      "      BatchNorm2d-31            [-1, 128, 9, 9]             256\n",
      "           Conv2d-32            [-1, 128, 9, 9]          16,384\n",
      "      BatchNorm2d-33            [-1, 128, 9, 9]             256\n",
      "    ResidualBlock-34            [-1, 128, 9, 9]               0\n",
      "           Conv2d-35            [-1, 256, 9, 9]         294,912\n",
      "      BatchNorm2d-36            [-1, 256, 9, 9]             512\n",
      "             ReLU-37            [-1, 256, 9, 9]               0\n",
      "           Conv2d-38            [-1, 256, 9, 9]         589,824\n",
      "      BatchNorm2d-39            [-1, 256, 9, 9]             512\n",
      "           Conv2d-40            [-1, 256, 9, 9]          32,768\n",
      "      BatchNorm2d-41            [-1, 256, 9, 9]             512\n",
      "    ResidualBlock-42            [-1, 256, 9, 9]               0\n",
      "           Conv2d-43            [-1, 256, 5, 5]         589,824\n",
      "      BatchNorm2d-44            [-1, 256, 5, 5]             512\n",
      "             ReLU-45            [-1, 256, 5, 5]               0\n",
      "           Conv2d-46            [-1, 256, 5, 5]         589,824\n",
      "      BatchNorm2d-47            [-1, 256, 5, 5]             512\n",
      "           Conv2d-48            [-1, 256, 5, 5]          65,536\n",
      "      BatchNorm2d-49            [-1, 256, 5, 5]             512\n",
      "    ResidualBlock-50            [-1, 256, 5, 5]               0\n",
      "           Conv2d-51            [-1, 512, 5, 5]       1,179,648\n",
      "      BatchNorm2d-52            [-1, 512, 5, 5]           1,024\n",
      "             ReLU-53            [-1, 512, 5, 5]               0\n",
      "           Conv2d-54            [-1, 512, 5, 5]       2,359,296\n",
      "      BatchNorm2d-55            [-1, 512, 5, 5]           1,024\n",
      "           Conv2d-56            [-1, 512, 5, 5]         131,072\n",
      "      BatchNorm2d-57            [-1, 512, 5, 5]           1,024\n",
      "    ResidualBlock-58            [-1, 512, 5, 5]               0\n",
      "           Conv2d-59            [-1, 512, 3, 3]       2,359,296\n",
      "      BatchNorm2d-60            [-1, 512, 3, 3]           1,024\n",
      "             ReLU-61            [-1, 512, 3, 3]               0\n",
      "           Conv2d-62            [-1, 512, 3, 3]       2,359,296\n",
      "      BatchNorm2d-63            [-1, 512, 3, 3]           1,024\n",
      "           Conv2d-64            [-1, 512, 3, 3]         262,144\n",
      "      BatchNorm2d-65            [-1, 512, 3, 3]           1,024\n",
      "    ResidualBlock-66            [-1, 512, 3, 3]               0\n",
      "        AvgPool2d-67            [-1, 512, 1, 1]               0\n",
      "           Linear-68                  [-1, 168]          86,184\n",
      "           Linear-69                   [-1, 11]           5,643\n",
      "           Linear-70                    [-1, 7]           3,591\n",
      "================================================================\n",
      "Total params: 11,612,858\n",
      "Trainable params: 11,612,858\n",
      "Non-trainable params: 0\n",
      "----------------------------------------------------------------\n",
      "Input size (MB): 0.02\n",
      "Forward/backward pass size (MB): 13.14\n",
      "Params size (MB): 44.30\n",
      "Estimated Total Size (MB): 57.45\n",
      "----------------------------------------------------------------\n"
     ]
    }
   ],
   "source": [
    "from torchsummary import summary\n",
    "summary(resnet_34, (1, 64, 64))"
   ]
  },
  {
   "cell_type": "code",
   "execution_count": 26,
   "metadata": {},
   "outputs": [],
   "source": [
    "def train(model, optimizer, criterion, scheduler, stratification=False, epochs=32):\n",
    "    train_validation_df = pd.read_csv(TRAIN_CSV_PATH)\n",
    "\n",
    "    # TODO:  used for local testing only\n",
    "    train_validation_df = train_validation_df.sample(frac = 0.1, random_state=0)\n",
    "    if stratification:\n",
    "        split = StratifiedShuffleSplit(n_splits=1,test_size=0.1, random_state=0)\n",
    "    \n",
    "    else:\n",
    "        train_df, validation_df = train_test_split(\n",
    "                train_validation_df, test_size=0.1, random_state=0 \n",
    "                stratify=train_validation_df[['grapheme_root', 'vowel_diacritic', 'consonant_diacritic']])\n",
    "    \n",
    "    train_image = GraphemeDataset(image_df, train_df)\n",
    "    validation_image = GraphemeDataset(image_df, validation_df)\n",
    "    \n",
    "    best_model_wts = model.state_dict()\n",
    "    best_acc = 0.0\n",
    "    train_losses = []\n",
    "    train_accs = []\n",
    "    valid_losses = []\n",
    "    valid_accs = []\n",
    "    \n",
    "\n",
    "    for epoch in range(epochs):\n",
    "        print('epochs {}/{} '.format(epoch+1,epochs))\n",
    "        running_loss = 0.0\n",
    "        running_acc = 0.0\n",
    "        validation_loss = 0.0\n",
    "        validation_acc = 0.0\n",
    "        \n",
    "        train_loader = DataLoader(train_image, batch_size=32, shuffle=True)\n",
    "        validation_loader = DataLoader(validation_image, batch_size=1, shuffle=False)\n",
    "\n",
    "        model.train(True)\n",
    "        for idx, (inputs,labels1,labels2,labels3) in tqdm(enumerate(train_loader), total=len(train_loader)):\n",
    "            inputs = inputs.to(device)\n",
    "\n",
    "            labels1 = labels1.to(device)\n",
    "            labels2 = labels2.to(device)\n",
    "            labels3 = labels3.to(device)\n",
    "\n",
    "            optimizer.zero_grad()\n",
    "            outputs1,outputs2,outputs3 = resnet_34(inputs.unsqueeze(1).float().cuda())\n",
    "\n",
    "            loss1 = criterion(outputs1,labels1)\n",
    "            loss2 = criterion(outputs2,labels2)\n",
    "            loss3 = criterion(outputs3,labels3)\n",
    "\n",
    "            running_loss += loss1+loss2+loss3\n",
    "            running_acc += (outputs1.argmax(1)==labels1).float().mean()\n",
    "            running_acc += (outputs2.argmax(1)==labels2).float().mean()\n",
    "            running_acc += (outputs3.argmax(1)==labels3).float().mean()\n",
    "\n",
    "            (loss1+loss2+loss3).backward()\n",
    "            optimizer.step()\n",
    "\n",
    "        print('train acc : {:.2f}%'.format(running_acc/(len(train_loader)*3)))\n",
    "        print('train loss : {:.4f}'.format(running_loss/len(train_loader)))\n",
    "\n",
    "        model.train(False)\n",
    "        predictions = []\n",
    "        for idx, (inputs,labels1,labels2,labels3) in tqdm(enumerate(validation_loader), total=len(validation_loader)):\n",
    "            inputs = inputs.to(device)\n",
    "            labels1 = labels1.to(device)\n",
    "            labels2 = labels2.to(device)\n",
    "            labels3 = labels3.to(device)\n",
    "\n",
    "            optimizer.zero_grad()\n",
    "            outputs1,outputs2,outputs3 = resnet_34(inputs.unsqueeze(1).float().cuda())\n",
    "            loss1 = criterion(outputs1,labels1)\n",
    "            loss2 = criterion(outputs2,labels2)\n",
    "            loss3 = criterion(outputs3,labels3)\n",
    "\n",
    "            validation_loss += loss1+loss2+loss3\n",
    "            validation_acc += (outputs1.argmax(1)==labels1).float().mean()\n",
    "            validation_acc += (outputs2.argmax(1)==labels2).float().mean()\n",
    "            validation_acc += (outputs3.argmax(1)==labels3).float().mean()\n",
    "\n",
    "            (loss1+loss2+loss3).backward()\n",
    "            optimizer.step()\n",
    "#                 predictions.append([\n",
    "#                     outputs1.argmax(1).item(),\n",
    "#                     outputs2.argmax(1).item(),\n",
    "#                     outputs3.argmax(1).item()\n",
    "#                ])\n",
    "\n",
    "    #     predictions_df = pd.DataFrame(predictions, \n",
    "    #           columns= [\"grapheme_root\", \"vowel_diacritic\", \"consonant_diacritic\"])\n",
    "\n",
    "    #     cnf_matrix_grapheme_root = metrics.confusion_matrix(\n",
    "    #         np.array(validation_df[\"grapheme_root\"]), np.array(predictions_df[\"grapheme_root\"]))\n",
    "\n",
    "    #     sn.heatmap(cnf_matrix_grapheme_root, annot=True)\n",
    "\n",
    "    #     cnf_matrix_vowel_diacritic = metrics.confusion_matrix(\n",
    "    #         np.array(validation_df[\"vowel_diacritic\"]), np.array(predictions_df[\"vowel_diacritic\"]))\n",
    "\n",
    "    #     sn.heatmap(cnf_matrix_vowel_diacritic, annot=True)\n",
    "\n",
    "    #     cnf_matrix_consonant_diacritic = metrics.confusion_matrix(\n",
    "    #         np.array(validation_df[\"consonant_diacritic\"]), np.array(predictions_df[\"consonant_diacritic\"]))\n",
    "\n",
    "    #     sn.heatmap(cnf_matrix_consonant_diacritic, annot=True)\n",
    "\n",
    "        print('validation acc : {:.2f}%'.format(validation_acc/(len(train_loader)*3)))\n",
    "\n",
    "        if running_acc > best_acc:\n",
    "            best_acc = running_acc\n",
    "            best_model_wts = resnet_34.state_dict() \n",
    "\n",
    "        losses.append(running_loss/len(train_loader))\n",
    "        accs.append(running_acc/(len(train_loader)*3))\n",
    "        valid_accs.append(validation_acc/(len(validation_loader)*3))\n",
    "        valid_losses.append(validation_loss/len(validation_loader))\n",
    "\n",
    "    resnet_34.load_state_dict(best_model_wts)\n",
    "    return accs, losses, valid_accs, valid_losses "
   ]
  },
  {
   "cell_type": "code",
   "execution_count": 23,
   "metadata": {},
   "outputs": [],
   "source": [
    "def plot_acc_loss(train_acc, train_loss, valid_acc, valid_loss):\n",
    "    fig,ax = plt.subplots(1,2,figsize=(15,5))\n",
    "    ax[0].plot(train_loss)\n",
    "    ax[0].plot(valid_loss)\n",
    "    ax[0].set_title('loss')\n",
    "    ax[1].plot(train_acc)\n",
    "    ax[1].plot(valid_acc)\n",
    "    ax[1].set_title('acc')"
   ]
  },
  {
   "cell_type": "code",
   "execution_count": 27,
   "metadata": {},
   "outputs": [
    {
     "name": "stdout",
     "output_type": "stream",
     "text": [
      "epochs 1/20 \n"
     ]
    },
    {
     "name": "stderr",
     "output_type": "stream",
     "text": [
      "/home2/mlstudent/Grapheme-Classification/ml_pkgs/lib/python3.6/site-packages/ipykernel_launcher.py:32: TqdmDeprecationWarning: This function will be removed in tqdm==5.0.0\n",
      "Please use `tqdm.notebook.tqdm` instead of `tqdm.tqdm_notebook`\n"
     ]
    },
    {
     "data": {
      "application/vnd.jupyter.widget-view+json": {
       "model_id": "7c0a3f465aac44f890a2b8cd5e8b873a",
       "version_major": 2,
       "version_minor": 0
      },
      "text/plain": [
       "HBox(children=(FloatProgress(value=0.0, max=565.0), HTML(value='')))"
      ]
     },
     "metadata": {},
     "output_type": "display_data"
    },
    {
     "name": "stdout",
     "output_type": "stream",
     "text": [
      "\n",
      "train acc : 0.29%\n",
      "train loss : 8.0278\n"
     ]
    },
    {
     "name": "stderr",
     "output_type": "stream",
     "text": [
      "/home2/mlstudent/Grapheme-Classification/ml_pkgs/lib/python3.6/site-packages/ipykernel_launcher.py:59: TqdmDeprecationWarning: This function will be removed in tqdm==5.0.0\n",
      "Please use `tqdm.notebook.tqdm` instead of `tqdm.tqdm_notebook`\n"
     ]
    },
    {
     "data": {
      "application/vnd.jupyter.widget-view+json": {
       "model_id": "1729fa4acfa041958fe1838a054949a7",
       "version_major": 2,
       "version_minor": 0
      },
      "text/plain": [
       "HBox(children=(FloatProgress(value=0.0, max=2009.0), HTML(value='')))"
      ]
     },
     "metadata": {},
     "output_type": "display_data"
    },
    {
     "name": "stdout",
     "output_type": "stream",
     "text": [
      "\n",
      "validation acc : 0.99%\n",
      "epochs 2/20 \n"
     ]
    },
    {
     "data": {
      "application/vnd.jupyter.widget-view+json": {
       "model_id": "05b75f72e17441d28ce1556033640393",
       "version_major": 2,
       "version_minor": 0
      },
      "text/plain": [
       "HBox(children=(FloatProgress(value=0.0, max=565.0), HTML(value='')))"
      ]
     },
     "metadata": {},
     "output_type": "display_data"
    },
    {
     "name": "stdout",
     "output_type": "stream",
     "text": [
      "\n",
      "train acc : 0.29%\n",
      "train loss : 8.0300\n"
     ]
    },
    {
     "data": {
      "application/vnd.jupyter.widget-view+json": {
       "model_id": "11c1a31ad4ff401785242ee321fda4eb",
       "version_major": 2,
       "version_minor": 0
      },
      "text/plain": [
       "HBox(children=(FloatProgress(value=0.0, max=2009.0), HTML(value='')))"
      ]
     },
     "metadata": {},
     "output_type": "display_data"
    },
    {
     "name": "stdout",
     "output_type": "stream",
     "text": [
      "\n",
      "validation acc : 1.00%\n",
      "epochs 3/20 \n"
     ]
    },
    {
     "data": {
      "application/vnd.jupyter.widget-view+json": {
       "model_id": "3b7a3e1a564d47df87390a7aad8e7fe7",
       "version_major": 2,
       "version_minor": 0
      },
      "text/plain": [
       "HBox(children=(FloatProgress(value=0.0, max=565.0), HTML(value='')))"
      ]
     },
     "metadata": {},
     "output_type": "display_data"
    },
    {
     "name": "stdout",
     "output_type": "stream",
     "text": [
      "\n",
      "train acc : 0.29%\n",
      "train loss : 8.0178\n"
     ]
    },
    {
     "data": {
      "application/vnd.jupyter.widget-view+json": {
       "model_id": "742863d561c7486d82a0d42ef3e068ed",
       "version_major": 2,
       "version_minor": 0
      },
      "text/plain": [
       "HBox(children=(FloatProgress(value=0.0, max=2009.0), HTML(value='')))"
      ]
     },
     "metadata": {},
     "output_type": "display_data"
    },
    {
     "name": "stdout",
     "output_type": "stream",
     "text": [
      "\n",
      "validation acc : 1.01%\n",
      "epochs 4/20 \n"
     ]
    },
    {
     "data": {
      "application/vnd.jupyter.widget-view+json": {
       "model_id": "4329ad9cf5b84ff9ac849a2e2ec47a46",
       "version_major": 2,
       "version_minor": 0
      },
      "text/plain": [
       "HBox(children=(FloatProgress(value=0.0, max=565.0), HTML(value='')))"
      ]
     },
     "metadata": {},
     "output_type": "display_data"
    },
    {
     "name": "stdout",
     "output_type": "stream",
     "text": [
      "\n",
      "train acc : 0.29%\n",
      "train loss : 8.0179\n"
     ]
    },
    {
     "data": {
      "application/vnd.jupyter.widget-view+json": {
       "model_id": "f5e171a671c146d19df862f1666dcc6e",
       "version_major": 2,
       "version_minor": 0
      },
      "text/plain": [
       "HBox(children=(FloatProgress(value=0.0, max=2009.0), HTML(value='')))"
      ]
     },
     "metadata": {},
     "output_type": "display_data"
    },
    {
     "name": "stdout",
     "output_type": "stream",
     "text": [
      "\n",
      "validation acc : 1.00%\n",
      "epochs 5/20 \n"
     ]
    },
    {
     "data": {
      "application/vnd.jupyter.widget-view+json": {
       "model_id": "ed5ac83237bf4bec8b0dfc96b210293c",
       "version_major": 2,
       "version_minor": 0
      },
      "text/plain": [
       "HBox(children=(FloatProgress(value=0.0, max=565.0), HTML(value='')))"
      ]
     },
     "metadata": {},
     "output_type": "display_data"
    },
    {
     "name": "stdout",
     "output_type": "stream",
     "text": [
      "\n",
      "train acc : 0.29%\n",
      "train loss : 8.0172\n"
     ]
    },
    {
     "data": {
      "application/vnd.jupyter.widget-view+json": {
       "model_id": "9a744e08870e46b9bed84905db0e9ac3",
       "version_major": 2,
       "version_minor": 0
      },
      "text/plain": [
       "HBox(children=(FloatProgress(value=0.0, max=2009.0), HTML(value='')))"
      ]
     },
     "metadata": {},
     "output_type": "display_data"
    },
    {
     "name": "stdout",
     "output_type": "stream",
     "text": [
      "\n",
      "validation acc : 1.00%\n",
      "epochs 6/20 \n"
     ]
    },
    {
     "data": {
      "application/vnd.jupyter.widget-view+json": {
       "model_id": "46069420c5e84b32ba856f6a3f5c7f80",
       "version_major": 2,
       "version_minor": 0
      },
      "text/plain": [
       "HBox(children=(FloatProgress(value=0.0, max=565.0), HTML(value='')))"
      ]
     },
     "metadata": {},
     "output_type": "display_data"
    },
    {
     "name": "stdout",
     "output_type": "stream",
     "text": [
      "\n",
      "train acc : 0.29%\n",
      "train loss : 8.0176\n"
     ]
    },
    {
     "data": {
      "application/vnd.jupyter.widget-view+json": {
       "model_id": "10ae38eabd1e4f29a381e11287caf898",
       "version_major": 2,
       "version_minor": 0
      },
      "text/plain": [
       "HBox(children=(FloatProgress(value=0.0, max=2009.0), HTML(value='')))"
      ]
     },
     "metadata": {},
     "output_type": "display_data"
    },
    {
     "name": "stdout",
     "output_type": "stream",
     "text": [
      "\n",
      "validation acc : 1.00%\n",
      "epochs 7/20 \n"
     ]
    },
    {
     "data": {
      "application/vnd.jupyter.widget-view+json": {
       "model_id": "b9034fd2a76c47189afdfedbf918a730",
       "version_major": 2,
       "version_minor": 0
      },
      "text/plain": [
       "HBox(children=(FloatProgress(value=0.0, max=565.0), HTML(value='')))"
      ]
     },
     "metadata": {},
     "output_type": "display_data"
    },
    {
     "name": "stdout",
     "output_type": "stream",
     "text": [
      "\n",
      "train acc : 0.29%\n",
      "train loss : 8.0184\n"
     ]
    },
    {
     "data": {
      "application/vnd.jupyter.widget-view+json": {
       "model_id": "061334d600414aca86548b07b4dae2a7",
       "version_major": 2,
       "version_minor": 0
      },
      "text/plain": [
       "HBox(children=(FloatProgress(value=0.0, max=2009.0), HTML(value='')))"
      ]
     },
     "metadata": {},
     "output_type": "display_data"
    },
    {
     "name": "stdout",
     "output_type": "stream",
     "text": [
      "\n",
      "validation acc : 1.02%\n",
      "epochs 8/20 \n"
     ]
    },
    {
     "data": {
      "application/vnd.jupyter.widget-view+json": {
       "model_id": "b75e2ea2faf94eba91b8b46b4acc662a",
       "version_major": 2,
       "version_minor": 0
      },
      "text/plain": [
       "HBox(children=(FloatProgress(value=0.0, max=565.0), HTML(value='')))"
      ]
     },
     "metadata": {},
     "output_type": "display_data"
    },
    {
     "name": "stdout",
     "output_type": "stream",
     "text": [
      "\n",
      "train acc : 0.29%\n",
      "train loss : 8.0194\n"
     ]
    },
    {
     "data": {
      "application/vnd.jupyter.widget-view+json": {
       "model_id": "8c3ec66d6ba0479db9a60f0bfabe6c1a",
       "version_major": 2,
       "version_minor": 0
      },
      "text/plain": [
       "HBox(children=(FloatProgress(value=0.0, max=2009.0), HTML(value='')))"
      ]
     },
     "metadata": {},
     "output_type": "display_data"
    },
    {
     "name": "stdout",
     "output_type": "stream",
     "text": [
      "\n",
      "validation acc : 1.01%\n",
      "epochs 9/20 \n"
     ]
    },
    {
     "data": {
      "application/vnd.jupyter.widget-view+json": {
       "model_id": "d666d7f44171434393bdaca5c2d0669e",
       "version_major": 2,
       "version_minor": 0
      },
      "text/plain": [
       "HBox(children=(FloatProgress(value=0.0, max=565.0), HTML(value='')))"
      ]
     },
     "metadata": {},
     "output_type": "display_data"
    },
    {
     "name": "stdout",
     "output_type": "stream",
     "text": [
      "\n",
      "train acc : 0.29%\n",
      "train loss : 8.0194\n"
     ]
    },
    {
     "data": {
      "application/vnd.jupyter.widget-view+json": {
       "model_id": "6942901a216648568fd21d4e7ff2793b",
       "version_major": 2,
       "version_minor": 0
      },
      "text/plain": [
       "HBox(children=(FloatProgress(value=0.0, max=2009.0), HTML(value='')))"
      ]
     },
     "metadata": {},
     "output_type": "display_data"
    },
    {
     "name": "stdout",
     "output_type": "stream",
     "text": [
      "\n",
      "validation acc : 1.00%\n",
      "epochs 10/20 \n"
     ]
    },
    {
     "data": {
      "application/vnd.jupyter.widget-view+json": {
       "model_id": "86333ad5cf054f3da0d3309fd3cf9ae5",
       "version_major": 2,
       "version_minor": 0
      },
      "text/plain": [
       "HBox(children=(FloatProgress(value=0.0, max=565.0), HTML(value='')))"
      ]
     },
     "metadata": {},
     "output_type": "display_data"
    },
    {
     "name": "stdout",
     "output_type": "stream",
     "text": [
      "\n",
      "train acc : 0.29%\n",
      "train loss : 8.0184\n"
     ]
    },
    {
     "data": {
      "application/vnd.jupyter.widget-view+json": {
       "model_id": "155047f6be4f4f589b9b6033b8fe0e4b",
       "version_major": 2,
       "version_minor": 0
      },
      "text/plain": [
       "HBox(children=(FloatProgress(value=0.0, max=2009.0), HTML(value='')))"
      ]
     },
     "metadata": {},
     "output_type": "display_data"
    },
    {
     "name": "stdout",
     "output_type": "stream",
     "text": [
      "\n",
      "validation acc : 1.01%\n",
      "epochs 11/20 \n"
     ]
    },
    {
     "data": {
      "application/vnd.jupyter.widget-view+json": {
       "model_id": "046b5412f3f24ac7bce8c6b05168f80a",
       "version_major": 2,
       "version_minor": 0
      },
      "text/plain": [
       "HBox(children=(FloatProgress(value=0.0, max=565.0), HTML(value='')))"
      ]
     },
     "metadata": {},
     "output_type": "display_data"
    },
    {
     "name": "stdout",
     "output_type": "stream",
     "text": [
      "\n",
      "train acc : 0.29%\n",
      "train loss : 8.0177\n"
     ]
    },
    {
     "data": {
      "application/vnd.jupyter.widget-view+json": {
       "model_id": "018a643e00184257ae11b0d3c5dc3e0b",
       "version_major": 2,
       "version_minor": 0
      },
      "text/plain": [
       "HBox(children=(FloatProgress(value=0.0, max=2009.0), HTML(value='')))"
      ]
     },
     "metadata": {},
     "output_type": "display_data"
    },
    {
     "name": "stdout",
     "output_type": "stream",
     "text": [
      "\n",
      "validation acc : 1.02%\n",
      "epochs 12/20 \n"
     ]
    },
    {
     "data": {
      "application/vnd.jupyter.widget-view+json": {
       "model_id": "1d668b8f94ef4399960d879f2a6a6e7c",
       "version_major": 2,
       "version_minor": 0
      },
      "text/plain": [
       "HBox(children=(FloatProgress(value=0.0, max=565.0), HTML(value='')))"
      ]
     },
     "metadata": {},
     "output_type": "display_data"
    },
    {
     "name": "stdout",
     "output_type": "stream",
     "text": [
      "\n",
      "train acc : 0.29%\n",
      "train loss : 8.0184\n"
     ]
    },
    {
     "data": {
      "application/vnd.jupyter.widget-view+json": {
       "model_id": "9a1ba28945ca416c980515652e1ffb42",
       "version_major": 2,
       "version_minor": 0
      },
      "text/plain": [
       "HBox(children=(FloatProgress(value=0.0, max=2009.0), HTML(value='')))"
      ]
     },
     "metadata": {},
     "output_type": "display_data"
    },
    {
     "name": "stdout",
     "output_type": "stream",
     "text": [
      "\n",
      "validation acc : 1.02%\n",
      "epochs 13/20 \n"
     ]
    },
    {
     "data": {
      "application/vnd.jupyter.widget-view+json": {
       "model_id": "a45a85863c7a4771a06507a4e2ca4bb7",
       "version_major": 2,
       "version_minor": 0
      },
      "text/plain": [
       "HBox(children=(FloatProgress(value=0.0, max=565.0), HTML(value='')))"
      ]
     },
     "metadata": {},
     "output_type": "display_data"
    },
    {
     "name": "stdout",
     "output_type": "stream",
     "text": [
      "\n",
      "train acc : 0.29%\n",
      "train loss : 8.0166\n"
     ]
    },
    {
     "data": {
      "application/vnd.jupyter.widget-view+json": {
       "model_id": "1a231b71760f46daad5e5fe0d24c7c5f",
       "version_major": 2,
       "version_minor": 0
      },
      "text/plain": [
       "HBox(children=(FloatProgress(value=0.0, max=2009.0), HTML(value='')))"
      ]
     },
     "metadata": {},
     "output_type": "display_data"
    },
    {
     "name": "stdout",
     "output_type": "stream",
     "text": [
      "\n",
      "validation acc : 1.02%\n",
      "epochs 14/20 \n"
     ]
    },
    {
     "data": {
      "application/vnd.jupyter.widget-view+json": {
       "model_id": "cbe3d1b4c4a84ba4a6649a71bd5039d8",
       "version_major": 2,
       "version_minor": 0
      },
      "text/plain": [
       "HBox(children=(FloatProgress(value=0.0, max=565.0), HTML(value='')))"
      ]
     },
     "metadata": {},
     "output_type": "display_data"
    },
    {
     "name": "stdout",
     "output_type": "stream",
     "text": [
      "\n",
      "train acc : 0.29%\n",
      "train loss : 8.0173\n"
     ]
    },
    {
     "data": {
      "application/vnd.jupyter.widget-view+json": {
       "model_id": "846bdc43299e4173b33732fc0895626b",
       "version_major": 2,
       "version_minor": 0
      },
      "text/plain": [
       "HBox(children=(FloatProgress(value=0.0, max=2009.0), HTML(value='')))"
      ]
     },
     "metadata": {},
     "output_type": "display_data"
    },
    {
     "name": "stdout",
     "output_type": "stream",
     "text": [
      "\n",
      "validation acc : 1.01%\n",
      "epochs 15/20 \n"
     ]
    },
    {
     "data": {
      "application/vnd.jupyter.widget-view+json": {
       "model_id": "703d699b6986443b9c5de7331f75ab18",
       "version_major": 2,
       "version_minor": 0
      },
      "text/plain": [
       "HBox(children=(FloatProgress(value=0.0, max=565.0), HTML(value='')))"
      ]
     },
     "metadata": {},
     "output_type": "display_data"
    },
    {
     "name": "stdout",
     "output_type": "stream",
     "text": [
      "\n",
      "train acc : 0.29%\n",
      "train loss : 8.0174\n"
     ]
    },
    {
     "data": {
      "application/vnd.jupyter.widget-view+json": {
       "model_id": "027627b1b82a402dabed3171a7698f4f",
       "version_major": 2,
       "version_minor": 0
      },
      "text/plain": [
       "HBox(children=(FloatProgress(value=0.0, max=2009.0), HTML(value='')))"
      ]
     },
     "metadata": {},
     "output_type": "display_data"
    },
    {
     "name": "stdout",
     "output_type": "stream",
     "text": [
      "\n",
      "validation acc : 1.01%\n",
      "epochs 16/20 \n"
     ]
    },
    {
     "data": {
      "application/vnd.jupyter.widget-view+json": {
       "model_id": "626563a70a0c41a1bbdcaada0413261e",
       "version_major": 2,
       "version_minor": 0
      },
      "text/plain": [
       "HBox(children=(FloatProgress(value=0.0, max=565.0), HTML(value='')))"
      ]
     },
     "metadata": {},
     "output_type": "display_data"
    },
    {
     "name": "stdout",
     "output_type": "stream",
     "text": [
      "\n",
      "train acc : 0.29%\n",
      "train loss : 8.0174\n"
     ]
    },
    {
     "data": {
      "application/vnd.jupyter.widget-view+json": {
       "model_id": "b0c18e09042a47369973e21a8b76bb1a",
       "version_major": 2,
       "version_minor": 0
      },
      "text/plain": [
       "HBox(children=(FloatProgress(value=0.0, max=2009.0), HTML(value='')))"
      ]
     },
     "metadata": {},
     "output_type": "display_data"
    },
    {
     "name": "stdout",
     "output_type": "stream",
     "text": [
      "\n",
      "validation acc : 1.01%\n",
      "epochs 17/20 \n"
     ]
    },
    {
     "data": {
      "application/vnd.jupyter.widget-view+json": {
       "model_id": "4614e396230a4188b1daf2cef4e74d88",
       "version_major": 2,
       "version_minor": 0
      },
      "text/plain": [
       "HBox(children=(FloatProgress(value=0.0, max=565.0), HTML(value='')))"
      ]
     },
     "metadata": {},
     "output_type": "display_data"
    },
    {
     "name": "stdout",
     "output_type": "stream",
     "text": [
      "\n",
      "train acc : 0.29%\n",
      "train loss : 8.0159\n"
     ]
    },
    {
     "data": {
      "application/vnd.jupyter.widget-view+json": {
       "model_id": "9eded4eaa5cb42b5beb62487bef35b07",
       "version_major": 2,
       "version_minor": 0
      },
      "text/plain": [
       "HBox(children=(FloatProgress(value=0.0, max=2009.0), HTML(value='')))"
      ]
     },
     "metadata": {},
     "output_type": "display_data"
    },
    {
     "name": "stdout",
     "output_type": "stream",
     "text": [
      "\n",
      "validation acc : 1.02%\n",
      "epochs 18/20 \n"
     ]
    },
    {
     "data": {
      "application/vnd.jupyter.widget-view+json": {
       "model_id": "3639b7bb2c924661b432e46357d31f60",
       "version_major": 2,
       "version_minor": 0
      },
      "text/plain": [
       "HBox(children=(FloatProgress(value=0.0, max=565.0), HTML(value='')))"
      ]
     },
     "metadata": {},
     "output_type": "display_data"
    },
    {
     "name": "stdout",
     "output_type": "stream",
     "text": [
      "\n",
      "train acc : 0.29%\n",
      "train loss : 8.0167\n"
     ]
    },
    {
     "data": {
      "application/vnd.jupyter.widget-view+json": {
       "model_id": "94d19eb363bd45d78f92c99198f2dff7",
       "version_major": 2,
       "version_minor": 0
      },
      "text/plain": [
       "HBox(children=(FloatProgress(value=0.0, max=2009.0), HTML(value='')))"
      ]
     },
     "metadata": {},
     "output_type": "display_data"
    },
    {
     "name": "stdout",
     "output_type": "stream",
     "text": [
      "\n",
      "validation acc : 1.02%\n",
      "epochs 19/20 \n"
     ]
    },
    {
     "data": {
      "application/vnd.jupyter.widget-view+json": {
       "model_id": "0324f87a312c416ab3fa68158e4a416c",
       "version_major": 2,
       "version_minor": 0
      },
      "text/plain": [
       "HBox(children=(FloatProgress(value=0.0, max=565.0), HTML(value='')))"
      ]
     },
     "metadata": {},
     "output_type": "display_data"
    },
    {
     "name": "stdout",
     "output_type": "stream",
     "text": [
      "\n",
      "train acc : 0.29%\n",
      "train loss : 8.0162\n"
     ]
    },
    {
     "data": {
      "application/vnd.jupyter.widget-view+json": {
       "model_id": "a3585b98e6f94d17af3de6f2e0958e16",
       "version_major": 2,
       "version_minor": 0
      },
      "text/plain": [
       "HBox(children=(FloatProgress(value=0.0, max=2009.0), HTML(value='')))"
      ]
     },
     "metadata": {},
     "output_type": "display_data"
    },
    {
     "name": "stdout",
     "output_type": "stream",
     "text": [
      "\n",
      "validation acc : 1.01%\n",
      "epochs 20/20 \n"
     ]
    },
    {
     "data": {
      "application/vnd.jupyter.widget-view+json": {
       "model_id": "2271000fdf3140518a4bcb273f9483ba",
       "version_major": 2,
       "version_minor": 0
      },
      "text/plain": [
       "HBox(children=(FloatProgress(value=0.0, max=565.0), HTML(value='')))"
      ]
     },
     "metadata": {},
     "output_type": "display_data"
    },
    {
     "name": "stdout",
     "output_type": "stream",
     "text": [
      "\n",
      "train acc : 0.29%\n",
      "train loss : 8.0158\n"
     ]
    },
    {
     "data": {
      "application/vnd.jupyter.widget-view+json": {
       "model_id": "86b1df361dda407abfc7bc257b4a2f18",
       "version_major": 2,
       "version_minor": 0
      },
      "text/plain": [
       "HBox(children=(FloatProgress(value=0.0, max=2009.0), HTML(value='')))"
      ]
     },
     "metadata": {},
     "output_type": "display_data"
    },
    {
     "name": "stdout",
     "output_type": "stream",
     "text": [
      "\n",
      "validation acc : 1.02%\n"
     ]
    }
   ],
   "source": [
    "train_acc, train_loss, valid_acc, valid_loss = train(resnet_34, optimizer, criterion, scheduler, epochs=20)"
   ]
  },
  {
   "cell_type": "code",
   "execution_count": 28,
   "metadata": {},
   "outputs": [
    {
     "data": {
      "image/png": "[encoded data removed]",
      "text/plain": [
       "<Figure size 1080x360 with 2 Axes>"
      ]
     },
     "metadata": {
      "needs_background": "light"
     },
     "output_type": "display_data"
    }
   ],
   "source": [
    "plot_acc_loss(train_acc, train_loss, valid_acc, valid_loss)"
   ]
  },
  {
   "cell_type": "code",
   "execution_count": null,
   "metadata": {},
   "outputs": [],
   "source": [
    "#     train_validation_df = shuffle(train_validation_df)\n",
    "    #     cut = int(len(train_validation_df)*0.8)\n",
    "    #     train_df, validation_df = np.split(train_validation_df, [cut], axis=0)"
   ]
  }
 ],
 "metadata": {
  "kernelspec": {
   "display_name": "Python 3",
   "language": "python",
   "name": "python3"
  },
  "language_info": {
   "codemirror_mode": {
    "name": "ipython",
    "version": 3
   },
   "file_extension": ".py",
   "mimetype": "text/x-python",
   "name": "python",
   "nbconvert_exporter": "python",
   "pygments_lexer": "ipython3",
   "version": "3.6.8"
  }
 },
 "nbformat": 4,
 "nbformat_minor": 4
}
