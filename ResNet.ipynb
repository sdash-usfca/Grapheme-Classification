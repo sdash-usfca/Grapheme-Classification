{
 "cells": [
  {
   "cell_type": "code",
   "execution_count": 14,
   "metadata": {},
   "outputs": [],
   "source": [
    "import numpy as np\n",
    "import pandas as pd\n",
    "\n",
    "import os\n",
    "import cv2\n",
    "\n",
    "import torch\n",
    "import torch.nn as nn\n",
    "from torch.autograd import Variable\n",
    "from torch.utils.data import Dataset, DataLoader\n",
    "from torch.autograd import Variable\n",
    "from torchvision import transforms, utils, models, datasets\n",
    "from torchsummary import summary\n",
    "\n",
    "from tqdm import tqdm_notebook as tqdm\n",
    "\n",
    "from sklearn.model_selection import train_test_split\n",
    "from sklearn.utils import shuffle\n",
    "from sklearn import metrics\n",
    "\n",
    "from PIL import Image\n",
    "import matplotlib.pyplot as plt\n",
    "import seaborn as sn\n"
   ]
  },
  {
   "cell_type": "code",
   "execution_count": 2,
   "metadata": {},
   "outputs": [],
   "source": [
    "TRAIN_CSV_PATH = \"../data/train.csv\"\n",
    "TRAIN_IMG_PATH = \"../train_images/\"\n",
    "TRAIN = ['../data/train_image_data_0.parquet',\n",
    "         '../data/train_image_data_1.parquet',\n",
    "         '../data/train_image_data_2.parquet',\n",
    "         '../data/train_image_data_3.parquet']\n",
    "\n",
    "TEST_CSV_PATH = \"../data/test.csv\""
   ]
  },
  {
   "cell_type": "code",
   "execution_count": 3,
   "metadata": {},
   "outputs": [],
   "source": [
    "def Resize(df,size=64):\n",
    "    resized = {} \n",
    "    df = df.set_index('image_id')\n",
    "    for i in tqdm(range(df.shape[0])):\n",
    "        image = cv2.resize(df.loc[df.index[i]].values.reshape(137,236),(size,size))\n",
    "        resized[df.index[i]] = image.reshape(-1)\n",
    "    resized = pd.DataFrame(resized).T.reset_index()\n",
    "    resized.columns = resized.columns.astype(str)\n",
    "    resized.rename(columns={'index':'image_id'},inplace=True)\n",
    "    return resized"
   ]
  },
  {
   "cell_type": "code",
   "execution_count": 4,
   "metadata": {},
   "outputs": [
    {
     "name": "stderr",
     "output_type": "stream",
     "text": [
      "/home2/mlstudent/Grapheme-Classification/ml_pkgs/lib/python3.6/site-packages/ipykernel_launcher.py:4: TqdmDeprecationWarning: This function will be removed in tqdm==5.0.0\n",
      "Please use `tqdm.notebook.tqdm` instead of `tqdm.tqdm_notebook`\n",
      "  after removing the cwd from sys.path.\n"
     ]
    },
    {
     "data": {
      "application/vnd.jupyter.widget-view+json": {
       "model_id": "31f3115a830b4c5798644955721a6177",
       "version_major": 2,
       "version_minor": 0
      },
      "text/plain": [
       "HBox(children=(FloatProgress(value=0.0, max=50210.0), HTML(value='')))"
      ]
     },
     "metadata": {},
     "output_type": "display_data"
    },
    {
     "name": "stdout",
     "output_type": "stream",
     "text": [
      "\n"
     ]
    },
    {
     "data": {
      "application/vnd.jupyter.widget-view+json": {
       "model_id": "2fd98e3d90114657bc31682c0bffc7c3",
       "version_major": 2,
       "version_minor": 0
      },
      "text/plain": [
       "HBox(children=(FloatProgress(value=0.0, max=50210.0), HTML(value='')))"
      ]
     },
     "metadata": {},
     "output_type": "display_data"
    },
    {
     "name": "stdout",
     "output_type": "stream",
     "text": [
      "\n"
     ]
    },
    {
     "data": {
      "application/vnd.jupyter.widget-view+json": {
       "model_id": "5530325503e548069a58150b2b110592",
       "version_major": 2,
       "version_minor": 0
      },
      "text/plain": [
       "HBox(children=(FloatProgress(value=0.0, max=50210.0), HTML(value='')))"
      ]
     },
     "metadata": {},
     "output_type": "display_data"
    },
    {
     "name": "stdout",
     "output_type": "stream",
     "text": [
      "\n"
     ]
    },
    {
     "data": {
      "application/vnd.jupyter.widget-view+json": {
       "model_id": "30bdec7da76b48789de883f99f012fbf",
       "version_major": 2,
       "version_minor": 0
      },
      "text/plain": [
       "HBox(children=(FloatProgress(value=0.0, max=50210.0), HTML(value='')))"
      ]
     },
     "metadata": {},
     "output_type": "display_data"
    },
    {
     "name": "stdout",
     "output_type": "stream",
     "text": [
      "\n"
     ]
    }
   ],
   "source": [
    "resized = []\n",
    "for fname in TRAIN:\n",
    "    data = pd.read_parquet(fname)\n",
    "    data = Resize(data)\n",
    "    resized.append(data)\n",
    "\n",
    "image_df = pd.concat(resized, ignore_index = True)"
   ]
  },
  {
   "cell_type": "code",
   "execution_count": 5,
   "metadata": {},
   "outputs": [],
   "source": [
    "class GraphemeDataset(Dataset):\n",
    "    def __init__(self, image_df, label_df, transform=None):\n",
    "        self.image_df = image_df\n",
    "        self.label_df = label_df\n",
    "        self.transform = transform\n",
    "        \n",
    "    def __len__(self):\n",
    "        return len(self.label_df)\n",
    "    \n",
    "    def __getitem__(self,idx):\n",
    "        label1 = self.label_df.grapheme_root.values[idx]\n",
    "        label2 = self.label_df.vowel_diacritic.values[idx]\n",
    "        label3 = self.label_df.consonant_diacritic.values[idx]\n",
    "        \n",
    "        image = self.image_df.iloc[idx][1:].values.reshape(64,64).astype(np.float)\n",
    "        \n",
    "        if self.transform:\n",
    "            image = self.transform(image)\n",
    "\n",
    "        return image,label1,label2,label3"
   ]
  },
  {
   "cell_type": "code",
   "execution_count": 6,
   "metadata": {},
   "outputs": [],
   "source": [
    "device = torch.device(\"cuda:0\" if torch.cuda.is_available() else \"cpu\")"
   ]
  },
  {
   "cell_type": "code",
   "execution_count": 7,
   "metadata": {},
   "outputs": [],
   "source": [
    "class ResidualBlock(nn.Module):\n",
    "    def __init__(self,in_channels,out_channels,stride=1,kernel_size=3,padding=1,bias=False):\n",
    "        super(ResidualBlock,self).__init__()\n",
    "        self.cnn1 =nn.Sequential(\n",
    "            nn.Conv2d(in_channels,out_channels,kernel_size,stride,padding,bias=False),\n",
    "            nn.BatchNorm2d(out_channels),\n",
    "            nn.ReLU(True)\n",
    "        )\n",
    "        self.cnn2 = nn.Sequential(\n",
    "            nn.Conv2d(out_channels,out_channels,kernel_size,1,padding,bias=False),\n",
    "            nn.BatchNorm2d(out_channels)\n",
    "        )\n",
    "        if stride != 1 or in_channels != out_channels:\n",
    "            self.shortcut = nn.Sequential(\n",
    "                nn.Conv2d(in_channels,out_channels,kernel_size=1,stride=stride,bias=False),\n",
    "                nn.BatchNorm2d(out_channels)\n",
    "            )\n",
    "        else:\n",
    "            self.shortcut = nn.Sequential()\n",
    "            \n",
    "    def forward(self,x):\n",
    "        residual = x\n",
    "        x = self.cnn1(x)\n",
    "        x = self.cnn2(x)\n",
    "        x += self.shortcut(residual)\n",
    "        x = nn.ReLU(True)(x)\n",
    "        return x"
   ]
  },
  {
   "cell_type": "code",
   "execution_count": 8,
   "metadata": {},
   "outputs": [],
   "source": [
    "class ResNet34(nn.Module):\n",
    "    def __init__(self):\n",
    "        super(ResNet34,self).__init__()\n",
    "        \n",
    "        self.block1 = nn.Sequential(\n",
    "            nn.Conv2d(1,64,kernel_size=2,stride=2,padding=3,bias=False),\n",
    "            nn.BatchNorm2d(64),\n",
    "            nn.ReLU(True)\n",
    "        )\n",
    "        \n",
    "        self.block2 = nn.Sequential(\n",
    "            nn.MaxPool2d(1,1),\n",
    "            ResidualBlock(64,64),\n",
    "            ResidualBlock(64,64,2)\n",
    "        )\n",
    "        \n",
    "        self.block3 = nn.Sequential(\n",
    "            ResidualBlock(64,128),\n",
    "            ResidualBlock(128,128,2)\n",
    "        )\n",
    "        \n",
    "        self.block4 = nn.Sequential(\n",
    "            ResidualBlock(128,256),\n",
    "            ResidualBlock(256,256,2)\n",
    "        )\n",
    "        self.block5 = nn.Sequential(\n",
    "            ResidualBlock(256,512),\n",
    "            ResidualBlock(512,512,2)\n",
    "        )\n",
    "        \n",
    "        self.avgpool = nn.AvgPool2d(2)\n",
    "        # vowel_diacritic\n",
    "        self.fc1 = nn.Linear(512,11)\n",
    "        # grapheme_root\n",
    "        self.fc2 = nn.Linear(512,168)\n",
    "        # consonant_diacritic\n",
    "        self.fc3 = nn.Linear(512,7)\n",
    "        \n",
    "    def forward(self,x):\n",
    "        x = self.block1(x)\n",
    "        x = self.block2(x)\n",
    "        x = self.block3(x)\n",
    "        x = self.block4(x)\n",
    "        x = self.block5(x)\n",
    "        x = self.avgpool(x)\n",
    "        x = x.view(x.size(0),-1)\n",
    "        x1 = self.fc1(x)\n",
    "        x2 = self.fc2(x)\n",
    "        x3 = self.fc3(x)\n",
    "        return x1,x2,x3"
   ]
  },
  {
   "cell_type": "code",
   "execution_count": 9,
   "metadata": {
    "scrolled": false
   },
   "outputs": [],
   "source": [
    "resnet_34 = ResNet34().to(device)\n",
    "optimizer = torch.optim.Adam(resnet_34.parameters(), lr=4e-4)\n",
    "#optimizer = torch.optim.SGD(resnet_34.parameters(), lr=4e-4)\n",
    "criterion = nn.CrossEntropyLoss()\n",
    "scheduler = torch.optim.lr_scheduler.StepLR(optimizer, step_size=7, gamma=0.1)"
   ]
  },
  {
   "cell_type": "code",
   "execution_count": null,
   "metadata": {},
   "outputs": [],
   "source": [
    "train_validation_df = pd.read_csv(TRAIN_CSV_PATH)\n",
    "\n",
    "# TODO:  used for local testing only\n",
    "train_validation_df = train_validation_df.sample(frac = 0.1) \n",
    "\n",
    "best_model_wts = resnet_34.state_dict()\n",
    "best_acc = 0.0\n",
    "epochs = 20\n",
    "losses = []\n",
    "accs = []\n",
    "valid_accs = []\n",
    "\n",
    "for epoch in range(epochs):\n",
    "    print('epochs {}/{} '.format(epoch+1,epochs))\n",
    "    running_loss = 0.0\n",
    "    running_acc = 0.0\n",
    "    validation_acc = 0.0\n",
    "    \n",
    "#     train_validation_df = shuffle(train_validation_df)\n",
    "    cut = int(len(train_validation_df)*0.8)\n",
    "    train_df, validation_df = np.split(train_validation_df, [cut], axis=0)\n",
    "    train_image = GraphemeDataset(image_df, train_df)\n",
    "    validation_image = GraphemeDataset(image_df, validation_df)\n",
    "    train_loader = DataLoader(train_image, batch_size=64, shuffle=True)\n",
    "    validation_loader = DataLoader(validation_image, batch_size=1, shuffle=False)\n",
    "    \n",
    "    resnet_34.train(True)\n",
    "    for idx, (inputs,labels1,labels2,labels3) in tqdm(enumerate(train_loader), total=len(train_loader)):\n",
    "        inputs = inputs.to(device)\n",
    "\n",
    "        labels1 = labels1.to(device)\n",
    "        labels2 = labels2.to(device)\n",
    "        labels3 = labels3.to(device)\n",
    "        \n",
    "        optimizer.zero_grad()\n",
    "        outputs1,outputs2,outputs3 = resnet_34(inputs.unsqueeze(1).float().cuda())\n",
    "\n",
    "        loss1 = criterion(outputs1,labels1)\n",
    "        loss2 = criterion(outputs2,labels2)\n",
    "        loss3 = criterion(outputs3,labels3)\n",
    "\n",
    "        running_loss += loss1+loss2+loss3\n",
    "        running_acc += (outputs1.argmax(1)==labels1).float().mean()\n",
    "        running_acc += (outputs2.argmax(1)==labels2).float().mean()\n",
    "        running_acc += (outputs3.argmax(1)==labels3).float().mean()\n",
    "\n",
    "        (loss1+loss2+loss3).backward()\n",
    "        optimizer.step()\n",
    "\n",
    "    print('train acc : {:.2f}%'.format(running_acc/(len(train_loader)*3)))\n",
    "    print('train loss : {:.4f}'.format(running_loss/len(train_loader)))\n",
    "    \n",
    "#     resnet_34.eval()\n",
    "#     predictions = []\n",
    "#     with torch.no_grad():\n",
    "#         for idx, (inputs,labels1,labels2,labels3) in tqdm(enumerate(validation_loader), total=len(validation_loader)):\n",
    "#             inputs = inputs.to(device)\n",
    "#             labels1 = labels1.to(device)\n",
    "#             labels2 = labels2.to(device)\n",
    "#             labels3 = labels3.to(device)\n",
    "            \n",
    "#             outputs1,outputs2,outputs3 = resnet_34(inputs.unsqueeze(1).float().cuda())\n",
    "#             validation_acc += (outputs1.argmax(1)==labels1).float().mean()\n",
    "#             validation_acc += (outputs2.argmax(1)==labels2).float().mean()\n",
    "#             validation_acc += (outputs3.argmax(1)==labels3).float().mean()\n",
    "            \n",
    "            \n",
    "#             predictions.append([\n",
    "#                 outputs1.argmax(1).item(),\n",
    "#                 outputs2.argmax(1).item(),\n",
    "#                 outputs3.argmax(1).item()\n",
    "#            ])\n",
    "    \n",
    "#     predictions_df = pd.DataFrame(predictions, \n",
    "#           columns= [\"grapheme_root\", \"vowel_diacritic\", \"consonant_diacritic\"])\n",
    "    \n",
    "#     cnf_matrix_grapheme_root = metrics.confusion_matrix(\n",
    "#         np.array(validation_df[\"grapheme_root\"]), np.array(predictions_df[\"grapheme_root\"]))\n",
    "    \n",
    "#     sn.heatmap(cnf_matrix_grapheme_root, annot=True)\n",
    "    \n",
    "#     cnf_matrix_vowel_diacritic = metrics.confusion_matrix(\n",
    "#         np.array(validation_df[\"vowel_diacritic\"]), np.array(predictions_df[\"vowel_diacritic\"]))\n",
    "    \n",
    "#     sn.heatmap(cnf_matrix_vowel_diacritic, annot=True)\n",
    "    \n",
    "#     cnf_matrix_consonant_diacritic = metrics.confusion_matrix(\n",
    "#         np.array(validation_df[\"consonant_diacritic\"]), np.array(predictions_df[\"consonant_diacritic\"]))\n",
    "    \n",
    "#     sn.heatmap(cnf_matrix_consonant_diacritic, annot=True)\n",
    "    \n",
    "#     print('validation acc : {:.2f}%'.format(running_acc/(len(train_loader)*3)))\n",
    "\n",
    "#     if running_acc > best_acc:\n",
    "#         best_acc = running_acc\n",
    "#         best_model_wts = resnet_34.state_dict() \n",
    "\n",
    "    losses.append(running_loss/len(train_loader))\n",
    "    accs.append(running_acc/(len(train_loader)*3))\n",
    "    valid_accs.append(validation_acc/(len(validation_loader)*3))\n",
    "\n",
    "resnet_34.load_state_dict(best_model_wts)"
   ]
  },
  {
   "cell_type": "code",
   "execution_count": null,
   "metadata": {},
   "outputs": [],
   "source": [
    "import matplotlib.pyplot as plt\n",
    "fig,ax = plt.subplots(1,2,figsize=(15,5))\n",
    "ax[0].plot(losses)\n",
    "ax[0].set_title('loss')\n",
    "ax[1].plot(accs)\n",
    "ax[1].set_title('acc')"
   ]
  },
  {
   "cell_type": "code",
   "execution_count": null,
   "metadata": {},
   "outputs": [],
   "source": []
  }
 ],
 "metadata": {
  "kernelspec": {
   "display_name": "Python 3",
   "language": "python",
   "name": "python3"
  },
  "language_info": {
   "codemirror_mode": {
    "name": "ipython",
    "version": 3
   },
   "file_extension": ".py",
   "mimetype": "text/x-python",
   "name": "python",
   "nbconvert_exporter": "python",
   "pygments_lexer": "ipython3",
   "version": "3.6.8"
  }
 },
 "nbformat": 4,
 "nbformat_minor": 4
}
